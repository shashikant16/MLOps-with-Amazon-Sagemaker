{
 "cells": [
  {
   "cell_type": "markdown",
   "id": "6c095987-0137-4314-8327-3be747780a7c",
   "metadata": {
    "tags": []
   },
   "source": [
    "# Human Activity Recognition - AWS"
   ]
  },
  {
   "cell_type": "markdown",
   "id": "894db4cb-5b82-4573-8cfe-7b16358b696b",
   "metadata": {
    "tags": []
   },
   "source": [
    "### Problem Statement\n",
    "Let’s open the notebook “HAR Model training notebook”. The problem statement for this notebook is: Deploying the Human Activity Recognition problem using the Level 1 MLOps architecture, the aim is to enhance the experience of Blackmi's health app by overcoming the problems faced in the level 0 architecture. Utilising the Human Activity Recognition dataset, we will construct a machine-learning model along with the ML pipelines to categorise user activities for the real-time health alerts using AWS sagemaker studio. Here we will also be monitoring the model performance and deploy the model using different deployment techniques."
   ]
  },
  {
   "cell_type": "markdown",
   "id": "8e57df07-1b14-4dc2-9860-27cdf0ef8c93",
   "metadata": {
    "jp-MarkdownHeadingCollapsed": true,
    "tags": []
   },
   "source": [
    "### Approach \n",
    "In this notebook we will be building the level 1 architecture of MLOps, and our major focus would be on creating ML pipeline, model monitoring and model deployment. The major take away for this lesson is to learn:\n",
    "\n",
    "1. Feature engineering with the amazon sagemaker processing \n",
    "\n"
   ]
  },
  {
   "cell_type": "markdown",
   "id": "741cf658",
   "metadata": {
    "tags": []
   },
   "source": [
    "## 1. Importing the Libraries and Dataset "
   ]
  },
  {
   "cell_type": "code",
   "execution_count": 1,
   "id": "2f1123b0-e1a4-4d15-b0eb-0ff261b8f05e",
   "metadata": {
    "tags": []
   },
   "outputs": [
    {
     "name": "stdout",
     "output_type": "stream",
     "text": [
      "sagemaker.config INFO - Not applying SDK defaults from location: /etc/xdg/sagemaker/config.yaml\n",
      "sagemaker.config INFO - Not applying SDK defaults from location: /home/ec2-user/.config/sagemaker/config.yaml\n"
     ]
    }
   ],
   "source": [
    "# Importing all the necessary libraries \n",
    "# Importing pandas and numpy for data preprocessing. \n",
    "import pandas as pd\n",
    "import numpy as np\n",
    "# Boto3 is used for launching the EC2 instances and manipulating s3 buckets.\n",
    "import boto3\n",
    "# Sagemaker is imported for building, training and deploying machine learning models.\n",
    "import sagemaker"
   ]
  },
  {
   "cell_type": "code",
   "execution_count": 2,
   "id": "2e63645c-aed6-4890-9d73-93d1b5f6e98b",
   "metadata": {
    "tags": []
   },
   "outputs": [
    {
     "name": "stdout",
     "output_type": "stream",
     "text": [
      "sagemaker.config INFO - Not applying SDK defaults from location: /etc/xdg/sagemaker/config.yaml\n",
      "sagemaker.config INFO - Not applying SDK defaults from location: /home/ec2-user/.config/sagemaker/config.yaml\n",
      "sagemaker.config INFO - Not applying SDK defaults from location: /etc/xdg/sagemaker/config.yaml\n",
      "sagemaker.config INFO - Not applying SDK defaults from location: /home/ec2-user/.config/sagemaker/config.yaml\n"
     ]
    },
    {
     "data": {
      "text/plain": [
       "'ap-south-1'"
      ]
     },
     "execution_count": 2,
     "metadata": {},
     "output_type": "execute_result"
    }
   ],
   "source": [
    "# Initialising new sagemaker session as \"sess\".\n",
    "sess = sagemaker.Session()\n",
    "# Check for necessary permission needed for training and deploying models. \n",
    "role = sagemaker.get_execution_role()\n",
    "# To understand where this session is configured to operate.\n",
    "region = boto3.Session().region_name\n",
    "region"
   ]
  },
  {
   "cell_type": "code",
   "execution_count": 3,
   "id": "1db7e18d-cd51-4e22-8842-8953dbffcbd8",
   "metadata": {
    "tags": []
   },
   "outputs": [
    {
     "data": {
      "text/plain": [
       "'sagemaker-ap-south-1-009676737623'"
      ]
     },
     "execution_count": 3,
     "metadata": {},
     "output_type": "execute_result"
    }
   ],
   "source": [
    "# Bucket variable is used for storing the location of the bucket\n",
    "bucket = sess.default_bucket()\n",
    "bucket"
   ]
  },
  {
   "cell_type": "code",
   "execution_count": 4,
   "id": "6895d1d8-9c61-4e97-a154-280490992c33",
   "metadata": {
    "tags": []
   },
   "outputs": [
    {
     "data": {
      "text/plain": [
       "'s3://mlopslevel1aws/sagemaker-ap-south-1-009676737623/train_data.gzip'"
      ]
     },
     "execution_count": 4,
     "metadata": {},
     "output_type": "execute_result"
    }
   ],
   "source": [
    "# Assigning the prefix variable\n",
    "prefix = \"mlopslevel1aws\"\n",
    "#'mlops-level-1-demo'\n",
    "# input_source variable is used for storing the location of the dataset\n",
    "input_source = f's3://{prefix}/{bucket}/train_data.gzip'\n",
    "input_source"
   ]
  },
  {
   "cell_type": "code",
   "execution_count": 5,
   "id": "f4dae5ee-28d5-43a8-a079-938fceaef0d9",
   "metadata": {
    "scrolled": true,
    "tags": []
   },
   "outputs": [
    {
     "data": {
      "text/plain": [
       "(100000, 563)"
      ]
     },
     "execution_count": 5,
     "metadata": {},
     "output_type": "execute_result"
    }
   ],
   "source": [
    "# Reading the dataset using the read_parquet format.\n",
    "df = pd.read_parquet(input_source)\n",
    "df.shape"
   ]
  },
  {
   "cell_type": "code",
   "execution_count": 6,
   "id": "325647de-e8a8-4440-80f2-9bc08c2d82ba",
   "metadata": {
    "tags": []
   },
   "outputs": [],
   "source": [
    "# Limiting the dataset to top 10k rows\n",
    "# df = df.head(10000)\n",
    "# df.shape\n",
    "\n",
    "# Let's save the dataset in the S3 bucket and update the name as \"updated_training_data\"\n",
    "# import boto3\n",
    "# import os\n",
    "\n",
    "# Assuming 'df' is your updated DataFrame\n",
    "\n",
    "# Convert DataFrame to gzip compressed CSV\n",
    "# df.to_csv('updated_train_data.gzip', index=False, compression='gzip')\n",
    "\n",
    "# Define your S3 bucket and file path\n",
    "# file_key = 'mlops-level1-data/updated_train_data.gzip'\n",
    "\n",
    "# Get the S3 client\n",
    "# s3_client = boto3.client('s3')\n",
    "# Upload the file to S3\n",
    "# s3_client.upload_file('updated_train_data.gzip', bucket, file_key)"
   ]
  },
  {
   "cell_type": "code",
   "execution_count": 7,
   "id": "8e7bf30b-faaa-4648-aa26-4875bb2e5a80",
   "metadata": {
    "scrolled": true,
    "tags": []
   },
   "outputs": [
    {
     "data": {
      "text/html": [
       "<div>\n",
       "<style scoped>\n",
       "    .dataframe tbody tr th:only-of-type {\n",
       "        vertical-align: middle;\n",
       "    }\n",
       "\n",
       "    .dataframe tbody tr th {\n",
       "        vertical-align: top;\n",
       "    }\n",
       "\n",
       "    .dataframe thead th {\n",
       "        text-align: right;\n",
       "    }\n",
       "</style>\n",
       "<table border=\"1\" class=\"dataframe\">\n",
       "  <thead>\n",
       "    <tr style=\"text-align: right;\">\n",
       "      <th></th>\n",
       "      <th>tBodyAcc-mean()-X</th>\n",
       "      <th>tBodyAcc-mean()-Y</th>\n",
       "      <th>tBodyAcc-mean()-Z</th>\n",
       "      <th>tBodyAcc-std()-X</th>\n",
       "      <th>tBodyAcc-std()-Y</th>\n",
       "      <th>tBodyAcc-std()-Z</th>\n",
       "      <th>tBodyAcc-mad()-X</th>\n",
       "      <th>tBodyAcc-mad()-Y</th>\n",
       "      <th>tBodyAcc-mad()-Z</th>\n",
       "      <th>tBodyAcc-max()-X</th>\n",
       "      <th>...</th>\n",
       "      <th>fBodyBodyGyroJerkMag-kurtosis()</th>\n",
       "      <th>angle(tBodyAccMean,gravity)</th>\n",
       "      <th>angle(tBodyAccJerkMean),gravityMean)</th>\n",
       "      <th>angle(tBodyGyroMean,gravityMean)</th>\n",
       "      <th>angle(tBodyGyroJerkMean,gravityMean)</th>\n",
       "      <th>angle(X,gravityMean)</th>\n",
       "      <th>angle(Y,gravityMean)</th>\n",
       "      <th>angle(Z,gravityMean)</th>\n",
       "      <th>date_time</th>\n",
       "      <th>Activity</th>\n",
       "    </tr>\n",
       "  </thead>\n",
       "  <tbody>\n",
       "    <tr>\n",
       "      <th>0</th>\n",
       "      <td>0.229771</td>\n",
       "      <td>0.006191</td>\n",
       "      <td>-0.063642</td>\n",
       "      <td>0.148432</td>\n",
       "      <td>-0.017294</td>\n",
       "      <td>-0.214122</td>\n",
       "      <td>0.109120</td>\n",
       "      <td>-0.140795</td>\n",
       "      <td>-0.060678</td>\n",
       "      <td>0.136123</td>\n",
       "      <td>...</td>\n",
       "      <td>-0.669427</td>\n",
       "      <td>0.001615</td>\n",
       "      <td>-0.503460</td>\n",
       "      <td>-0.695799</td>\n",
       "      <td>0.618240</td>\n",
       "      <td>-0.487791</td>\n",
       "      <td>0.006897</td>\n",
       "      <td>0.012113</td>\n",
       "      <td>2020-01-01 01:00:00</td>\n",
       "      <td>WALKING_DOWNSTAIRS</td>\n",
       "    </tr>\n",
       "    <tr>\n",
       "      <th>1</th>\n",
       "      <td>0.096259</td>\n",
       "      <td>-0.004479</td>\n",
       "      <td>-0.011539</td>\n",
       "      <td>-0.628955</td>\n",
       "      <td>-0.803592</td>\n",
       "      <td>-0.217212</td>\n",
       "      <td>-0.174894</td>\n",
       "      <td>-0.421507</td>\n",
       "      <td>-0.025912</td>\n",
       "      <td>-0.539172</td>\n",
       "      <td>...</td>\n",
       "      <td>-0.286686</td>\n",
       "      <td>-0.079703</td>\n",
       "      <td>0.052752</td>\n",
       "      <td>0.000921</td>\n",
       "      <td>-0.014742</td>\n",
       "      <td>0.155335</td>\n",
       "      <td>-0.236586</td>\n",
       "      <td>-0.277595</td>\n",
       "      <td>2020-01-01 01:01:00</td>\n",
       "      <td>LAYING</td>\n",
       "    </tr>\n",
       "    <tr>\n",
       "      <th>2</th>\n",
       "      <td>0.034372</td>\n",
       "      <td>-0.043343</td>\n",
       "      <td>-0.311560</td>\n",
       "      <td>-0.075527</td>\n",
       "      <td>-0.063103</td>\n",
       "      <td>0.025375</td>\n",
       "      <td>-0.032692</td>\n",
       "      <td>-0.083888</td>\n",
       "      <td>0.127356</td>\n",
       "      <td>-0.021718</td>\n",
       "      <td>...</td>\n",
       "      <td>-0.136133</td>\n",
       "      <td>0.005180</td>\n",
       "      <td>0.202458</td>\n",
       "      <td>0.084711</td>\n",
       "      <td>-0.297366</td>\n",
       "      <td>-0.540108</td>\n",
       "      <td>0.063798</td>\n",
       "      <td>0.131656</td>\n",
       "      <td>2020-01-01 01:02:00</td>\n",
       "      <td>WALKING_UPSTAIRS</td>\n",
       "    </tr>\n",
       "    <tr>\n",
       "      <th>3</th>\n",
       "      <td>0.024097</td>\n",
       "      <td>0.009133</td>\n",
       "      <td>-0.086416</td>\n",
       "      <td>0.071118</td>\n",
       "      <td>0.006441</td>\n",
       "      <td>-0.122816</td>\n",
       "      <td>-0.032050</td>\n",
       "      <td>0.024451</td>\n",
       "      <td>-0.164227</td>\n",
       "      <td>0.075734</td>\n",
       "      <td>...</td>\n",
       "      <td>-0.206189</td>\n",
       "      <td>0.047049</td>\n",
       "      <td>0.292424</td>\n",
       "      <td>0.064996</td>\n",
       "      <td>0.100568</td>\n",
       "      <td>-0.682927</td>\n",
       "      <td>0.130937</td>\n",
       "      <td>0.021554</td>\n",
       "      <td>2020-01-01 01:03:00</td>\n",
       "      <td>WALKING_DOWNSTAIRS</td>\n",
       "    </tr>\n",
       "    <tr>\n",
       "      <th>4</th>\n",
       "      <td>0.225618</td>\n",
       "      <td>-0.013047</td>\n",
       "      <td>-0.103685</td>\n",
       "      <td>-0.189633</td>\n",
       "      <td>-0.674050</td>\n",
       "      <td>-0.602043</td>\n",
       "      <td>-0.820340</td>\n",
       "      <td>-0.008993</td>\n",
       "      <td>-0.988655</td>\n",
       "      <td>-0.698891</td>\n",
       "      <td>...</td>\n",
       "      <td>-0.843761</td>\n",
       "      <td>0.008899</td>\n",
       "      <td>-0.189814</td>\n",
       "      <td>-0.075739</td>\n",
       "      <td>-0.130241</td>\n",
       "      <td>-0.059553</td>\n",
       "      <td>-0.011284</td>\n",
       "      <td>-0.077751</td>\n",
       "      <td>2020-01-01 01:04:00</td>\n",
       "      <td>SITTING</td>\n",
       "    </tr>\n",
       "  </tbody>\n",
       "</table>\n",
       "<p>5 rows × 563 columns</p>\n",
       "</div>"
      ],
      "text/plain": [
       "   tBodyAcc-mean()-X  tBodyAcc-mean()-Y  tBodyAcc-mean()-Z  tBodyAcc-std()-X  \\\n",
       "0           0.229771           0.006191          -0.063642          0.148432   \n",
       "1           0.096259          -0.004479          -0.011539         -0.628955   \n",
       "2           0.034372          -0.043343          -0.311560         -0.075527   \n",
       "3           0.024097           0.009133          -0.086416          0.071118   \n",
       "4           0.225618          -0.013047          -0.103685         -0.189633   \n",
       "\n",
       "   tBodyAcc-std()-Y  tBodyAcc-std()-Z  tBodyAcc-mad()-X  tBodyAcc-mad()-Y  \\\n",
       "0         -0.017294         -0.214122          0.109120         -0.140795   \n",
       "1         -0.803592         -0.217212         -0.174894         -0.421507   \n",
       "2         -0.063103          0.025375         -0.032692         -0.083888   \n",
       "3          0.006441         -0.122816         -0.032050          0.024451   \n",
       "4         -0.674050         -0.602043         -0.820340         -0.008993   \n",
       "\n",
       "   tBodyAcc-mad()-Z  tBodyAcc-max()-X  ...  fBodyBodyGyroJerkMag-kurtosis()  \\\n",
       "0         -0.060678          0.136123  ...                        -0.669427   \n",
       "1         -0.025912         -0.539172  ...                        -0.286686   \n",
       "2          0.127356         -0.021718  ...                        -0.136133   \n",
       "3         -0.164227          0.075734  ...                        -0.206189   \n",
       "4         -0.988655         -0.698891  ...                        -0.843761   \n",
       "\n",
       "   angle(tBodyAccMean,gravity)  angle(tBodyAccJerkMean),gravityMean)  \\\n",
       "0                     0.001615                             -0.503460   \n",
       "1                    -0.079703                              0.052752   \n",
       "2                     0.005180                              0.202458   \n",
       "3                     0.047049                              0.292424   \n",
       "4                     0.008899                             -0.189814   \n",
       "\n",
       "   angle(tBodyGyroMean,gravityMean)  angle(tBodyGyroJerkMean,gravityMean)  \\\n",
       "0                         -0.695799                              0.618240   \n",
       "1                          0.000921                             -0.014742   \n",
       "2                          0.084711                             -0.297366   \n",
       "3                          0.064996                              0.100568   \n",
       "4                         -0.075739                             -0.130241   \n",
       "\n",
       "   angle(X,gravityMean)  angle(Y,gravityMean)  angle(Z,gravityMean)  \\\n",
       "0             -0.487791              0.006897              0.012113   \n",
       "1              0.155335             -0.236586             -0.277595   \n",
       "2             -0.540108              0.063798              0.131656   \n",
       "3             -0.682927              0.130937              0.021554   \n",
       "4             -0.059553             -0.011284             -0.077751   \n",
       "\n",
       "            date_time            Activity  \n",
       "0 2020-01-01 01:00:00  WALKING_DOWNSTAIRS  \n",
       "1 2020-01-01 01:01:00              LAYING  \n",
       "2 2020-01-01 01:02:00    WALKING_UPSTAIRS  \n",
       "3 2020-01-01 01:03:00  WALKING_DOWNSTAIRS  \n",
       "4 2020-01-01 01:04:00             SITTING  \n",
       "\n",
       "[5 rows x 563 columns]"
      ]
     },
     "execution_count": 7,
     "metadata": {},
     "output_type": "execute_result"
    }
   ],
   "source": [
    "# Displaying first few rows of the dataset\n",
    "df.head()"
   ]
  },
  {
   "cell_type": "code",
   "execution_count": 8,
   "id": "a5fd9274-c169-4b62-ab1b-4b2d531d1685",
   "metadata": {
    "tags": []
   },
   "outputs": [
    {
     "data": {
      "text/plain": [
       "Text(0, 0.5, 'Activity Count')"
      ]
     },
     "execution_count": 8,
     "metadata": {},
     "output_type": "execute_result"
    },
    {
     "data": {
      "image/png": "[encoded data removed]",
      "text/plain": [
       "<Figure size 640x480 with 1 Axes>"
      ]
     },
     "metadata": {
      "image/png": {
       "height": 605,
       "width": 589
      }
     },
     "output_type": "display_data"
    }
   ],
   "source": [
    "# Visualising the data distribution of the Activity column\n",
    "import matplotlib.pyplot as plt\n",
    "\n",
    "%matplotlib inline\n",
    "%config InlineBackend.figure_format='retina'\n",
    "\n",
    "df.groupby(\"Activity\")[['Activity']].count().plot(kind=\"bar\", title=\"Categorical Data Distribution\")\n",
    "plt.xlabel(\"Activity\")\n",
    "plt.ylabel(\"Activity Count\")"
   ]
  },
  {
   "cell_type": "markdown",
   "id": "27eab099-4c31-462b-aeaf-46d5bcc9c1d6",
   "metadata": {
    "tags": []
   },
   "source": [
    "## 2. Orchestrated Experiment (Feature Engineering with Amazon SageMaker Processing)"
   ]
  },
  {
   "cell_type": "markdown",
   "id": "558b1f04",
   "metadata": {
    "tags": []
   },
   "source": [
    "### 2.1 Data Pipeline "
   ]
  },
  {
   "cell_type": "code",
   "execution_count": 60,
   "id": "c741aa1c-4236-4157-a207-d1b02e80ba17",
   "metadata": {
    "tags": []
   },
   "outputs": [
    {
     "name": "stdout",
     "output_type": "stream",
     "text": [
      "Overwriting preprocessing.py\n"
     ]
    }
   ],
   "source": [
    "%%writefile preprocessing.py\n",
    "\n",
    "import pandas as pd\n",
    "import numpy as np\n",
    "import argparse\n",
    "import os\n",
    "from joblib import dump, load\n",
    "from sklearn.preprocessing import LabelEncoder\n",
    "from sklearn.ensemble import ExtraTreesClassifier\n",
    "def _parse_args():\n",
    "\n",
    "    parser = argparse.ArgumentParser()\n",
    "    \n",
    "    # Data, model, and output directories\n",
    "    # model_dir is always passed in from SageMaker. By default this is a S3 path under the default bucket.\n",
    "    parser.add_argument('--filepath', type=str, default='/opt/ml/processing/input/')\n",
    "    parser.add_argument('--filename', type=str, default='train_data.gzip')\n",
    "    parser.add_argument('--outputpath', type=str, default='/opt/ml/processing/output/')\n",
    "\n",
    "    return parser.parse_known_args()\n",
    "\n",
    "# Defining a function to extract the top k features \n",
    "def get_top_k_features(X, Y, k):\n",
    "        clf = ExtraTreesClassifier(n_estimators=50)\n",
    "        clf = clf.fit(X, Y)\n",
    "        feature_df = pd.DataFrame(\n",
    "            data=(X.columns, clf.feature_importances_)\n",
    "        ).T.sort_values(by=1, ascending=False)\n",
    "        cols = feature_df.head(k)[0].values\n",
    "        return cols\n",
    "\n",
    "if __name__==\"__main__\":\n",
    "    # Process arguments\n",
    "    args, _ = _parse_args()\n",
    "    # Load data\n",
    "    path = os.path.join(args.filepath,args.filename)\n",
    "    print(path)\n",
    "    \n",
    "    # Reading the dataset and performing label encoding \n",
    "    df = pd.read_parquet(os.path.join(args.filepath,args.filename))\n",
    "    le = LabelEncoder()\n",
    "    df['Activity'] = le.fit_transform(df['Activity'])\n",
    "    df.drop(['date_time'],axis =1 ,inplace = True)\n",
    "\n",
    "    # Assignining the indepeneded and depended variable \n",
    "    X = df.drop(['Activity'], axis =1)\n",
    "    Y = df['Activity']\n",
    "    \n",
    "    # Extracting top 12 important feature and filtering the dataset\n",
    "    k =12\n",
    "    final_cols = get_top_k_features(X, Y, k)\n",
    "    final_cols = np.append(final_cols,np.array(['Activity']))\n",
    "    df = df[final_cols]\n",
    "    \n",
    "    # Train, test, validation split\n",
    "    # Randomly sort the data then split out first 70%, second 20%, and last 10%\n",
    "    train_data, validation_data, test_data = np.split(df.sample(frac=1, random_state=42), [int(0.8 * len(df)), int(0.9 * len(df))])  \n",
    "    \n",
    "    # Storing of train, validation and test datasets \n",
    "    pd.concat([train_data['Activity'], train_data.drop(['Activity'], axis=1)], axis=1).to_csv(os.path.join(args.outputpath, 'train/train.csv'), index=False, header=False)\n",
    "    pd.concat([validation_data['Activity'], validation_data.drop(['Activity'], axis=1)], axis=1).to_csv(os.path.join(args.outputpath, 'validation/validation.csv'), index=False, header=False)\n",
    "    test_data[['Activity']].to_csv(os.path.join(args.outputpath, 'test/test_y.csv'), index=False, header=False)\n",
    "    test_data.drop(['Activity'], axis=1).to_csv(os.path.join(args.outputpath, 'test/test_x.csv'), index=False, header=False)\n",
    "    \n",
    "    ## Save Features columns\n",
    "    dump(final_cols, os.path.join(args.outputpath, 'feature/feature.joblib'))\n",
    "    ## Save Encoder\n",
    "    dump(le, os.path.join(args.outputpath, 'feature/encoder.joblib'))\n",
    "    \n",
    "    print(\"## Processing complete. Exiting.\")"
   ]
  },
  {
   "cell_type": "code",
   "execution_count": 61,
   "id": "5522538f-57f2-457a-8936-b11ca432384c",
   "metadata": {
    "tags": []
   },
   "outputs": [],
   "source": [
    "train_path = f\"s3://{prefix}/{bucket}/train\"\n",
    "validation_path = f\"s3://{prefix}/{bucket}/validation\"\n",
    "test_path = f\"s3://{prefix}/{bucket}/test\"\n",
    "feature_path = f\"s3://{prefix}/{bucket}/feature\""
   ]
  },
  {
   "cell_type": "code",
   "execution_count": 62,
   "id": "aa725f3b-c253-4c84-afd5-7a24e3a7fa81",
   "metadata": {
    "tags": []
   },
   "outputs": [
    {
     "name": "stdout",
     "output_type": "stream",
     "text": [
      "sagemaker.config INFO - Not applying SDK defaults from location: /etc/xdg/sagemaker/config.yaml\n",
      "sagemaker.config INFO - Not applying SDK defaults from location: /home/ec2-user/.config/sagemaker/config.yaml\n",
      "sagemaker.config INFO - Not applying SDK defaults from location: /etc/xdg/sagemaker/config.yaml\n",
      "sagemaker.config INFO - Not applying SDK defaults from location: /home/ec2-user/.config/sagemaker/config.yaml\n"
     ]
    },
    {
     "name": "stderr",
     "output_type": "stream",
     "text": [
      "INFO:sagemaker:Creating processing-job with name sklearn-data-preprocessing-2023-11-09-08-25-45-381\n"
     ]
    },
    {
     "name": "stdout",
     "output_type": "stream",
     "text": [
      "........................................................................\u001b[34m/opt/ml/processing/input/train_data.gzip\u001b[0m\n",
      "\u001b[34m## Processing complete. Exiting.\u001b[0m\n",
      "\n"
     ]
    }
   ],
   "source": [
    "# Importing necessary library for data processing \n",
    "from sagemaker.sklearn.processing import SKLearnProcessor\n",
    "from sagemaker.processing import ProcessingInput, ProcessingOutput\n",
    "from sagemaker import get_execution_role\n",
    "\n",
    "sklearn_processor = SKLearnProcessor(\n",
    "    framework_version=\"0.23-1\",\n",
    "    role=get_execution_role(),\n",
    "    instance_type=\"ml.t3.medium\",\n",
    "    instance_count=1,\n",
    "    base_job_name='sklearn-data-preprocessing'\n",
    ")\n",
    "\n",
    "sklearn_processor.run(\n",
    "    code='preprocessing.py',\n",
    "    inputs=[\n",
    "        ProcessingInput(\n",
    "            source=input_source, \n",
    "            destination=\"/opt/ml/processing/input\",\n",
    "            s3_input_mode=\"File\",\n",
    "            s3_data_distribution_type=\"ShardedByS3Key\"\n",
    "        )\n",
    "    ],\n",
    "    outputs=[\n",
    "        ProcessingOutput(\n",
    "            output_name=\"train_data\", \n",
    "            source=\"/opt/ml/processing/output/train\",\n",
    "            destination=train_path,\n",
    "        ),\n",
    "        ProcessingOutput(output_name=\"validation_data\", source=\"/opt/ml/processing/output/validation\", destination=validation_path),\n",
    "        ProcessingOutput(output_name=\"test_data\", source=\"/opt/ml/processing/output/test\", destination=test_path),\n",
    "        ProcessingOutput(output_name=\"feature_data\", source=\"/opt/ml/processing/output/feature\", destination=feature_path)\n",
    "    ]\n",
    ")"
   ]
  },
  {
   "cell_type": "markdown",
   "id": "3f03df72-150c-403f-a8ec-045800786489",
   "metadata": {
    "jp-MarkdownHeadingCollapsed": true,
    "tags": []
   },
   "source": [
    "## 2.2 Model Training Pipeline "
   ]
  },
  {
   "cell_type": "code",
   "execution_count": 63,
   "id": "5c264cd4-10d5-4847-b508-296ea7ee98d3",
   "metadata": {
    "tags": []
   },
   "outputs": [],
   "source": [
    "s3_input_train = sagemaker.TrainingInput(s3_data=train_path.format(bucket, prefix), \n",
    "                                                    content_type='csv')\n",
    "s3_input_validation = sagemaker.TrainingInput(s3_data=validation_path.format(bucket, prefix),\n",
    "                                                     content_type='csv')"
   ]
  },
  {
   "cell_type": "code",
   "execution_count": 64,
   "id": "f8047c90-e191-4ab7-8014-6184be3c3d07",
   "metadata": {
    "tags": []
   },
   "outputs": [],
   "source": [
    "# Model pipeline"
   ]
  },
  {
   "cell_type": "code",
   "execution_count": 65,
   "id": "1449514a-1c38-489c-a363-e205d4adc54d",
   "metadata": {
    "tags": []
   },
   "outputs": [
    {
     "name": "stdout",
     "output_type": "stream",
     "text": [
      "Overwriting sklearn-train.py\n"
     ]
    }
   ],
   "source": [
    "%%writefile sklearn-train.py \n",
    "\n",
    "from sklearn.ensemble import RandomForestClassifier\n",
    "from sklearn.metrics import accuracy_score\n",
    "from joblib import dump, load\n",
    "import pandas as pd, numpy as np, os, argparse\n",
    "\n",
    "## predict \n",
    "\n",
    "# inference function - tells SageMaker how to load the model\n",
    "def model_fn(model_dir):\n",
    "    clf = load(os.path.join(model_dir, \"model.joblib\"))\n",
    "    return clf    \n",
    "\n",
    "# Argument parser\n",
    "def _parse_args():\n",
    "    parser = argparse.ArgumentParser()\n",
    "    # Hyperparameters\n",
    "    parser.add_argument(\"--n-estimators\", type=int, default=10)\n",
    "    parser.add_argument(\"--min-samples-leaf\", type=int, default=3)\n",
    "    # Data, model, and output directories\n",
    "    parser.add_argument(\"--model-dir\", type=str, default=os.environ.get(\"SM_MODEL_DIR\"))\n",
    "    parser.add_argument(\"--train\", type=str, default=os.environ.get(\"SM_CHANNEL_TRAIN\"))\n",
    "    parser.add_argument(\"--test\", type=str, default=os.environ.get(\"SM_CHANNEL_TEST\"))\n",
    "    parser.add_argument(\"--train-file\", type=str, default=\"train.csv\")\n",
    "    parser.add_argument(\"--test-file\", type=str, default=\"test.csv\")\n",
    "    # Parse the arguments\n",
    "    return parser.parse_known_args()\n",
    "\n",
    "# Main Training Loop\n",
    "if __name__==\"__main__\":\n",
    "    # Process arguments\n",
    "    args, _ = _parse_args()\n",
    "    # Load the dataset\n",
    "    train_df = pd.read_csv(os.path.join(args.train, args.train_file))\n",
    "    test_df = pd.read_csv(os.path.join(args.test, args.test_file))\n",
    "    # Separate X and y\n",
    "    X_train, y_train = train_df.drop(train_df.columns[0], axis=1), train_df[train_df.columns[0]]\n",
    "    X_test, y_test = test_df.drop(test_df.columns[0], axis=1), test_df[test_df.columns[0]]\n",
    "    # Define the model and train it\n",
    "    model = RandomForestClassifier(\n",
    "        n_estimators=args.n_estimators, n_jobs=-1\n",
    "    )\n",
    "    model.fit(X_train, y_train)\n",
    "    # Evaluate the model performances\n",
    "    print(f'Model Accuracy: {accuracy_score(y_test, model.predict(X_test))}')\n",
    "    dump(model, os.path.join(args.model_dir, 'model.joblib'))"
   ]
  },
  {
   "cell_type": "code",
   "execution_count": 66,
   "id": "5b4fd364-fe2d-4a93-9305-3035093bcfee",
   "metadata": {
    "tags": []
   },
   "outputs": [
    {
     "name": "stdout",
     "output_type": "stream",
     "text": [
      "sagemaker.config INFO - Not applying SDK defaults from location: /etc/xdg/sagemaker/config.yaml\n",
      "sagemaker.config INFO - Not applying SDK defaults from location: /home/ec2-user/.config/sagemaker/config.yaml\n",
      "sagemaker.config INFO - Not applying SDK defaults from location: /etc/xdg/sagemaker/config.yaml\n",
      "sagemaker.config INFO - Not applying SDK defaults from location: /home/ec2-user/.config/sagemaker/config.yaml\n"
     ]
    },
    {
     "name": "stderr",
     "output_type": "stream",
     "text": [
      "INFO:sagemaker:Creating training-job with name: rf-scikit-2023-11-09-08-46-32-672\n"
     ]
    },
    {
     "name": "stdout",
     "output_type": "stream",
     "text": [
      "Using provided s3_resource\n",
      "2023-11-09 08:46:33 Starting - Starting the training job...\n",
      "2023-11-09 08:46:48 Starting - Preparing the instances for training...\n",
      "2023-11-09 08:47:29 Downloading - Downloading input data......\n",
      "2023-11-09 08:48:14 Training - Training image download completed. Training in progress.\u001b[34m2023-11-09 08:48:16,979 sagemaker-containers INFO     Imported framework sagemaker_sklearn_container.training\u001b[0m\n",
      "\u001b[34m2023-11-09 08:48:16,982 sagemaker-training-toolkit INFO     No GPUs detected (normal if no gpus installed)\u001b[0m\n",
      "\u001b[34m2023-11-09 08:48:17,018 sagemaker_sklearn_container.training INFO     Invoking user training script.\u001b[0m\n",
      "\u001b[34m2023-11-09 08:48:17,153 sagemaker-training-toolkit INFO     No GPUs detected (normal if no gpus installed)\u001b[0m\n",
      "\u001b[34m2023-11-09 08:48:17,164 sagemaker-training-toolkit INFO     No GPUs detected (normal if no gpus installed)\u001b[0m\n",
      "\u001b[34m2023-11-09 08:48:17,174 sagemaker-training-toolkit INFO     No GPUs detected (normal if no gpus installed)\u001b[0m\n",
      "\u001b[34m2023-11-09 08:48:17,182 sagemaker-training-toolkit INFO     Invoking user script\u001b[0m\n",
      "\u001b[34mTraining Env:\u001b[0m\n",
      "\u001b[34m{\n",
      "    \"additional_framework_parameters\": {},\n",
      "    \"channel_input_dirs\": {\n",
      "        \"test\": \"/opt/ml/input/data/test\",\n",
      "        \"train\": \"/opt/ml/input/data/train\"\n",
      "    },\n",
      "    \"current_host\": \"algo-1\",\n",
      "    \"framework_module\": \"sagemaker_sklearn_container.training:main\",\n",
      "    \"hosts\": [\n",
      "        \"algo-1\"\n",
      "    ],\n",
      "    \"hyperparameters\": {\n",
      "        \"min-samples-leaf\": 3,\n",
      "        \"n-estimators\": 120,\n",
      "        \"test-file\": \"validation.csv\"\n",
      "    },\n",
      "    \"input_config_dir\": \"/opt/ml/input/config\",\n",
      "    \"input_data_config\": {\n",
      "        \"test\": {\n",
      "            \"ContentType\": \"csv\",\n",
      "            \"TrainingInputMode\": \"File\",\n",
      "            \"S3DistributionType\": \"FullyReplicated\",\n",
      "            \"RecordWrapperType\": \"None\"\n",
      "        },\n",
      "        \"train\": {\n",
      "            \"ContentType\": \"csv\",\n",
      "            \"TrainingInputMode\": \"File\",\n",
      "            \"S3DistributionType\": \"FullyReplicated\",\n",
      "            \"RecordWrapperType\": \"None\"\n",
      "        }\n",
      "    },\n",
      "    \"input_dir\": \"/opt/ml/input\",\n",
      "    \"is_master\": true,\n",
      "    \"job_name\": \"rf-scikit-2023-11-09-08-46-32-672\",\n",
      "    \"log_level\": 20,\n",
      "    \"master_hostname\": \"algo-1\",\n",
      "    \"model_dir\": \"/opt/ml/model\",\n",
      "    \"module_dir\": \"s3://sagemaker-ap-south-1-009676737623/rf-scikit-2023-11-09-08-46-32-672/source/sourcedir.tar.gz\",\n",
      "    \"module_name\": \"sklearn-train\",\n",
      "    \"network_interface_name\": \"eth0\",\n",
      "    \"num_cpus\": 4,\n",
      "    \"num_gpus\": 0,\n",
      "    \"output_data_dir\": \"/opt/ml/output/data\",\n",
      "    \"output_dir\": \"/opt/ml/output\",\n",
      "    \"output_intermediate_dir\": \"/opt/ml/output/intermediate\",\n",
      "    \"resource_config\": {\n",
      "        \"current_host\": \"algo-1\",\n",
      "        \"current_instance_type\": \"ml.c5.xlarge\",\n",
      "        \"current_group_name\": \"homogeneousCluster\",\n",
      "        \"hosts\": [\n",
      "            \"algo-1\"\n",
      "        ],\n",
      "        \"instance_groups\": [\n",
      "            {\n",
      "                \"instance_group_name\": \"homogeneousCluster\",\n",
      "                \"instance_type\": \"ml.c5.xlarge\",\n",
      "                \"hosts\": [\n",
      "                    \"algo-1\"\n",
      "                ]\n",
      "            }\n",
      "        ],\n",
      "        \"network_interface_name\": \"eth0\"\n",
      "    },\n",
      "    \"user_entry_point\": \"sklearn-train.py\"\u001b[0m\n",
      "\u001b[34m}\u001b[0m\n",
      "\u001b[34mEnvironment variables:\u001b[0m\n",
      "\u001b[34mSM_HOSTS=[\"algo-1\"]\u001b[0m\n",
      "\u001b[34mSM_NETWORK_INTERFACE_NAME=eth0\u001b[0m\n",
      "\u001b[34mSM_HPS={\"min-samples-leaf\":3,\"n-estimators\":120,\"test-file\":\"validation.csv\"}\u001b[0m\n",
      "\u001b[34mSM_USER_ENTRY_POINT=sklearn-train.py\u001b[0m\n",
      "\u001b[34mSM_FRAMEWORK_PARAMS={}\u001b[0m\n",
      "\u001b[34mSM_RESOURCE_CONFIG={\"current_group_name\":\"homogeneousCluster\",\"current_host\":\"algo-1\",\"current_instance_type\":\"ml.c5.xlarge\",\"hosts\":[\"algo-1\"],\"instance_groups\":[{\"hosts\":[\"algo-1\"],\"instance_group_name\":\"homogeneousCluster\",\"instance_type\":\"ml.c5.xlarge\"}],\"network_interface_name\":\"eth0\"}\u001b[0m\n",
      "\u001b[34mSM_INPUT_DATA_CONFIG={\"test\":{\"ContentType\":\"csv\",\"RecordWrapperType\":\"None\",\"S3DistributionType\":\"FullyReplicated\",\"TrainingInputMode\":\"File\"},\"train\":{\"ContentType\":\"csv\",\"RecordWrapperType\":\"None\",\"S3DistributionType\":\"FullyReplicated\",\"TrainingInputMode\":\"File\"}}\u001b[0m\n",
      "\u001b[34mSM_OUTPUT_DATA_DIR=/opt/ml/output/data\u001b[0m\n",
      "\u001b[34mSM_CHANNELS=[\"test\",\"train\"]\u001b[0m\n",
      "\u001b[34mSM_CURRENT_HOST=algo-1\u001b[0m\n",
      "\u001b[34mSM_MODULE_NAME=sklearn-train\u001b[0m\n",
      "\u001b[34mSM_LOG_LEVEL=20\u001b[0m\n",
      "\u001b[34mSM_FRAMEWORK_MODULE=sagemaker_sklearn_container.training:main\u001b[0m\n",
      "\u001b[34mSM_INPUT_DIR=/opt/ml/input\u001b[0m\n",
      "\u001b[34mSM_INPUT_CONFIG_DIR=/opt/ml/input/config\u001b[0m\n",
      "\u001b[34mSM_OUTPUT_DIR=/opt/ml/output\u001b[0m\n",
      "\u001b[34mSM_NUM_CPUS=4\u001b[0m\n",
      "\u001b[34mSM_NUM_GPUS=0\u001b[0m\n",
      "\u001b[34mSM_MODEL_DIR=/opt/ml/model\u001b[0m\n",
      "\u001b[34mSM_MODULE_DIR=s3://sagemaker-ap-south-1-009676737623/rf-scikit-2023-11-09-08-46-32-672/source/sourcedir.tar.gz\u001b[0m\n",
      "\u001b[34mSM_TRAINING_ENV={\"additional_framework_parameters\":{},\"channel_input_dirs\":{\"test\":\"/opt/ml/input/data/test\",\"train\":\"/opt/ml/input/data/train\"},\"current_host\":\"algo-1\",\"framework_module\":\"sagemaker_sklearn_container.training:main\",\"hosts\":[\"algo-1\"],\"hyperparameters\":{\"min-samples-leaf\":3,\"n-estimators\":120,\"test-file\":\"validation.csv\"},\"input_config_dir\":\"/opt/ml/input/config\",\"input_data_config\":{\"test\":{\"ContentType\":\"csv\",\"RecordWrapperType\":\"None\",\"S3DistributionType\":\"FullyReplicated\",\"TrainingInputMode\":\"File\"},\"train\":{\"ContentType\":\"csv\",\"RecordWrapperType\":\"None\",\"S3DistributionType\":\"FullyReplicated\",\"TrainingInputMode\":\"File\"}},\"input_dir\":\"/opt/ml/input\",\"is_master\":true,\"job_name\":\"rf-scikit-2023-11-09-08-46-32-672\",\"log_level\":20,\"master_hostname\":\"algo-1\",\"model_dir\":\"/opt/ml/model\",\"module_dir\":\"s3://sagemaker-ap-south-1-009676737623/rf-scikit-2023-11-09-08-46-32-672/source/sourcedir.tar.gz\",\"module_name\":\"sklearn-train\",\"network_interface_name\":\"eth0\",\"num_cpus\":4,\"num_gpus\":0,\"output_data_dir\":\"/opt/ml/output/data\",\"output_dir\":\"/opt/ml/output\",\"output_intermediate_dir\":\"/opt/ml/output/intermediate\",\"resource_config\":{\"current_group_name\":\"homogeneousCluster\",\"current_host\":\"algo-1\",\"current_instance_type\":\"ml.c5.xlarge\",\"hosts\":[\"algo-1\"],\"instance_groups\":[{\"hosts\":[\"algo-1\"],\"instance_group_name\":\"homogeneousCluster\",\"instance_type\":\"ml.c5.xlarge\"}],\"network_interface_name\":\"eth0\"},\"user_entry_point\":\"sklearn-train.py\"}\u001b[0m\n",
      "\u001b[34mSM_USER_ARGS=[\"--min-samples-leaf\",\"3\",\"--n-estimators\",\"120\",\"--test-file\",\"validation.csv\"]\u001b[0m\n",
      "\u001b[34mSM_OUTPUT_INTERMEDIATE_DIR=/opt/ml/output/intermediate\u001b[0m\n",
      "\u001b[34mSM_CHANNEL_TEST=/opt/ml/input/data/test\u001b[0m\n",
      "\u001b[34mSM_CHANNEL_TRAIN=/opt/ml/input/data/train\u001b[0m\n",
      "\u001b[34mSM_HP_MIN-SAMPLES-LEAF=3\u001b[0m\n",
      "\u001b[34mSM_HP_N-ESTIMATORS=120\u001b[0m\n",
      "\u001b[34mSM_HP_TEST-FILE=validation.csv\u001b[0m\n",
      "\u001b[34mPYTHONPATH=/opt/ml/code:/miniconda3/bin:/miniconda3/lib/python37.zip:/miniconda3/lib/python3.7:/miniconda3/lib/python3.7/lib-dynload:/miniconda3/lib/python3.7/site-packages\u001b[0m\n",
      "\u001b[34mInvoking script with the following command:\u001b[0m\n",
      "\u001b[34m/miniconda3/bin/python sklearn-train.py --min-samples-leaf 3 --n-estimators 120 --test-file validation.csv\u001b[0m\n",
      "\u001b[34mModel Accuracy: 0.815081508150815\u001b[0m\n",
      "\u001b[34m2023-11-09 08:48:30,668 sagemaker-containers INFO     Reporting training SUCCESS\u001b[0m\n",
      "\n",
      "2023-11-09 08:48:46 Uploading - Uploading generated training model\n",
      "2023-11-09 08:48:46 Completed - Training job completed\n",
      "Training seconds: 76\n",
      "Billable seconds: 76\n"
     ]
    }
   ],
   "source": [
    "# We use the Estimator from the SageMaker Python SDK\n",
    "from sagemaker import get_execution_role\n",
    "from sagemaker.sklearn.estimator import SKLearn\n",
    "\n",
    "FRAMEWORK_VERSION = \"0.23-1\"\n",
    "\n",
    "# Define the Estimator from SageMaker (Script Mode)\n",
    "sklearn_estimator = SKLearn(\n",
    "    entry_point=\"sklearn-train.py\",\n",
    "    role=get_execution_role(),\n",
    "    instance_count=1,\n",
    "    instance_type=\"ml.c5.xlarge\",\n",
    "    framework_version=FRAMEWORK_VERSION,\n",
    "    base_job_name=\"rf-scikit\",\n",
    "    metric_definitions=[{\"Name\": \"Accuracy\", \"Regex\": \"Accuracy: ([0-9.]+).*$\"}],\n",
    "    hyperparameters={\n",
    "        \"n-estimators\": 120,\n",
    "        \"min-samples-leaf\": 3,\n",
    "        \"test-file\": \"validation.csv\"\n",
    "    },\n",
    ")\n",
    "\n",
    "# Train the model (~5 minutes)\n",
    "sklearn_estimator.fit({\"train\": s3_input_train, \"test\": s3_input_validation})"
   ]
  },
  {
   "cell_type": "markdown",
   "id": "a7f32d72-bfa5-48a3-8372-9085235287dc",
   "metadata": {
    "jp-MarkdownHeadingCollapsed": true,
    "tags": []
   },
   "source": [
    "## 2.3 Hyper Parameter"
   ]
  },
  {
   "cell_type": "code",
   "execution_count": 67,
   "id": "877aa689-0567-4489-8229-92bdac4f0c47",
   "metadata": {
    "tags": []
   },
   "outputs": [],
   "source": [
    "# we use the Hyperparameter Tuner\n",
    "from sagemaker.tuner import IntegerParameter\n",
    "\n",
    "# Define exploration boundaries\n",
    "hyperparameter_ranges = {\n",
    "    \"n-estimators\": IntegerParameter(100, 200),\n",
    "    \"min-samples-leaf\": IntegerParameter(2, 6)\n",
    "}\n",
    "\n",
    "Optimizer = sagemaker.tuner.HyperparameterTuner(\n",
    "    estimator=sklearn_estimator,\n",
    "    hyperparameter_ranges=hyperparameter_ranges,\n",
    "    base_tuning_job_name=\"RF-tuner\",\n",
    "    objective_type=\"Maximize\",\n",
    "    objective_metric_name=\"Accuracy\",\n",
    "    metric_definitions=[\n",
    "        {\"Name\": \"Accuracy\", \"Regex\": \"Accuracy: ([0-9.]+).*$\"}\n",
    "    ],  # extract tracked metric from logs with regexp\n",
    "    max_jobs=10,\n",
    "    max_parallel_jobs=2,\n",
    ")"
   ]
  },
  {
   "cell_type": "code",
   "execution_count": 68,
   "id": "5ac8dc2e-fd35-49c4-936d-4c0d3fdc4d9f",
   "metadata": {
    "tags": []
   },
   "outputs": [
    {
     "name": "stdout",
     "output_type": "stream",
     "text": [
      "Using provided s3_resource\n"
     ]
    },
    {
     "name": "stderr",
     "output_type": "stream",
     "text": [
      "INFO:sagemaker:Creating hyperparameter tuning job with name: RF-tuner-231109-0935\n"
     ]
    },
    {
     "name": "stdout",
     "output_type": "stream",
     "text": [
      "...................................................................................................!\n"
     ]
    }
   ],
   "source": [
    "Optimizer.fit({\"train\": s3_input_train, \"test\": s3_input_validation})"
   ]
  },
  {
   "cell_type": "code",
   "execution_count": 69,
   "id": "6daf9cd2-e16f-44a0-a5f7-1f5c6e0031ac",
   "metadata": {
    "scrolled": true,
    "tags": []
   },
   "outputs": [
    {
     "data": {
      "text/html": [
       "<div>\n",
       "<style scoped>\n",
       "    .dataframe tbody tr th:only-of-type {\n",
       "        vertical-align: middle;\n",
       "    }\n",
       "\n",
       "    .dataframe tbody tr th {\n",
       "        vertical-align: top;\n",
       "    }\n",
       "\n",
       "    .dataframe thead th {\n",
       "        text-align: right;\n",
       "    }\n",
       "</style>\n",
       "<table border=\"1\" class=\"dataframe\">\n",
       "  <thead>\n",
       "    <tr style=\"text-align: right;\">\n",
       "      <th></th>\n",
       "      <th>min-samples-leaf</th>\n",
       "      <th>n-estimators</th>\n",
       "      <th>TrainingJobName</th>\n",
       "      <th>TrainingJobStatus</th>\n",
       "      <th>FinalObjectiveValue</th>\n",
       "      <th>TrainingStartTime</th>\n",
       "      <th>TrainingEndTime</th>\n",
       "      <th>TrainingElapsedTimeSeconds</th>\n",
       "    </tr>\n",
       "  </thead>\n",
       "  <tbody>\n",
       "    <tr>\n",
       "      <th>0</th>\n",
       "      <td>4.0</td>\n",
       "      <td>128.0</td>\n",
       "      <td>RF-tuner-231109-0935-010-109304d4</td>\n",
       "      <td>Completed</td>\n",
       "      <td>0.813781</td>\n",
       "      <td>2023-11-09 09:42:24+00:00</td>\n",
       "      <td>2023-11-09 09:43:15+00:00</td>\n",
       "      <td>51.0</td>\n",
       "    </tr>\n",
       "    <tr>\n",
       "      <th>1</th>\n",
       "      <td>5.0</td>\n",
       "      <td>135.0</td>\n",
       "      <td>RF-tuner-231109-0935-009-b7ca721b</td>\n",
       "      <td>Completed</td>\n",
       "      <td>0.814281</td>\n",
       "      <td>2023-11-09 09:41:36+00:00</td>\n",
       "      <td>2023-11-09 09:42:22+00:00</td>\n",
       "      <td>46.0</td>\n",
       "    </tr>\n",
       "    <tr>\n",
       "      <th>2</th>\n",
       "      <td>2.0</td>\n",
       "      <td>136.0</td>\n",
       "      <td>RF-tuner-231109-0935-008-bdb5d999</td>\n",
       "      <td>Completed</td>\n",
       "      <td>0.812981</td>\n",
       "      <td>2023-11-09 09:40:42+00:00</td>\n",
       "      <td>2023-11-09 09:41:29+00:00</td>\n",
       "      <td>47.0</td>\n",
       "    </tr>\n",
       "    <tr>\n",
       "      <th>3</th>\n",
       "      <td>4.0</td>\n",
       "      <td>194.0</td>\n",
       "      <td>RF-tuner-231109-0935-007-a3a90e99</td>\n",
       "      <td>Completed</td>\n",
       "      <td>0.811181</td>\n",
       "      <td>2023-11-09 09:40:19+00:00</td>\n",
       "      <td>2023-11-09 09:41:16+00:00</td>\n",
       "      <td>57.0</td>\n",
       "    </tr>\n",
       "    <tr>\n",
       "      <th>4</th>\n",
       "      <td>4.0</td>\n",
       "      <td>192.0</td>\n",
       "      <td>RF-tuner-231109-0935-006-4e88ef4a</td>\n",
       "      <td>Completed</td>\n",
       "      <td>0.815582</td>\n",
       "      <td>2023-11-09 09:39:07+00:00</td>\n",
       "      <td>2023-11-09 09:40:04+00:00</td>\n",
       "      <td>57.0</td>\n",
       "    </tr>\n",
       "  </tbody>\n",
       "</table>\n",
       "</div>"
      ],
      "text/plain": [
       "   min-samples-leaf  n-estimators                    TrainingJobName  \\\n",
       "0               4.0         128.0  RF-tuner-231109-0935-010-109304d4   \n",
       "1               5.0         135.0  RF-tuner-231109-0935-009-b7ca721b   \n",
       "2               2.0         136.0  RF-tuner-231109-0935-008-bdb5d999   \n",
       "3               4.0         194.0  RF-tuner-231109-0935-007-a3a90e99   \n",
       "4               4.0         192.0  RF-tuner-231109-0935-006-4e88ef4a   \n",
       "\n",
       "  TrainingJobStatus  FinalObjectiveValue         TrainingStartTime  \\\n",
       "0         Completed             0.813781 2023-11-09 09:42:24+00:00   \n",
       "1         Completed             0.814281 2023-11-09 09:41:36+00:00   \n",
       "2         Completed             0.812981 2023-11-09 09:40:42+00:00   \n",
       "3         Completed             0.811181 2023-11-09 09:40:19+00:00   \n",
       "4         Completed             0.815582 2023-11-09 09:39:07+00:00   \n",
       "\n",
       "            TrainingEndTime  TrainingElapsedTimeSeconds  \n",
       "0 2023-11-09 09:43:15+00:00                        51.0  \n",
       "1 2023-11-09 09:42:22+00:00                        46.0  \n",
       "2 2023-11-09 09:41:29+00:00                        47.0  \n",
       "3 2023-11-09 09:41:16+00:00                        57.0  \n",
       "4 2023-11-09 09:40:04+00:00                        57.0  "
      ]
     },
     "execution_count": 69,
     "metadata": {},
     "output_type": "execute_result"
    }
   ],
   "source": [
    "# get tuner results in a df\n",
    "results = Optimizer.analytics().dataframe()\n",
    "while results.empty:\n",
    "    time.sleep(1)\n",
    "    results = Optimizer.analytics().dataframe()\n",
    "results.head()"
   ]
  },
  {
   "cell_type": "markdown",
   "id": "43191136-3a91-4cfa-877f-aacc453e82f5",
   "metadata": {
    "jp-MarkdownHeadingCollapsed": true,
    "tags": []
   },
   "source": [
    "## 2.4 Sagemaker XGboost"
   ]
  },
  {
   "cell_type": "code",
   "execution_count": 74,
   "id": "5b2213a4-c7cd-4f30-b369-937e80160b20",
   "metadata": {
    "tags": []
   },
   "outputs": [
    {
     "name": "stderr",
     "output_type": "stream",
     "text": [
      "INFO:sagemaker.image_uris:Ignoring unnecessary instance type: None.\n"
     ]
    },
    {
     "name": "stdout",
     "output_type": "stream",
     "text": [
      "sagemaker.config INFO - Not applying SDK defaults from location: /etc/xdg/sagemaker/config.yaml\n",
      "sagemaker.config INFO - Not applying SDK defaults from location: /home/ec2-user/.config/sagemaker/config.yaml\n",
      "sagemaker.config INFO - Not applying SDK defaults from location: /etc/xdg/sagemaker/config.yaml\n",
      "sagemaker.config INFO - Not applying SDK defaults from location: /home/ec2-user/.config/sagemaker/config.yaml\n"
     ]
    },
    {
     "name": "stderr",
     "output_type": "stream",
     "text": [
      "INFO:sagemaker:Creating training-job with name: sagemaker-xgboost-2023-11-09-11-39-08-894\n"
     ]
    },
    {
     "name": "stdout",
     "output_type": "stream",
     "text": [
      "2023-11-09 11:39:09 Starting - Starting the training job...\n",
      "2023-11-09 11:39:24 Starting - Preparing the instances for training...\n",
      "2023-11-09 11:40:08 Downloading - Downloading input data...\n",
      "2023-11-09 11:40:27 Training - Downloading the training image...\n",
      "2023-11-09 11:40:53 Training - Training image download completed. Training in progress...\u001b[34m[2023-11-09 11:41:16.933 ip-10-0-100-94.ap-south-1.compute.internal:7 INFO utils.py:28] RULE_JOB_STOP_SIGNAL_FILENAME: None\u001b[0m\n",
      "\u001b[34m[2023-11-09 11:41:16.958 ip-10-0-100-94.ap-south-1.compute.internal:7 INFO profiler_config_parser.py:111] User has disabled profiler.\u001b[0m\n",
      "\u001b[34m[2023-11-09:11:41:17:INFO] Imported framework sagemaker_xgboost_container.training\u001b[0m\n",
      "\u001b[34m[2023-11-09:11:41:17:INFO] Failed to parse hyperparameter eval_metric value balanced_accuracy to Json.\u001b[0m\n",
      "\u001b[34mReturning the value itself\u001b[0m\n",
      "\u001b[34m[2023-11-09:11:41:17:INFO] Failed to parse hyperparameter objective value multi:softmax to Json.\u001b[0m\n",
      "\u001b[34mReturning the value itself\u001b[0m\n",
      "\u001b[34m[2023-11-09:11:41:17:INFO] No GPUs detected (normal if no gpus installed)\u001b[0m\n",
      "\u001b[34m[2023-11-09:11:41:17:INFO] Running XGBoost Sagemaker in algorithm mode\u001b[0m\n",
      "\u001b[34m[2023-11-09:11:41:17:INFO] Determined 0 GPU(s) available on the instance.\u001b[0m\n",
      "\u001b[34m[2023-11-09:11:41:17:INFO] Determined delimiter of CSV input is ','\u001b[0m\n",
      "\u001b[34m[2023-11-09:11:41:17:INFO] Determined delimiter of CSV input is ','\u001b[0m\n",
      "\u001b[34m[2023-11-09:11:41:17:INFO] File path /opt/ml/input/data/train of input files\u001b[0m\n",
      "\u001b[34m[2023-11-09:11:41:17:INFO] Making smlinks from folder /opt/ml/input/data/train to folder /tmp/sagemaker_xgboost_input_data\u001b[0m\n",
      "\u001b[34m[2023-11-09:11:41:17:INFO] creating symlink between Path /opt/ml/input/data/train/train.csv and destination /tmp/sagemaker_xgboost_input_data/train.csv9114503983536084074\u001b[0m\n",
      "\u001b[34m[2023-11-09:11:41:17:INFO] files path: /tmp/sagemaker_xgboost_input_data\u001b[0m\n",
      "\u001b[34m[2023-11-09:11:41:17:INFO] Determined delimiter of CSV input is ','\u001b[0m\n",
      "\u001b[34m[2023-11-09:11:41:17:INFO] File path /opt/ml/input/data/validation of input files\u001b[0m\n",
      "\u001b[34m[2023-11-09:11:41:17:INFO] Making smlinks from folder /opt/ml/input/data/validation to folder /tmp/sagemaker_xgboost_input_data\u001b[0m\n",
      "\u001b[34m[2023-11-09:11:41:17:INFO] creating symlink between Path /opt/ml/input/data/validation/validation.csv and destination /tmp/sagemaker_xgboost_input_data/validation.csv4803814040413151456\u001b[0m\n",
      "\u001b[34m[2023-11-09:11:41:17:INFO] files path: /tmp/sagemaker_xgboost_input_data\u001b[0m\n",
      "\u001b[34m[2023-11-09:11:41:17:INFO] Determined delimiter of CSV input is ','\u001b[0m\n",
      "\u001b[34m[2023-11-09:11:41:17:INFO] Single node training.\u001b[0m\n",
      "\u001b[34m[2023-11-09:11:41:17:INFO] Train matrix has 80000 rows and 12 columns\u001b[0m\n",
      "\u001b[34m[2023-11-09:11:41:17:INFO] Validation matrix has 10000 rows\u001b[0m\n",
      "\u001b[34m[2023-11-09 11:41:17.497 ip-10-0-100-94.ap-south-1.compute.internal:7 INFO json_config.py:92] Creating hook from json_config at /opt/ml/input/config/debughookconfig.json.\u001b[0m\n",
      "\u001b[34m[2023-11-09 11:41:17.498 ip-10-0-100-94.ap-south-1.compute.internal:7 INFO hook.py:206] tensorboard_dir has not been set for the hook. SMDebug will not be exporting tensorboard summaries.\u001b[0m\n",
      "\u001b[34m[2023-11-09 11:41:17.498 ip-10-0-100-94.ap-south-1.compute.internal:7 INFO hook.py:259] Saving to /opt/ml/output/tensors\u001b[0m\n",
      "\u001b[34m[2023-11-09 11:41:17.498 ip-10-0-100-94.ap-south-1.compute.internal:7 INFO state_store.py:77] The checkpoint config file /opt/ml/input/config/checkpointconfig.json does not exist.\u001b[0m\n",
      "\u001b[34m[2023-11-09:11:41:17:INFO] Debug hook created from config\u001b[0m\n",
      "\u001b[34m/miniconda3/lib/python3.8/site-packages/xgboost/training.py:39: UserWarning: `feval` is deprecated, use `custom_metric` instead.  They have different behavior when custom objective is also used.See https://xgboost.readthedocs.io/en/latest/tutorials/custom_metric_obj.html for details on the `custom_metric`.\n",
      "  warnings.warn(\u001b[0m\n",
      "\u001b[34m[0]#011train-mlogloss:1.42385#011train-balanced_accuracy:0.79068#011validation-mlogloss:1.42440#011validation-balanced_accuracy:0.78609\u001b[0m\n",
      "\u001b[34m[2023-11-09 11:41:18.058 ip-10-0-100-94.ap-south-1.compute.internal:7 INFO hook.py:427] Monitoring the collections: metrics\u001b[0m\n",
      "\u001b[34m[2023-11-09 11:41:18.060 ip-10-0-100-94.ap-south-1.compute.internal:7 INFO hook.py:491] Hook is writing from the hook with pid: 7\u001b[0m\n",
      "\u001b[34m[1]#011train-mlogloss:1.20425#011train-balanced_accuracy:0.79696#011validation-mlogloss:1.20633#011validation-balanced_accuracy:0.79201\u001b[0m\n",
      "\u001b[34m[2]#011train-mlogloss:1.04896#011train-balanced_accuracy:0.80427#011validation-mlogloss:1.05181#011validation-balanced_accuracy:0.79990\u001b[0m\n",
      "\u001b[34m[3]#011train-mlogloss:0.93259#011train-balanced_accuracy:0.80646#011validation-mlogloss:0.93616#011validation-balanced_accuracy:0.80079\u001b[0m\n",
      "\u001b[34m[4]#011train-mlogloss:0.84234#011train-balanced_accuracy:0.80683#011validation-mlogloss:0.84663#011validation-balanced_accuracy:0.79908\u001b[0m\n",
      "\u001b[34m[5]#011train-mlogloss:0.77047#011train-balanced_accuracy:0.80872#011validation-mlogloss:0.77507#011validation-balanced_accuracy:0.79996\u001b[0m\n",
      "\u001b[34m[6]#011train-mlogloss:0.71300#011train-balanced_accuracy:0.80962#011validation-mlogloss:0.71789#011validation-balanced_accuracy:0.80101\u001b[0m\n",
      "\u001b[34m[7]#011train-mlogloss:0.66630#011train-balanced_accuracy:0.81019#011validation-mlogloss:0.67165#011validation-balanced_accuracy:0.80120\u001b[0m\n",
      "\u001b[34m[8]#011train-mlogloss:0.62753#011train-balanced_accuracy:0.81036#011validation-mlogloss:0.63331#011validation-balanced_accuracy:0.80168\u001b[0m\n",
      "\u001b[34m[9]#011train-mlogloss:0.59591#011train-balanced_accuracy:0.81129#011validation-mlogloss:0.60218#011validation-balanced_accuracy:0.80155\u001b[0m\n",
      "\u001b[34m[10]#011train-mlogloss:0.56939#011train-balanced_accuracy:0.81150#011validation-mlogloss:0.57616#011validation-balanced_accuracy:0.80217\u001b[0m\n",
      "\u001b[34m[11]#011train-mlogloss:0.54734#011train-balanced_accuracy:0.81243#011validation-mlogloss:0.55444#011validation-balanced_accuracy:0.80316\u001b[0m\n",
      "\u001b[34m[12]#011train-mlogloss:0.52879#011train-balanced_accuracy:0.81316#011validation-mlogloss:0.53613#011validation-balanced_accuracy:0.80490\u001b[0m\n",
      "\u001b[34m[13]#011train-mlogloss:0.51309#011train-balanced_accuracy:0.81355#011validation-mlogloss:0.52066#011validation-balanced_accuracy:0.80512\u001b[0m\n",
      "\u001b[34m[14]#011train-mlogloss:0.49975#011train-balanced_accuracy:0.81412#011validation-mlogloss:0.50746#011validation-balanced_accuracy:0.80478\u001b[0m\n",
      "\u001b[34m[15]#011train-mlogloss:0.48856#011train-balanced_accuracy:0.81429#011validation-mlogloss:0.49659#011validation-balanced_accuracy:0.80599\u001b[0m\n",
      "\u001b[34m[16]#011train-mlogloss:0.47831#011train-balanced_accuracy:0.81496#011validation-mlogloss:0.48653#011validation-balanced_accuracy:0.80640\u001b[0m\n",
      "\u001b[34m[17]#011train-mlogloss:0.46971#011train-balanced_accuracy:0.81545#011validation-mlogloss:0.47838#011validation-balanced_accuracy:0.80619\u001b[0m\n",
      "\u001b[34m[18]#011train-mlogloss:0.46237#011train-balanced_accuracy:0.81590#011validation-mlogloss:0.47134#011validation-balanced_accuracy:0.80628\u001b[0m\n",
      "\u001b[34m[19]#011train-mlogloss:0.45595#011train-balanced_accuracy:0.81600#011validation-mlogloss:0.46505#011validation-balanced_accuracy:0.80750\u001b[0m\n",
      "\u001b[34m[20]#011train-mlogloss:0.45047#011train-balanced_accuracy:0.81653#011validation-mlogloss:0.45980#011validation-balanced_accuracy:0.80739\u001b[0m\n",
      "\u001b[34m[21]#011train-mlogloss:0.44544#011train-balanced_accuracy:0.81688#011validation-mlogloss:0.45499#011validation-balanced_accuracy:0.80759\u001b[0m\n",
      "\u001b[34m[22]#011train-mlogloss:0.44089#011train-balanced_accuracy:0.81736#011validation-mlogloss:0.45070#011validation-balanced_accuracy:0.80758\u001b[0m\n",
      "\u001b[34m[23]#011train-mlogloss:0.43714#011train-balanced_accuracy:0.81764#011validation-mlogloss:0.44715#011validation-balanced_accuracy:0.80714\u001b[0m\n",
      "\u001b[34m[24]#011train-mlogloss:0.43364#011train-balanced_accuracy:0.81798#011validation-mlogloss:0.44366#011validation-balanced_accuracy:0.80751\u001b[0m\n",
      "\u001b[34m[25]#011train-mlogloss:0.43056#011train-balanced_accuracy:0.81824#011validation-mlogloss:0.44086#011validation-balanced_accuracy:0.80722\u001b[0m\n",
      "\u001b[34m[26]#011train-mlogloss:0.42782#011train-balanced_accuracy:0.81827#011validation-mlogloss:0.43834#011validation-balanced_accuracy:0.80742\u001b[0m\n",
      "\u001b[34m[27]#011train-mlogloss:0.42539#011train-balanced_accuracy:0.81851#011validation-mlogloss:0.43594#011validation-balanced_accuracy:0.80761\u001b[0m\n",
      "\u001b[34m[28]#011train-mlogloss:0.42325#011train-balanced_accuracy:0.81866#011validation-mlogloss:0.43397#011validation-balanced_accuracy:0.80790\u001b[0m\n",
      "\u001b[34m[29]#011train-mlogloss:0.42072#011train-balanced_accuracy:0.81939#011validation-mlogloss:0.43163#011validation-balanced_accuracy:0.80731\u001b[0m\n",
      "\u001b[34m[30]#011train-mlogloss:0.41897#011train-balanced_accuracy:0.81957#011validation-mlogloss:0.43010#011validation-balanced_accuracy:0.80779\u001b[0m\n",
      "\u001b[34m[31]#011train-mlogloss:0.41739#011train-balanced_accuracy:0.81960#011validation-mlogloss:0.42855#011validation-balanced_accuracy:0.80799\u001b[0m\n",
      "\u001b[34m[32]#011train-mlogloss:0.41551#011train-balanced_accuracy:0.82002#011validation-mlogloss:0.42684#011validation-balanced_accuracy:0.80827\u001b[0m\n",
      "\u001b[34m[33]#011train-mlogloss:0.41401#011train-balanced_accuracy:0.82031#011validation-mlogloss:0.42571#011validation-balanced_accuracy:0.80787\u001b[0m\n",
      "\u001b[34m[34]#011train-mlogloss:0.41236#011train-balanced_accuracy:0.82041#011validation-mlogloss:0.42425#011validation-balanced_accuracy:0.80819\u001b[0m\n",
      "\u001b[34m[35]#011train-mlogloss:0.41094#011train-balanced_accuracy:0.82047#011validation-mlogloss:0.42308#011validation-balanced_accuracy:0.80789\u001b[0m\n",
      "\u001b[34m[36]#011train-mlogloss:0.40991#011train-balanced_accuracy:0.82057#011validation-mlogloss:0.42236#011validation-balanced_accuracy:0.80799\u001b[0m\n",
      "\u001b[34m[37]#011train-mlogloss:0.40888#011train-balanced_accuracy:0.82077#011validation-mlogloss:0.42143#011validation-balanced_accuracy:0.80839\u001b[0m\n",
      "\u001b[34m[38]#011train-mlogloss:0.40795#011train-balanced_accuracy:0.82088#011validation-mlogloss:0.42066#011validation-balanced_accuracy:0.80789\u001b[0m\n",
      "\u001b[34m[39]#011train-mlogloss:0.40686#011train-balanced_accuracy:0.82129#011validation-mlogloss:0.41979#011validation-balanced_accuracy:0.80788\u001b[0m\n",
      "\u001b[34m[40]#011train-mlogloss:0.40606#011train-balanced_accuracy:0.82114#011validation-mlogloss:0.41921#011validation-balanced_accuracy:0.80798\u001b[0m\n",
      "\u001b[34m[41]#011train-mlogloss:0.40535#011train-balanced_accuracy:0.82124#011validation-mlogloss:0.41888#011validation-balanced_accuracy:0.80819\u001b[0m\n",
      "\u001b[34m[42]#011train-mlogloss:0.40455#011train-balanced_accuracy:0.82123#011validation-mlogloss:0.41820#011validation-balanced_accuracy:0.80839\u001b[0m\n",
      "\u001b[34m[43]#011train-mlogloss:0.40391#011train-balanced_accuracy:0.82126#011validation-mlogloss:0.41773#011validation-balanced_accuracy:0.80818\u001b[0m\n",
      "\u001b[34m[44]#011train-mlogloss:0.40335#011train-balanced_accuracy:0.82138#011validation-mlogloss:0.41733#011validation-balanced_accuracy:0.80829\u001b[0m\n",
      "\u001b[34m[45]#011train-mlogloss:0.40260#011train-balanced_accuracy:0.82145#011validation-mlogloss:0.41671#011validation-balanced_accuracy:0.80869\u001b[0m\n",
      "\u001b[34m[46]#011train-mlogloss:0.40206#011train-balanced_accuracy:0.82168#011validation-mlogloss:0.41639#011validation-balanced_accuracy:0.80879\u001b[0m\n",
      "\u001b[34m[47]#011train-mlogloss:0.40153#011train-balanced_accuracy:0.82173#011validation-mlogloss:0.41592#011validation-balanced_accuracy:0.80909\u001b[0m\n",
      "\u001b[34m[48]#011train-mlogloss:0.40072#011train-balanced_accuracy:0.82189#011validation-mlogloss:0.41559#011validation-balanced_accuracy:0.80930\u001b[0m\n",
      "\u001b[34m[49]#011train-mlogloss:0.40026#011train-balanced_accuracy:0.82205#011validation-mlogloss:0.41540#011validation-balanced_accuracy:0.80920\u001b[0m\n",
      "\u001b[34m[50]#011train-mlogloss:0.39988#011train-balanced_accuracy:0.82212#011validation-mlogloss:0.41528#011validation-balanced_accuracy:0.80919\u001b[0m\n",
      "\u001b[34m[51]#011train-mlogloss:0.39935#011train-balanced_accuracy:0.82207#011validation-mlogloss:0.41515#011validation-balanced_accuracy:0.80948\u001b[0m\n",
      "\u001b[34m[52]#011train-mlogloss:0.39879#011train-balanced_accuracy:0.82246#011validation-mlogloss:0.41495#011validation-balanced_accuracy:0.80917\u001b[0m\n",
      "\u001b[34m[53]#011train-mlogloss:0.39836#011train-balanced_accuracy:0.82265#011validation-mlogloss:0.41471#011validation-balanced_accuracy:0.80956\u001b[0m\n",
      "\u001b[34m[54]#011train-mlogloss:0.39759#011train-balanced_accuracy:0.82314#011validation-mlogloss:0.41437#011validation-balanced_accuracy:0.80967\u001b[0m\n",
      "\u001b[34m[55]#011train-mlogloss:0.39714#011train-balanced_accuracy:0.82312#011validation-mlogloss:0.41421#011validation-balanced_accuracy:0.80957\u001b[0m\n",
      "\u001b[34m[56]#011train-mlogloss:0.39690#011train-balanced_accuracy:0.82323#011validation-mlogloss:0.41412#011validation-balanced_accuracy:0.80916\u001b[0m\n",
      "\u001b[34m[57]#011train-mlogloss:0.39655#011train-balanced_accuracy:0.82335#011validation-mlogloss:0.41390#011validation-balanced_accuracy:0.80975\u001b[0m\n",
      "\u001b[34m[58]#011train-mlogloss:0.39622#011train-balanced_accuracy:0.82344#011validation-mlogloss:0.41376#011validation-balanced_accuracy:0.80975\u001b[0m\n",
      "\u001b[34m[59]#011train-mlogloss:0.39554#011train-balanced_accuracy:0.82388#011validation-mlogloss:0.41355#011validation-balanced_accuracy:0.80994\u001b[0m\n",
      "\u001b[34m[60]#011train-mlogloss:0.39523#011train-balanced_accuracy:0.82432#011validation-mlogloss:0.41352#011validation-balanced_accuracy:0.80925\u001b[0m\n",
      "\u001b[34m[61]#011train-mlogloss:0.39466#011train-balanced_accuracy:0.82441#011validation-mlogloss:0.41344#011validation-balanced_accuracy:0.81046\u001b[0m\n",
      "\u001b[34m[62]#011train-mlogloss:0.39429#011train-balanced_accuracy:0.82465#011validation-mlogloss:0.41337#011validation-balanced_accuracy:0.81085\u001b[0m\n",
      "\u001b[34m[63]#011train-mlogloss:0.39390#011train-balanced_accuracy:0.82485#011validation-mlogloss:0.41338#011validation-balanced_accuracy:0.81055\u001b[0m\n",
      "\u001b[34m[64]#011train-mlogloss:0.39354#011train-balanced_accuracy:0.82482#011validation-mlogloss:0.41331#011validation-balanced_accuracy:0.81055\u001b[0m\n",
      "\u001b[34m[65]#011train-mlogloss:0.39334#011train-balanced_accuracy:0.82488#011validation-mlogloss:0.41328#011validation-balanced_accuracy:0.81065\u001b[0m\n",
      "\u001b[34m[66]#011train-mlogloss:0.39284#011train-balanced_accuracy:0.82507#011validation-mlogloss:0.41310#011validation-balanced_accuracy:0.81076\u001b[0m\n",
      "\u001b[34m[67]#011train-mlogloss:0.39242#011train-balanced_accuracy:0.82545#011validation-mlogloss:0.41296#011validation-balanced_accuracy:0.81186\u001b[0m\n",
      "\u001b[34m[68]#011train-mlogloss:0.39203#011train-balanced_accuracy:0.82562#011validation-mlogloss:0.41288#011validation-balanced_accuracy:0.81136\u001b[0m\n",
      "\u001b[34m[69]#011train-mlogloss:0.39186#011train-balanced_accuracy:0.82577#011validation-mlogloss:0.41281#011validation-balanced_accuracy:0.81164\u001b[0m\n",
      "\u001b[34m[70]#011train-mlogloss:0.39157#011train-balanced_accuracy:0.82607#011validation-mlogloss:0.41281#011validation-balanced_accuracy:0.81174\u001b[0m\n",
      "\u001b[34m[71]#011train-mlogloss:0.39118#011train-balanced_accuracy:0.82627#011validation-mlogloss:0.41271#011validation-balanced_accuracy:0.81234\u001b[0m\n",
      "\u001b[34m[72]#011train-mlogloss:0.39097#011train-balanced_accuracy:0.82618#011validation-mlogloss:0.41272#011validation-balanced_accuracy:0.81205\u001b[0m\n",
      "\u001b[34m[73]#011train-mlogloss:0.39059#011train-balanced_accuracy:0.82650#011validation-mlogloss:0.41263#011validation-balanced_accuracy:0.81195\u001b[0m\n",
      "\u001b[34m[74]#011train-mlogloss:0.39034#011train-balanced_accuracy:0.82652#011validation-mlogloss:0.41261#011validation-balanced_accuracy:0.81215\u001b[0m\n",
      "\u001b[34m[75]#011train-mlogloss:0.38991#011train-balanced_accuracy:0.82659#011validation-mlogloss:0.41257#011validation-balanced_accuracy:0.81204\u001b[0m\n",
      "\u001b[34m[76]#011train-mlogloss:0.38951#011train-balanced_accuracy:0.82654#011validation-mlogloss:0.41253#011validation-balanced_accuracy:0.81225\u001b[0m\n",
      "\u001b[34m[77]#011train-mlogloss:0.38917#011train-balanced_accuracy:0.82678#011validation-mlogloss:0.41266#011validation-balanced_accuracy:0.81215\u001b[0m\n",
      "\u001b[34m[78]#011train-mlogloss:0.38889#011train-balanced_accuracy:0.82696#011validation-mlogloss:0.41256#011validation-balanced_accuracy:0.81165\u001b[0m\n",
      "\u001b[34m[79]#011train-mlogloss:0.38861#011train-balanced_accuracy:0.82684#011validation-mlogloss:0.41254#011validation-balanced_accuracy:0.81155\u001b[0m\n",
      "\u001b[34m[80]#011train-mlogloss:0.38835#011train-balanced_accuracy:0.82689#011validation-mlogloss:0.41245#011validation-balanced_accuracy:0.81214\u001b[0m\n",
      "\u001b[34m[81]#011train-mlogloss:0.38783#011train-balanced_accuracy:0.82727#011validation-mlogloss:0.41229#011validation-balanced_accuracy:0.81164\u001b[0m\n",
      "\u001b[34m[82]#011train-mlogloss:0.38766#011train-balanced_accuracy:0.82731#011validation-mlogloss:0.41228#011validation-balanced_accuracy:0.81154\u001b[0m\n",
      "\u001b[34m[83]#011train-mlogloss:0.38746#011train-balanced_accuracy:0.82753#011validation-mlogloss:0.41221#011validation-balanced_accuracy:0.81205\u001b[0m\n",
      "\u001b[34m[84]#011train-mlogloss:0.38723#011train-balanced_accuracy:0.82745#011validation-mlogloss:0.41231#011validation-balanced_accuracy:0.81215\u001b[0m\n",
      "\u001b[34m[85]#011train-mlogloss:0.38703#011train-balanced_accuracy:0.82766#011validation-mlogloss:0.41226#011validation-balanced_accuracy:0.81215\u001b[0m\n",
      "\u001b[34m[86]#011train-mlogloss:0.38676#011train-balanced_accuracy:0.82804#011validation-mlogloss:0.41221#011validation-balanced_accuracy:0.81164\u001b[0m\n",
      "\u001b[34m[87]#011train-mlogloss:0.38646#011train-balanced_accuracy:0.82820#011validation-mlogloss:0.41200#011validation-balanced_accuracy:0.81164\u001b[0m\n",
      "\u001b[34m[88]#011train-mlogloss:0.38622#011train-balanced_accuracy:0.82823#011validation-mlogloss:0.41192#011validation-balanced_accuracy:0.81184\u001b[0m\n",
      "\u001b[34m[89]#011train-mlogloss:0.38600#011train-balanced_accuracy:0.82834#011validation-mlogloss:0.41190#011validation-balanced_accuracy:0.81173\u001b[0m\n",
      "\u001b[34m[90]#011train-mlogloss:0.38577#011train-balanced_accuracy:0.82841#011validation-mlogloss:0.41189#011validation-balanced_accuracy:0.81123\u001b[0m\n",
      "\u001b[34m[91]#011train-mlogloss:0.38531#011train-balanced_accuracy:0.82864#011validation-mlogloss:0.41176#011validation-balanced_accuracy:0.81163\u001b[0m\n",
      "\u001b[34m[92]#011train-mlogloss:0.38511#011train-balanced_accuracy:0.82874#011validation-mlogloss:0.41181#011validation-balanced_accuracy:0.81153\u001b[0m\n",
      "\u001b[34m[93]#011train-mlogloss:0.38475#011train-balanced_accuracy:0.82888#011validation-mlogloss:0.41175#011validation-balanced_accuracy:0.81173\u001b[0m\n",
      "\u001b[34m[94]#011train-mlogloss:0.38425#011train-balanced_accuracy:0.82905#011validation-mlogloss:0.41164#011validation-balanced_accuracy:0.81123\u001b[0m\n",
      "\u001b[34m[95]#011train-mlogloss:0.38391#011train-balanced_accuracy:0.82898#011validation-mlogloss:0.41177#011validation-balanced_accuracy:0.81123\u001b[0m\n",
      "\u001b[34m[96]#011train-mlogloss:0.38370#011train-balanced_accuracy:0.82915#011validation-mlogloss:0.41169#011validation-balanced_accuracy:0.81143\u001b[0m\n",
      "\u001b[34m[97]#011train-mlogloss:0.38342#011train-balanced_accuracy:0.82945#011validation-mlogloss:0.41175#011validation-balanced_accuracy:0.81144\u001b[0m\n",
      "\u001b[34m[98]#011train-mlogloss:0.38309#011train-balanced_accuracy:0.82968#011validation-mlogloss:0.41183#011validation-balanced_accuracy:0.81163\u001b[0m\n",
      "\u001b[34m[99]#011train-mlogloss:0.38285#011train-balanced_accuracy:0.82961#011validation-mlogloss:0.41181#011validation-balanced_accuracy:0.81173\u001b[0m\n",
      "\u001b[34m[100]#011train-mlogloss:0.38265#011train-balanced_accuracy:0.82995#011validation-mlogloss:0.41186#011validation-balanced_accuracy:0.81173\u001b[0m\n",
      "\u001b[34m[101]#011train-mlogloss:0.38237#011train-balanced_accuracy:0.83009#011validation-mlogloss:0.41190#011validation-balanced_accuracy:0.81173\u001b[0m\n",
      "\u001b[34m[102]#011train-mlogloss:0.38206#011train-balanced_accuracy:0.83039#011validation-mlogloss:0.41188#011validation-balanced_accuracy:0.81152\u001b[0m\n",
      "\u001b[34m[103]#011train-mlogloss:0.38190#011train-balanced_accuracy:0.83050#011validation-mlogloss:0.41186#011validation-balanced_accuracy:0.81193\u001b[0m\n",
      "\u001b[34m[104]#011train-mlogloss:0.38179#011train-balanced_accuracy:0.83053#011validation-mlogloss:0.41189#011validation-balanced_accuracy:0.81163\u001b[0m\n",
      "\u001b[34m[105]#011train-mlogloss:0.38141#011train-balanced_accuracy:0.83071#011validation-mlogloss:0.41179#011validation-balanced_accuracy:0.81184\u001b[0m\n",
      "\u001b[34m[106]#011train-mlogloss:0.38118#011train-balanced_accuracy:0.83086#011validation-mlogloss:0.41187#011validation-balanced_accuracy:0.81184\u001b[0m\n",
      "\u001b[34m[107]#011train-mlogloss:0.38085#011train-balanced_accuracy:0.83095#011validation-mlogloss:0.41174#011validation-balanced_accuracy:0.81153\u001b[0m\n",
      "\u001b[34m[108]#011train-mlogloss:0.38041#011train-balanced_accuracy:0.83115#011validation-mlogloss:0.41187#011validation-balanced_accuracy:0.81163\u001b[0m\n",
      "\u001b[34m[109]#011train-mlogloss:0.38011#011train-balanced_accuracy:0.83117#011validation-mlogloss:0.41177#011validation-balanced_accuracy:0.81153\u001b[0m\n",
      "\u001b[34m[110]#011train-mlogloss:0.37986#011train-balanced_accuracy:0.83114#011validation-mlogloss:0.41170#011validation-balanced_accuracy:0.81162\u001b[0m\n",
      "\u001b[34m[111]#011train-mlogloss:0.37963#011train-balanced_accuracy:0.83114#011validation-mlogloss:0.41164#011validation-balanced_accuracy:0.81162\u001b[0m\n",
      "\u001b[34m[112]#011train-mlogloss:0.37933#011train-balanced_accuracy:0.83121#011validation-mlogloss:0.41159#011validation-balanced_accuracy:0.81193\u001b[0m\n",
      "\u001b[34m[113]#011train-mlogloss:0.37902#011train-balanced_accuracy:0.83130#011validation-mlogloss:0.41146#011validation-balanced_accuracy:0.81253\u001b[0m\n",
      "\u001b[34m[114]#011train-mlogloss:0.37889#011train-balanced_accuracy:0.83141#011validation-mlogloss:0.41142#011validation-balanced_accuracy:0.81223\u001b[0m\n",
      "\u001b[34m[115]#011train-mlogloss:0.37860#011train-balanced_accuracy:0.83140#011validation-mlogloss:0.41139#011validation-balanced_accuracy:0.81223\u001b[0m\n",
      "\u001b[34m[116]#011train-mlogloss:0.37841#011train-balanced_accuracy:0.83123#011validation-mlogloss:0.41128#011validation-balanced_accuracy:0.81222\u001b[0m\n",
      "\u001b[34m[117]#011train-mlogloss:0.37822#011train-balanced_accuracy:0.83131#011validation-mlogloss:0.41134#011validation-balanced_accuracy:0.81283\u001b[0m\n",
      "\u001b[34m[118]#011train-mlogloss:0.37797#011train-balanced_accuracy:0.83145#011validation-mlogloss:0.41123#011validation-balanced_accuracy:0.81303\u001b[0m\n",
      "\u001b[34m[119]#011train-mlogloss:0.37780#011train-balanced_accuracy:0.83141#011validation-mlogloss:0.41119#011validation-balanced_accuracy:0.81273\u001b[0m\n",
      "\u001b[34m[120]#011train-mlogloss:0.37752#011train-balanced_accuracy:0.83161#011validation-mlogloss:0.41114#011validation-balanced_accuracy:0.81323\u001b[0m\n",
      "\u001b[34m[121]#011train-mlogloss:0.37724#011train-balanced_accuracy:0.83190#011validation-mlogloss:0.41115#011validation-balanced_accuracy:0.81323\u001b[0m\n",
      "\u001b[34m[122]#011train-mlogloss:0.37701#011train-balanced_accuracy:0.83212#011validation-mlogloss:0.41117#011validation-balanced_accuracy:0.81314\u001b[0m\n",
      "\u001b[34m[123]#011train-mlogloss:0.37678#011train-balanced_accuracy:0.83223#011validation-mlogloss:0.41113#011validation-balanced_accuracy:0.81265\u001b[0m\n",
      "\u001b[34m[124]#011train-mlogloss:0.37667#011train-balanced_accuracy:0.83212#011validation-mlogloss:0.41106#011validation-balanced_accuracy:0.81245\u001b[0m\n",
      "\u001b[34m[125]#011train-mlogloss:0.37638#011train-balanced_accuracy:0.83233#011validation-mlogloss:0.41108#011validation-balanced_accuracy:0.81266\u001b[0m\n",
      "\u001b[34m[126]#011train-mlogloss:0.37621#011train-balanced_accuracy:0.83238#011validation-mlogloss:0.41106#011validation-balanced_accuracy:0.81265\u001b[0m\n",
      "\u001b[34m[127]#011train-mlogloss:0.37609#011train-balanced_accuracy:0.83233#011validation-mlogloss:0.41108#011validation-balanced_accuracy:0.81295\u001b[0m\n",
      "\u001b[34m[128]#011train-mlogloss:0.37584#011train-balanced_accuracy:0.83238#011validation-mlogloss:0.41110#011validation-balanced_accuracy:0.81305\u001b[0m\n",
      "\u001b[34m[129]#011train-mlogloss:0.37578#011train-balanced_accuracy:0.83237#011validation-mlogloss:0.41110#011validation-balanced_accuracy:0.81296\u001b[0m\n",
      "\u001b[34m[130]#011train-mlogloss:0.37564#011train-balanced_accuracy:0.83243#011validation-mlogloss:0.41106#011validation-balanced_accuracy:0.81305\u001b[0m\n",
      "\u001b[34m[131]#011train-mlogloss:0.37551#011train-balanced_accuracy:0.83268#011validation-mlogloss:0.41105#011validation-balanced_accuracy:0.81285\u001b[0m\n",
      "\u001b[34m[132]#011train-mlogloss:0.37534#011train-balanced_accuracy:0.83261#011validation-mlogloss:0.41104#011validation-balanced_accuracy:0.81256\u001b[0m\n",
      "\u001b[34m[133]#011train-mlogloss:0.37522#011train-balanced_accuracy:0.83276#011validation-mlogloss:0.41109#011validation-balanced_accuracy:0.81285\u001b[0m\n",
      "\u001b[34m[134]#011train-mlogloss:0.37493#011train-balanced_accuracy:0.83314#011validation-mlogloss:0.41110#011validation-balanced_accuracy:0.81316\u001b[0m\n",
      "\u001b[34m[135]#011train-mlogloss:0.37460#011train-balanced_accuracy:0.83317#011validation-mlogloss:0.41114#011validation-balanced_accuracy:0.81366\u001b[0m\n",
      "\u001b[34m[136]#011train-mlogloss:0.37451#011train-balanced_accuracy:0.83323#011validation-mlogloss:0.41111#011validation-balanced_accuracy:0.81366\u001b[0m\n",
      "\u001b[34m[137]#011train-mlogloss:0.37424#011train-balanced_accuracy:0.83325#011validation-mlogloss:0.41112#011validation-balanced_accuracy:0.81335\u001b[0m\n",
      "\u001b[34m[138]#011train-mlogloss:0.37413#011train-balanced_accuracy:0.83327#011validation-mlogloss:0.41114#011validation-balanced_accuracy:0.81315\u001b[0m\n",
      "\u001b[34m[139]#011train-mlogloss:0.37393#011train-balanced_accuracy:0.83333#011validation-mlogloss:0.41113#011validation-balanced_accuracy:0.81325\u001b[0m\n",
      "\u001b[34m[140]#011train-mlogloss:0.37372#011train-balanced_accuracy:0.83308#011validation-mlogloss:0.41113#011validation-balanced_accuracy:0.81295\u001b[0m\n",
      "\u001b[34m[141]#011train-mlogloss:0.37351#011train-balanced_accuracy:0.83318#011validation-mlogloss:0.41128#011validation-balanced_accuracy:0.81284\u001b[0m\n",
      "\u001b[34m[142]#011train-mlogloss:0.37330#011train-balanced_accuracy:0.83337#011validation-mlogloss:0.41133#011validation-balanced_accuracy:0.81284\u001b[0m\n",
      "\u001b[34m[143]#011train-mlogloss:0.37311#011train-balanced_accuracy:0.83353#011validation-mlogloss:0.41129#011validation-balanced_accuracy:0.81274\u001b[0m\n",
      "\u001b[34m[144]#011train-mlogloss:0.37288#011train-balanced_accuracy:0.83368#011validation-mlogloss:0.41132#011validation-balanced_accuracy:0.81304\u001b[0m\n",
      "\u001b[34m[145]#011train-mlogloss:0.37263#011train-balanced_accuracy:0.83364#011validation-mlogloss:0.41131#011validation-balanced_accuracy:0.81334\u001b[0m\n",
      "\u001b[34m[146]#011train-mlogloss:0.37238#011train-balanced_accuracy:0.83390#011validation-mlogloss:0.41134#011validation-balanced_accuracy:0.81375\u001b[0m\n",
      "\u001b[34m[147]#011train-mlogloss:0.37216#011train-balanced_accuracy:0.83383#011validation-mlogloss:0.41132#011validation-balanced_accuracy:0.81375\u001b[0m\n",
      "\u001b[34m[148]#011train-mlogloss:0.37206#011train-balanced_accuracy:0.83387#011validation-mlogloss:0.41133#011validation-balanced_accuracy:0.81396\u001b[0m\n",
      "\u001b[34m[149]#011train-mlogloss:0.37179#011train-balanced_accuracy:0.83419#011validation-mlogloss:0.41137#011validation-balanced_accuracy:0.81395\u001b[0m\n",
      "\n",
      "2023-11-09 11:42:40 Uploading - Uploading generated training model\n",
      "2023-11-09 11:42:40 Completed - Training job completed\n",
      "Training seconds: 152\n",
      "Billable seconds: 152\n"
     ]
    }
   ],
   "source": [
    "import sagemaker\n",
    "import boto3\n",
    "from sagemaker import image_uris\n",
    "from sagemaker.session import Session\n",
    "from sagemaker.inputs import TrainingInput\n",
    "\n",
    "# initialize hyperparameters\n",
    "hyperparameters = {\n",
    "        \"eval_metric\":\"balanced_accuracy\",\n",
    "        \"num_class\":6,\n",
    "        \"max_depth\":\"5\",\n",
    "        \"eta\":\"0.2\",\n",
    "        \"gamma\":\"4\",\n",
    "        \"min_child_weight\":\"6\",\n",
    "        \"subsample\":\"0.7\",\n",
    "        \"objective\":\"multi:softmax\",\n",
    "        \"num_round\":\"150\"}\n",
    "\n",
    "# set an output path where the trained model will be saved\n",
    "#bucket = sagemaker.Session().default_bucket()\n",
    "#prefix = 'DEMO-xgboost-as-a-built-in-algo'\n",
    "output_path = 's3://{}/{}/{}/output'.format(bucket, prefix, 'xgb-HAR-MulticlassificationModel')\n",
    "\n",
    "# this line automatically looks for the XGBoost image URI and builds an XGBoost container.\n",
    "# specify the repo_version depending on your preference.\n",
    "xgboost_container = sagemaker.image_uris.retrieve(\"xgboost\", region, \"1.7-1\")\n",
    "\n",
    "# construct a SageMaker estimator that calls the xgboost-container\n",
    "xgboost_estimator = sagemaker.estimator.Estimator(image_uri=xgboost_container, \n",
    "                                          hyperparameters=hyperparameters,\n",
    "                                          role=sagemaker.get_execution_role(),\n",
    "                                          instance_count=1, \n",
    "                                          instance_type='ml.m5.2xlarge', \n",
    "                                          volume_size=5, # 5 GB \n",
    "                                          output_path=output_path)\n",
    "\n",
    "# define the data type and paths to the training and validation datasets\n",
    "content_type = \"text/csv\"#\"libsvm\"\n",
    "train_input = TrainingInput(\"s3://{}/{}/{}/\".format(prefix,bucket,'train'), content_type=content_type)\n",
    "validation_input = TrainingInput(\"s3://{}/{}/{}/\".format(prefix,bucket,'validation'), content_type=content_type)\n",
    "\n",
    "# execute the XGBoost training job\n",
    "xgboost_estimator.fit({'train': train_input, 'validation': validation_input})\n",
    "# 's3://mlopslevel1aws/sagemaker-ap-south-1-009676737623/train_data.gzip'\n",
    "# f's3://{prefix}/{bucket}/train_data.gzip'"
   ]
  },
  {
   "cell_type": "markdown",
   "id": "dd118d2c-7e22-4b73-ae4b-5381be53d282",
   "metadata": {
    "jp-MarkdownHeadingCollapsed": true,
    "tags": []
   },
   "source": [
    "## 2.5 Evaluation"
   ]
  },
  {
   "cell_type": "code",
   "execution_count": null,
   "id": "789894f0-5d7e-470e-b118-37f3ec2f4bbc",
   "metadata": {
    "tags": []
   },
   "outputs": [],
   "source": [
    "validation_data = pd.read_csv(validation_path + '/validation.csv')\n",
    "validation_data_feature = validation_data.iloc[:,1:] \n",
    "validation_data_label = validation_data.iloc[:,0] "
   ]
  },
  {
   "cell_type": "markdown",
   "id": "67abcfa8-6342-45bd-b81e-d664df4f5fd3",
   "metadata": {
    "jp-MarkdownHeadingCollapsed": true,
    "tags": []
   },
   "source": [
    "## Hosting"
   ]
  },
  {
   "cell_type": "code",
   "execution_count": 33,
   "id": "f3b76241-fe51-4c74-a510-38ea5834778e",
   "metadata": {
    "tags": []
   },
   "outputs": [
    {
     "name": "stdout",
     "output_type": "stream",
     "text": [
      "sagemaker.config INFO - Not applying SDK defaults from location: /etc/xdg/sagemaker/config.yaml\n",
      "sagemaker.config INFO - Not applying SDK defaults from location: /root/.config/sagemaker/config.yaml\n"
     ]
    }
   ],
   "source": [
    "from sagemaker.model_monitor import DataCaptureConfig\n",
    "\n",
    "# Set to True to enable data capture\n",
    "enable_capture = True\n",
    "\n",
    "# Optional - Sampling percentage. Choose an integer value between 0 and 100\n",
    "sampling_percentage = 100\n",
    "# sampling_percentage = 30 # Example 30%\n",
    "\n",
    "# Optional - The S3 URI of stored captured-data location\n",
    "s3_capture_upload_path =f\"s3://{bucket}/{prefix}/datacapture/\"\n",
    "\n",
    "# Specify either Input, Output or both. \n",
    "capture_modes = ['REQUEST','RESPONSE'] # In this example, we specify both\n",
    "\n",
    "# Configuration object passed in when deploying Models to SM endpoints\n",
    "data_capture_config = DataCaptureConfig(\n",
    "    enable_capture = enable_capture, \n",
    "    sampling_percentage = sampling_percentage, # Optional\n",
    "    destination_s3_uri = s3_capture_upload_path, # Optional\n",
    "    capture_options = [\"REQUEST\", \"RESPONSE\"],\n",
    ")"
   ]
  },
  {
   "cell_type": "code",
   "execution_count": 34,
   "id": "e120031b-1fc2-412d-b0c0-b8968782489e",
   "metadata": {
    "tags": []
   },
   "outputs": [
    {
     "name": "stdout",
     "output_type": "stream",
     "text": [
      "EndpointName = Sklearn-Inference-endpoint-2023-11-07-1111\n"
     ]
    }
   ],
   "source": [
    "from datetime import datetime\n",
    "\n",
    "sklearn_endpoint_name =f\"Sklearn-Inference-endpoint-{datetime.utcnow():%Y-%m-%d-%H%M}\"\n",
    "print(\"EndpointName =\", sklearn_endpoint_name)"
   ]
  },
  {
   "cell_type": "markdown",
   "id": "b820acd8-2b5d-4b42-b32c-96302ec90f48",
   "metadata": {
    "jp-MarkdownHeadingCollapsed": true,
    "tags": []
   },
   "source": [
    "### Deploying Sklearn Randomforest"
   ]
  },
  {
   "cell_type": "code",
   "execution_count": 35,
   "id": "b4405e9e-2cba-446f-9385-c9b653e572fd",
   "metadata": {
    "tags": []
   },
   "outputs": [
    {
     "name": "stderr",
     "output_type": "stream",
     "text": [
      "INFO:sagemaker:Creating model with name: rf-scikit-2023-11-07-11-11-41-400\n",
      "INFO:sagemaker:Creating endpoint-config with name Sklearn-Inference-endpoint-2023-11-07-1111\n",
      "INFO:sagemaker:Creating endpoint with name Sklearn-Inference-endpoint-2023-11-07-1111\n"
     ]
    },
    {
     "name": "stdout",
     "output_type": "stream",
     "text": [
      "-----!"
     ]
    }
   ],
   "source": [
    "initial_instance_count=1\n",
    "# initial_instance_count=1 # Example\n",
    "\n",
    "instance_type='ml.m4.xlarge'\n",
    "# instance_type='ml.m4.xlarge' # Example\n",
    "\n",
    "sklearn_predictor =sklearn_estimator.deploy(\n",
    "    initial_instance_count=initial_instance_count,\n",
    "    instance_type=instance_type,\n",
    "    endpoint_name=sklearn_endpoint_name,\n",
    "    data_capture_config=data_capture_config,\n",
    "    wait = True\n",
    ")"
   ]
  },
  {
   "cell_type": "markdown",
   "id": "cbacb67a-a2b3-4a75-87be-155f9652741f",
   "metadata": {
    "jp-MarkdownHeadingCollapsed": true,
    "tags": []
   },
   "source": [
    "### Deploying Sagemaker Xgboost"
   ]
  },
  {
   "cell_type": "code",
   "execution_count": 36,
   "id": "ee46c04e-f1d7-4803-8554-0b9677759275",
   "metadata": {
    "tags": []
   },
   "outputs": [],
   "source": [
    "model_url = f's3://{bucket}/{prefix}/xgb-HAR-MulticlassificationModel/output/sagemaker-xgboost-2023-11-07-11-07-08-936/output/model.tar.gz'"
   ]
  },
  {
   "cell_type": "code",
   "execution_count": 37,
   "id": "dc06d3c5-3dde-400a-95c5-610ff3ab0859",
   "metadata": {
    "tags": []
   },
   "outputs": [
    {
     "name": "stderr",
     "output_type": "stream",
     "text": [
      "INFO:sagemaker.image_uris:Ignoring unnecessary instance type: None.\n"
     ]
    }
   ],
   "source": [
    "from sagemaker import image_uris\n",
    "\n",
    "# Name of the framework or algorithm\n",
    "framework='xgboost'\n",
    "#framework='xgboost' # Example\n",
    "\n",
    "# Version of the framework or algorithm\n",
    "version = '1.7-1'\n",
    "#version = '0.90-1' # Example\n",
    "\n",
    "# Specify an AWS container image. \n",
    "container = image_uris.retrieve(region=region, \n",
    "                                framework=framework, \n",
    "                                version=version)"
   ]
  },
  {
   "cell_type": "code",
   "execution_count": 38,
   "id": "be2e6f1d-4212-4eb2-9dd0-406bc1f12cca",
   "metadata": {
    "tags": []
   },
   "outputs": [
    {
     "name": "stdout",
     "output_type": "stream",
     "text": [
      "sagemaker.config INFO - Not applying SDK defaults from location: /etc/xdg/sagemaker/config.yaml\n",
      "sagemaker.config INFO - Not applying SDK defaults from location: /root/.config/sagemaker/config.yaml\n"
     ]
    }
   ],
   "source": [
    "from sagemaker.model import Model\n",
    "\n",
    "model = Model(image_uri=container, \n",
    "              model_data=model_url, \n",
    "              role=role)"
   ]
  },
  {
   "cell_type": "code",
   "execution_count": 39,
   "id": "90a55b53-b108-4531-80ce-58c05883a61a",
   "metadata": {
    "tags": []
   },
   "outputs": [
    {
     "name": "stdout",
     "output_type": "stream",
     "text": [
      "EndpointName = Xgboost-Inference-endpoint-2023-11-07-1116\n"
     ]
    }
   ],
   "source": [
    "xgboost_endpoint_name = f\"Xgboost-Inference-endpoint-{datetime.utcnow():%Y-%m-%d-%H%M}\"\n",
    "print(\"EndpointName =\", xgboost_endpoint_name)"
   ]
  },
  {
   "cell_type": "code",
   "execution_count": 40,
   "id": "616bd8f4-9d2e-45b1-895f-552bf556e40e",
   "metadata": {
    "tags": []
   },
   "outputs": [
    {
     "name": "stdout",
     "output_type": "stream",
     "text": [
      "sagemaker.config INFO - Not applying SDK defaults from location: /etc/xdg/sagemaker/config.yaml\n",
      "sagemaker.config INFO - Not applying SDK defaults from location: /root/.config/sagemaker/config.yaml\n"
     ]
    },
    {
     "name": "stderr",
     "output_type": "stream",
     "text": [
      "INFO:sagemaker:Creating model with name: sagemaker-xgboost-2023-11-07-11-16-07-745\n",
      "INFO:sagemaker:Creating endpoint-config with name Xgboost-Inference-endpoint-2023-11-07-1116\n",
      "INFO:sagemaker:Creating endpoint with name Xgboost-Inference-endpoint-2023-11-07-1116\n"
     ]
    },
    {
     "name": "stdout",
     "output_type": "stream",
     "text": [
      "-----!"
     ]
    }
   ],
   "source": [
    "initial_instance_count=1\n",
    "# initial_instance_count=1 # Example\n",
    "\n",
    "instance_type='ml.m4.xlarge'\n",
    "# instance_type='ml.m4.xlarge' # Example\n",
    "\n",
    "model.deploy(\n",
    "    initial_instance_count=initial_instance_count,\n",
    "    instance_type=instance_type,\n",
    "    endpoint_name=xgboost_endpoint_name,\n",
    "    data_capture_config=data_capture_config,\n",
    "    wait = True\n",
    ")"
   ]
  },
  {
   "cell_type": "markdown",
   "id": "724b3266-405c-4072-a82b-d8d34fd0d793",
   "metadata": {
    "jp-MarkdownHeadingCollapsed": true,
    "tags": []
   },
   "source": [
    "## Real time Inference"
   ]
  },
  {
   "cell_type": "code",
   "execution_count": 85,
   "id": "7f8666d4-ae40-422f-85e3-84f599645b82",
   "metadata": {
    "tags": []
   },
   "outputs": [],
   "source": [
    "sklearn_endpoint_name = 'Sklearn-Inference-endpoint-2023-11-07-1111'"
   ]
  },
  {
   "cell_type": "code",
   "execution_count": 86,
   "id": "7e8951bf-2796-48ad-8288-7ba83dc5da99",
   "metadata": {
    "tags": []
   },
   "outputs": [],
   "source": [
    "def real_time_prediction(data,ENDPOINT_NAME):\n",
    "    runtime= boto3.client('runtime.sagemaker')\n",
    "    df = data.copy()\n",
    "    n = df.shape[0]\n",
    "    if n == 1:\n",
    "        df = pd.concat([df,df])\n",
    "    payload_data = df.to_csv(header=False, index=False).encode(\"utf-8\")\n",
    "    print(df.shape)\n",
    "    response = runtime.invoke_endpoint(EndpointName=ENDPOINT_NAME,\n",
    "                                      ContentType='text/csv',\n",
    "                                      Body=payload_data)\n",
    "\n",
    "    result = json.loads(response['Body'].read().decode())\n",
    "    \n",
    "    preds = {\"Prediction\": result}\n",
    "    if n == 1:\n",
    "        preds = {'Prediction': preds['Prediction'][0]}\n",
    "    response_dict = {\n",
    "          \"statusCode\": 200,\n",
    "          \"body\": json.dumps(preds)\n",
    "                }\n",
    "    return response_dict"
   ]
  },
  {
   "cell_type": "code",
   "execution_count": 51,
   "id": "78162790-1afa-4498-a99e-d51d2e35fb98",
   "metadata": {
    "tags": []
   },
   "outputs": [],
   "source": [
    "test_path = f\"s3://{bucket}/{prefix}/test\""
   ]
  },
  {
   "cell_type": "code",
   "execution_count": 52,
   "id": "aaed36bb-52ff-452b-b6b1-e2c807f9cc31",
   "metadata": {
    "tags": []
   },
   "outputs": [],
   "source": [
    "test_x = pd.read_csv(test_path+ '/test_x.csv')"
   ]
  },
  {
   "cell_type": "code",
   "execution_count": 56,
   "id": "736e75d9-408b-42e2-87fe-429232469a9e",
   "metadata": {
    "tags": []
   },
   "outputs": [],
   "source": [
    "test_y = pd.read_csv(test_path+ '/test_y.csv')"
   ]
  },
  {
   "cell_type": "code",
   "execution_count": 54,
   "id": "5ebc1e58-fbf7-45ca-8945-a6f6126ff52a",
   "metadata": {
    "tags": []
   },
   "outputs": [
    {
     "data": {
      "text/html": [
       "<div>\n",
       "<style scoped>\n",
       "    .dataframe tbody tr th:only-of-type {\n",
       "        vertical-align: middle;\n",
       "    }\n",
       "\n",
       "    .dataframe tbody tr th {\n",
       "        vertical-align: top;\n",
       "    }\n",
       "\n",
       "    .dataframe thead th {\n",
       "        text-align: right;\n",
       "    }\n",
       "</style>\n",
       "<table border=\"1\" class=\"dataframe\">\n",
       "  <thead>\n",
       "    <tr style=\"text-align: right;\">\n",
       "      <th></th>\n",
       "      <th>0.12538716018091087</th>\n",
       "      <th>0.8029487774649597</th>\n",
       "      <th>-0.035899983823168787</th>\n",
       "      <th>-0.28022025119853866</th>\n",
       "      <th>-0.6239490719132633</th>\n",
       "      <th>-0.31447326066088277</th>\n",
       "      <th>0.7149515392059786</th>\n",
       "      <th>0.09531607494762155</th>\n",
       "      <th>-0.4980977448672084</th>\n",
       "      <th>-0.3725519617825204</th>\n",
       "      <th>-0.10598039387832446</th>\n",
       "      <th>-0.8764357144791909</th>\n",
       "    </tr>\n",
       "  </thead>\n",
       "  <tbody>\n",
       "    <tr>\n",
       "      <th>0</th>\n",
       "      <td>-0.533145</td>\n",
       "      <td>-0.013876</td>\n",
       "      <td>0.598999</td>\n",
       "      <td>0.402543</td>\n",
       "      <td>0.026407</td>\n",
       "      <td>0.606735</td>\n",
       "      <td>-0.059693</td>\n",
       "      <td>-0.071772</td>\n",
       "      <td>0.111536</td>\n",
       "      <td>0.601947</td>\n",
       "      <td>0.239421</td>\n",
       "      <td>0.080290</td>\n",
       "    </tr>\n",
       "    <tr>\n",
       "      <th>1</th>\n",
       "      <td>0.162723</td>\n",
       "      <td>0.389782</td>\n",
       "      <td>-0.692179</td>\n",
       "      <td>-0.062939</td>\n",
       "      <td>-0.948552</td>\n",
       "      <td>-0.467081</td>\n",
       "      <td>0.050767</td>\n",
       "      <td>0.648741</td>\n",
       "      <td>-0.205176</td>\n",
       "      <td>-0.807453</td>\n",
       "      <td>-0.226295</td>\n",
       "      <td>-0.394884</td>\n",
       "    </tr>\n",
       "    <tr>\n",
       "      <th>2</th>\n",
       "      <td>-0.170313</td>\n",
       "      <td>0.360048</td>\n",
       "      <td>0.359246</td>\n",
       "      <td>0.265631</td>\n",
       "      <td>0.225059</td>\n",
       "      <td>0.452753</td>\n",
       "      <td>0.303256</td>\n",
       "      <td>0.265902</td>\n",
       "      <td>-0.112602</td>\n",
       "      <td>-0.688030</td>\n",
       "      <td>-0.713346</td>\n",
       "      <td>-0.842386</td>\n",
       "    </tr>\n",
       "    <tr>\n",
       "      <th>3</th>\n",
       "      <td>-0.230777</td>\n",
       "      <td>-0.030539</td>\n",
       "      <td>0.053627</td>\n",
       "      <td>0.543507</td>\n",
       "      <td>0.766794</td>\n",
       "      <td>0.090604</td>\n",
       "      <td>-0.044974</td>\n",
       "      <td>-0.132732</td>\n",
       "      <td>0.126180</td>\n",
       "      <td>0.468820</td>\n",
       "      <td>0.269614</td>\n",
       "      <td>0.026479</td>\n",
       "    </tr>\n",
       "    <tr>\n",
       "      <th>4</th>\n",
       "      <td>0.120482</td>\n",
       "      <td>-0.074889</td>\n",
       "      <td>-0.156742</td>\n",
       "      <td>-0.002047</td>\n",
       "      <td>-0.406514</td>\n",
       "      <td>-0.519644</td>\n",
       "      <td>-0.004162</td>\n",
       "      <td>-0.077012</td>\n",
       "      <td>0.150565</td>\n",
       "      <td>-0.085007</td>\n",
       "      <td>-0.412763</td>\n",
       "      <td>-0.791543</td>\n",
       "    </tr>\n",
       "  </tbody>\n",
       "</table>\n",
       "</div>"
      ],
      "text/plain": [
       "   0.12538716018091087  0.8029487774649597  -0.035899983823168787  \\\n",
       "0            -0.533145           -0.013876               0.598999   \n",
       "1             0.162723            0.389782              -0.692179   \n",
       "2            -0.170313            0.360048               0.359246   \n",
       "3            -0.230777           -0.030539               0.053627   \n",
       "4             0.120482           -0.074889              -0.156742   \n",
       "\n",
       "   -0.28022025119853866  -0.6239490719132633  -0.31447326066088277  \\\n",
       "0              0.402543             0.026407              0.606735   \n",
       "1             -0.062939            -0.948552             -0.467081   \n",
       "2              0.265631             0.225059              0.452753   \n",
       "3              0.543507             0.766794              0.090604   \n",
       "4             -0.002047            -0.406514             -0.519644   \n",
       "\n",
       "   0.7149515392059786  0.09531607494762155  -0.4980977448672084  \\\n",
       "0           -0.059693            -0.071772             0.111536   \n",
       "1            0.050767             0.648741            -0.205176   \n",
       "2            0.303256             0.265902            -0.112602   \n",
       "3           -0.044974            -0.132732             0.126180   \n",
       "4           -0.004162            -0.077012             0.150565   \n",
       "\n",
       "   -0.3725519617825204  -0.10598039387832446  -0.8764357144791909  \n",
       "0             0.601947              0.239421             0.080290  \n",
       "1            -0.807453             -0.226295            -0.394884  \n",
       "2            -0.688030             -0.713346            -0.842386  \n",
       "3             0.468820              0.269614             0.026479  \n",
       "4            -0.085007             -0.412763            -0.791543  "
      ]
     },
     "execution_count": 54,
     "metadata": {},
     "output_type": "execute_result"
    }
   ],
   "source": [
    "test_x.head()"
   ]
  },
  {
   "cell_type": "code",
   "execution_count": 87,
   "id": "4ea2d40d-6eee-4a59-960d-68c6d8a9e28f",
   "metadata": {
    "tags": []
   },
   "outputs": [
    {
     "name": "stdout",
     "output_type": "stream",
     "text": [
      "(10, 12)\n"
     ]
    },
    {
     "data": {
      "text/plain": [
       "{'statusCode': 200, 'body': '{\"Prediction\": [4, 0, 1, 4, 0, 3, 3, 5, 3, 2]}'}"
      ]
     },
     "execution_count": 87,
     "metadata": {},
     "output_type": "execute_result"
    }
   ],
   "source": [
    "real_time_prediction(test_x.iloc[0:10],sklearn_endpoint_name)"
   ]
  },
  {
   "cell_type": "code",
   "execution_count": 64,
   "id": "aba99110-4ee0-4f85-a300-83dea4c7fb5d",
   "metadata": {
    "tags": []
   },
   "outputs": [
    {
     "name": "stdout",
     "output_type": "stream",
     "text": [
      "(9999, 12)\n"
     ]
    }
   ],
   "source": [
    "y_pred = real_time_prediction(test_x,sklearn_endpoint_name)"
   ]
  },
  {
   "cell_type": "code",
   "execution_count": 75,
   "id": "52a1f90d-e57f-418b-ab79-56975577ace2",
   "metadata": {
    "tags": []
   },
   "outputs": [],
   "source": [
    "y_pred = eval(y_pred['body'])['Prediction']"
   ]
  },
  {
   "cell_type": "code",
   "execution_count": 77,
   "id": "a181fb93-106d-4ff5-a2a5-ca5a916bf226",
   "metadata": {
    "tags": []
   },
   "outputs": [
    {
     "name": "stdout",
     "output_type": "stream",
     "text": [
      "              precision    recall  f1-score   support\n",
      "\n",
      "           0       1.00      1.00      1.00      1704\n",
      "           1       0.86      0.88      0.87      1623\n",
      "           2       0.88      0.87      0.88      1704\n",
      "           3       0.70      0.72      0.71      1583\n",
      "           4       0.85      0.78      0.81      1813\n",
      "           5       0.70      0.74      0.71      1572\n",
      "\n",
      "    accuracy                           0.83      9999\n",
      "   macro avg       0.83      0.83      0.83      9999\n",
      "weighted avg       0.84      0.83      0.83      9999\n",
      "\n"
     ]
    }
   ],
   "source": [
    "from sklearn.metrics import classification_report\n",
    "print(classification_report(y_pred, test_y))"
   ]
  },
  {
   "cell_type": "code",
   "execution_count": 1,
   "id": "c44ba27e-29ab-40be-8750-625e4196c981",
   "metadata": {
    "tags": []
   },
   "outputs": [],
   "source": [
    "#pd.crosstab(index=test_y['y'].values, columns=np.round(predictions), rownames=['actuals'], colnames=['predictions'])\n"
   ]
  },
  {
   "cell_type": "code",
   "execution_count": 182,
   "id": "3d11af0b-e29b-4e0e-b041-818a4c66ac76",
   "metadata": {
    "tags": []
   },
   "outputs": [],
   "source": [
    "###### END #######\n"
   ]
  }
 ],
 "metadata": {
  "availableInstances": [
   {
    "_defaultOrder": 0,
    "_isFastLaunch": true,
    "category": "General purpose",
    "gpuNum": 0,
    "hideHardwareSpecs": false,
    "memoryGiB": 4,
    "name": "ml.t3.medium",
    "vcpuNum": 2
   },
   {
    "_defaultOrder": 1,
    "_isFastLaunch": false,
    "category": "General purpose",
    "gpuNum": 0,
    "hideHardwareSpecs": false,
    "memoryGiB": 8,
    "name": "ml.t3.large",
    "vcpuNum": 2
   },
   {
    "_defaultOrder": 2,
    "_isFastLaunch": false,
    "category": "General purpose",
    "gpuNum": 0,
    "hideHardwareSpecs": false,
    "memoryGiB": 16,
    "name": "ml.t3.xlarge",
    "vcpuNum": 4
   },
   {
    "_defaultOrder": 3,
    "_isFastLaunch": false,
    "category": "General purpose",
    "gpuNum": 0,
    "hideHardwareSpecs": false,
    "memoryGiB": 32,
    "name": "ml.t3.2xlarge",
    "vcpuNum": 8
   },
   {
    "_defaultOrder": 4,
    "_isFastLaunch": true,
    "category": "General purpose",
    "gpuNum": 0,
    "hideHardwareSpecs": false,
    "memoryGiB": 8,
    "name": "ml.m5.large",
    "vcpuNum": 2
   },
   {
    "_defaultOrder": 5,
    "_isFastLaunch": false,
    "category": "General purpose",
    "gpuNum": 0,
    "hideHardwareSpecs": false,
    "memoryGiB": 16,
    "name": "ml.m5.xlarge",
    "vcpuNum": 4
   },
   {
    "_defaultOrder": 6,
    "_isFastLaunch": false,
    "category": "General purpose",
    "gpuNum": 0,
    "hideHardwareSpecs": false,
    "memoryGiB": 32,
    "name": "ml.m5.2xlarge",
    "vcpuNum": 8
   },
   {
    "_defaultOrder": 7,
    "_isFastLaunch": false,
    "category": "General purpose",
    "gpuNum": 0,
    "hideHardwareSpecs": false,
    "memoryGiB": 64,
    "name": "ml.m5.4xlarge",
    "vcpuNum": 16
   },
   {
    "_defaultOrder": 8,
    "_isFastLaunch": false,
    "category": "General purpose",
    "gpuNum": 0,
    "hideHardwareSpecs": false,
    "memoryGiB": 128,
    "name": "ml.m5.8xlarge",
    "vcpuNum": 32
   },
   {
    "_defaultOrder": 9,
    "_isFastLaunch": false,
    "category": "General purpose",
    "gpuNum": 0,
    "hideHardwareSpecs": false,
    "memoryGiB": 192,
    "name": "ml.m5.12xlarge",
    "vcpuNum": 48
   },
   {
    "_defaultOrder": 10,
    "_isFastLaunch": false,
    "category": "General purpose",
    "gpuNum": 0,
    "hideHardwareSpecs": false,
    "memoryGiB": 256,
    "name": "ml.m5.16xlarge",
    "vcpuNum": 64
   },
   {
    "_defaultOrder": 11,
    "_isFastLaunch": false,
    "category": "General purpose",
    "gpuNum": 0,
    "hideHardwareSpecs": false,
    "memoryGiB": 384,
    "name": "ml.m5.24xlarge",
    "vcpuNum": 96
   },
   {
    "_defaultOrder": 12,
    "_isFastLaunch": false,
    "category": "General purpose",
    "gpuNum": 0,
    "hideHardwareSpecs": false,
    "memoryGiB": 8,
    "name": "ml.m5d.large",
    "vcpuNum": 2
   },
   {
    "_defaultOrder": 13,
    "_isFastLaunch": false,
    "category": "General purpose",
    "gpuNum": 0,
    "hideHardwareSpecs": false,
    "memoryGiB": 16,
    "name": "ml.m5d.xlarge",
    "vcpuNum": 4
   },
   {
    "_defaultOrder": 14,
    "_isFastLaunch": false,
    "category": "General purpose",
    "gpuNum": 0,
    "hideHardwareSpecs": false,
    "memoryGiB": 32,
    "name": "ml.m5d.2xlarge",
    "vcpuNum": 8
   },
   {
    "_defaultOrder": 15,
    "_isFastLaunch": false,
    "category": "General purpose",
    "gpuNum": 0,
    "hideHardwareSpecs": false,
    "memoryGiB": 64,
    "name": "ml.m5d.4xlarge",
    "vcpuNum": 16
   },
   {
    "_defaultOrder": 16,
    "_isFastLaunch": false,
    "category": "General purpose",
    "gpuNum": 0,
    "hideHardwareSpecs": false,
    "memoryGiB": 128,
    "name": "ml.m5d.8xlarge",
    "vcpuNum": 32
   },
   {
    "_defaultOrder": 17,
    "_isFastLaunch": false,
    "category": "General purpose",
    "gpuNum": 0,
    "hideHardwareSpecs": false,
    "memoryGiB": 192,
    "name": "ml.m5d.12xlarge",
    "vcpuNum": 48
   },
   {
    "_defaultOrder": 18,
    "_isFastLaunch": false,
    "category": "General purpose",
    "gpuNum": 0,
    "hideHardwareSpecs": false,
    "memoryGiB": 256,
    "name": "ml.m5d.16xlarge",
    "vcpuNum": 64
   },
   {
    "_defaultOrder": 19,
    "_isFastLaunch": false,
    "category": "General purpose",
    "gpuNum": 0,
    "hideHardwareSpecs": false,
    "memoryGiB": 384,
    "name": "ml.m5d.24xlarge",
    "vcpuNum": 96
   },
   {
    "_defaultOrder": 20,
    "_isFastLaunch": false,
    "category": "General purpose",
    "gpuNum": 0,
    "hideHardwareSpecs": true,
    "memoryGiB": 0,
    "name": "ml.geospatial.interactive",
    "supportedImageNames": [
     "sagemaker-geospatial-v1-0"
    ],
    "vcpuNum": 0
   },
   {
    "_defaultOrder": 21,
    "_isFastLaunch": true,
    "category": "Compute optimized",
    "gpuNum": 0,
    "hideHardwareSpecs": false,
    "memoryGiB": 4,
    "name": "ml.c5.large",
    "vcpuNum": 2
   },
   {
    "_defaultOrder": 22,
    "_isFastLaunch": false,
    "category": "Compute optimized",
    "gpuNum": 0,
    "hideHardwareSpecs": false,
    "memoryGiB": 8,
    "name": "ml.c5.xlarge",
    "vcpuNum": 4
   },
   {
    "_defaultOrder": 23,
    "_isFastLaunch": false,
    "category": "Compute optimized",
    "gpuNum": 0,
    "hideHardwareSpecs": false,
    "memoryGiB": 16,
    "name": "ml.c5.2xlarge",
    "vcpuNum": 8
   },
   {
    "_defaultOrder": 24,
    "_isFastLaunch": false,
    "category": "Compute optimized",
    "gpuNum": 0,
    "hideHardwareSpecs": false,
    "memoryGiB": 32,
    "name": "ml.c5.4xlarge",
    "vcpuNum": 16
   },
   {
    "_defaultOrder": 25,
    "_isFastLaunch": false,
    "category": "Compute optimized",
    "gpuNum": 0,
    "hideHardwareSpecs": false,
    "memoryGiB": 72,
    "name": "ml.c5.9xlarge",
    "vcpuNum": 36
   },
   {
    "_defaultOrder": 26,
    "_isFastLaunch": false,
    "category": "Compute optimized",
    "gpuNum": 0,
    "hideHardwareSpecs": false,
    "memoryGiB": 96,
    "name": "ml.c5.12xlarge",
    "vcpuNum": 48
   },
   {
    "_defaultOrder": 27,
    "_isFastLaunch": false,
    "category": "Compute optimized",
    "gpuNum": 0,
    "hideHardwareSpecs": false,
    "memoryGiB": 144,
    "name": "ml.c5.18xlarge",
    "vcpuNum": 72
   },
   {
    "_defaultOrder": 28,
    "_isFastLaunch": false,
    "category": "Compute optimized",
    "gpuNum": 0,
    "hideHardwareSpecs": false,
    "memoryGiB": 192,
    "name": "ml.c5.24xlarge",
    "vcpuNum": 96
   },
   {
    "_defaultOrder": 29,
    "_isFastLaunch": true,
    "category": "Accelerated computing",
    "gpuNum": 1,
    "hideHardwareSpecs": false,
    "memoryGiB": 16,
    "name": "ml.g4dn.xlarge",
    "vcpuNum": 4
   },
   {
    "_defaultOrder": 30,
    "_isFastLaunch": false,
    "category": "Accelerated computing",
    "gpuNum": 1,
    "hideHardwareSpecs": false,
    "memoryGiB": 32,
    "name": "ml.g4dn.2xlarge",
    "vcpuNum": 8
   },
   {
    "_defaultOrder": 31,
    "_isFastLaunch": false,
    "category": "Accelerated computing",
    "gpuNum": 1,
    "hideHardwareSpecs": false,
    "memoryGiB": 64,
    "name": "ml.g4dn.4xlarge",
    "vcpuNum": 16
   },
   {
    "_defaultOrder": 32,
    "_isFastLaunch": false,
    "category": "Accelerated computing",
    "gpuNum": 1,
    "hideHardwareSpecs": false,
    "memoryGiB": 128,
    "name": "ml.g4dn.8xlarge",
    "vcpuNum": 32
   },
   {
    "_defaultOrder": 33,
    "_isFastLaunch": false,
    "category": "Accelerated computing",
    "gpuNum": 4,
    "hideHardwareSpecs": false,
    "memoryGiB": 192,
    "name": "ml.g4dn.12xlarge",
    "vcpuNum": 48
   },
   {
    "_defaultOrder": 34,
    "_isFastLaunch": false,
    "category": "Accelerated computing",
    "gpuNum": 1,
    "hideHardwareSpecs": false,
    "memoryGiB": 256,
    "name": "ml.g4dn.16xlarge",
    "vcpuNum": 64
   },
   {
    "_defaultOrder": 35,
    "_isFastLaunch": false,
    "category": "Accelerated computing",
    "gpuNum": 1,
    "hideHardwareSpecs": false,
    "memoryGiB": 61,
    "name": "ml.p3.2xlarge",
    "vcpuNum": 8
   },
   {
    "_defaultOrder": 36,
    "_isFastLaunch": false,
    "category": "Accelerated computing",
    "gpuNum": 4,
    "hideHardwareSpecs": false,
    "memoryGiB": 244,
    "name": "ml.p3.8xlarge",
    "vcpuNum": 32
   },
   {
    "_defaultOrder": 37,
    "_isFastLaunch": false,
    "category": "Accelerated computing",
    "gpuNum": 8,
    "hideHardwareSpecs": false,
    "memoryGiB": 488,
    "name": "ml.p3.16xlarge",
    "vcpuNum": 64
   },
   {
    "_defaultOrder": 38,
    "_isFastLaunch": false,
    "category": "Accelerated computing",
    "gpuNum": 8,
    "hideHardwareSpecs": false,
    "memoryGiB": 768,
    "name": "ml.p3dn.24xlarge",
    "vcpuNum": 96
   },
   {
    "_defaultOrder": 39,
    "_isFastLaunch": false,
    "category": "Memory Optimized",
    "gpuNum": 0,
    "hideHardwareSpecs": false,
    "memoryGiB": 16,
    "name": "ml.r5.large",
    "vcpuNum": 2
   },
   {
    "_defaultOrder": 40,
    "_isFastLaunch": false,
    "category": "Memory Optimized",
    "gpuNum": 0,
    "hideHardwareSpecs": false,
    "memoryGiB": 32,
    "name": "ml.r5.xlarge",
    "vcpuNum": 4
   },
   {
    "_defaultOrder": 41,
    "_isFastLaunch": false,
    "category": "Memory Optimized",
    "gpuNum": 0,
    "hideHardwareSpecs": false,
    "memoryGiB": 64,
    "name": "ml.r5.2xlarge",
    "vcpuNum": 8
   },
   {
    "_defaultOrder": 42,
    "_isFastLaunch": false,
    "category": "Memory Optimized",
    "gpuNum": 0,
    "hideHardwareSpecs": false,
    "memoryGiB": 128,
    "name": "ml.r5.4xlarge",
    "vcpuNum": 16
   },
   {
    "_defaultOrder": 43,
    "_isFastLaunch": false,
    "category": "Memory Optimized",
    "gpuNum": 0,
    "hideHardwareSpecs": false,
    "memoryGiB": 256,
    "name": "ml.r5.8xlarge",
    "vcpuNum": 32
   },
   {
    "_defaultOrder": 44,
    "_isFastLaunch": false,
    "category": "Memory Optimized",
    "gpuNum": 0,
    "hideHardwareSpecs": false,
    "memoryGiB": 384,
    "name": "ml.r5.12xlarge",
    "vcpuNum": 48
   },
   {
    "_defaultOrder": 45,
    "_isFastLaunch": false,
    "category": "Memory Optimized",
    "gpuNum": 0,
    "hideHardwareSpecs": false,
    "memoryGiB": 512,
    "name": "ml.r5.16xlarge",
    "vcpuNum": 64
   },
   {
    "_defaultOrder": 46,
    "_isFastLaunch": false,
    "category": "Memory Optimized",
    "gpuNum": 0,
    "hideHardwareSpecs": false,
    "memoryGiB": 768,
    "name": "ml.r5.24xlarge",
    "vcpuNum": 96
   },
   {
    "_defaultOrder": 47,
    "_isFastLaunch": false,
    "category": "Accelerated computing",
    "gpuNum": 1,
    "hideHardwareSpecs": false,
    "memoryGiB": 16,
    "name": "ml.g5.xlarge",
    "vcpuNum": 4
   },
   {
    "_defaultOrder": 48,
    "_isFastLaunch": false,
    "category": "Accelerated computing",
    "gpuNum": 1,
    "hideHardwareSpecs": false,
    "memoryGiB": 32,
    "name": "ml.g5.2xlarge",
    "vcpuNum": 8
   },
   {
    "_defaultOrder": 49,
    "_isFastLaunch": false,
    "category": "Accelerated computing",
    "gpuNum": 1,
    "hideHardwareSpecs": false,
    "memoryGiB": 64,
    "name": "ml.g5.4xlarge",
    "vcpuNum": 16
   },
   {
    "_defaultOrder": 50,
    "_isFastLaunch": false,
    "category": "Accelerated computing",
    "gpuNum": 1,
    "hideHardwareSpecs": false,
    "memoryGiB": 128,
    "name": "ml.g5.8xlarge",
    "vcpuNum": 32
   },
   {
    "_defaultOrder": 51,
    "_isFastLaunch": false,
    "category": "Accelerated computing",
    "gpuNum": 1,
    "hideHardwareSpecs": false,
    "memoryGiB": 256,
    "name": "ml.g5.16xlarge",
    "vcpuNum": 64
   },
   {
    "_defaultOrder": 52,
    "_isFastLaunch": false,
    "category": "Accelerated computing",
    "gpuNum": 4,
    "hideHardwareSpecs": false,
    "memoryGiB": 192,
    "name": "ml.g5.12xlarge",
    "vcpuNum": 48
   },
   {
    "_defaultOrder": 53,
    "_isFastLaunch": false,
    "category": "Accelerated computing",
    "gpuNum": 4,
    "hideHardwareSpecs": false,
    "memoryGiB": 384,
    "name": "ml.g5.24xlarge",
    "vcpuNum": 96
   },
   {
    "_defaultOrder": 54,
    "_isFastLaunch": false,
    "category": "Accelerated computing",
    "gpuNum": 8,
    "hideHardwareSpecs": false,
    "memoryGiB": 768,
    "name": "ml.g5.48xlarge",
    "vcpuNum": 192
   },
   {
    "_defaultOrder": 55,
    "_isFastLaunch": false,
    "category": "Accelerated computing",
    "gpuNum": 8,
    "hideHardwareSpecs": false,
    "memoryGiB": 1152,
    "name": "ml.p4d.24xlarge",
    "vcpuNum": 96
   },
   {
    "_defaultOrder": 56,
    "_isFastLaunch": false,
    "category": "Accelerated computing",
    "gpuNum": 8,
    "hideHardwareSpecs": false,
    "memoryGiB": 1152,
    "name": "ml.p4de.24xlarge",
    "vcpuNum": 96
   }
  ],
  "instance_type": "ml.t3.medium",
  "kernelspec": {
   "display_name": "conda_python3",
   "language": "python",
   "name": "conda_python3"
  },
  "language_info": {
   "codemirror_mode": {
    "name": "ipython",
    "version": 3
   },
   "file_extension": ".py",
   "mimetype": "text/x-python",
   "name": "python",
   "nbconvert_exporter": "python",
   "pygments_lexer": "ipython3",
   "version": "3.10.12"
  }
 },
 "nbformat": 4,
 "nbformat_minor": 5
}
