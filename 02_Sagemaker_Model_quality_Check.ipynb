{
  "cells": [
    {
      "cell_type": "markdown",
      "metadata": {
        "id": "ug5GPVI-wb78"
      },
      "source": [
        "# Amazon SageMaker Model Quality Monitor\n"
      ]
    },
    {
      "cell_type": "markdown",
      "metadata": {
        "id": "s-9UxxEUwb8A"
      },
      "source": [
        "#### Host a trained machine learning model in Amazon SageMaker.  Monitor and detect machine learning model quality drift\n",
        "\n",
        "\n",
        "This notebook shows how to:\n",
        "* Host a machine learning model in Amazon SageMaker and capture inference requests, results, and metadata\n",
        "* Generate a baseline of model quality and suggested constraints\n",
        "* Monitor a live endpoint for violations against the suggested constraints\n",
        "* Generate CloudWatch Alarms on model quality drift\n",
        "\n"
      ]
    },
    {
      "cell_type": "markdown",
      "metadata": {
        "id": "i_QivBWlwb8B"
      },
      "source": [
        "## Section 1 - Setup <a id='setup'></a>\n",
        "\n",
        "In this section,\n",
        "* The AWS region used to host model.\n",
        "* The IAM role associated with this SageMaker notebook instance.\n",
        "* The S3 bucket used to store the data used to train model, any additional model data, and the data captured from model invocations."
      ]
    },
    {
      "cell_type": "markdown",
      "metadata": {
        "id": "EZlzV8UJwb8C"
      },
      "source": [
        "#### 1.1 Import necessary libraries"
      ]
    },
    {
      "cell_type": "code",
      "execution_count": null,
      "metadata": {
        "tags": [],
        "id": "tf3jH_8Iwb8C",
        "outputId": "26d85e8f-ad0f-417e-aa6e-a50236efdebf"
      },
      "outputs": [
        {
          "name": "stdout",
          "output_type": "stream",
          "text": [
            "sagemaker.config INFO - Not applying SDK defaults from location: /etc/xdg/sagemaker/config.yaml\n",
            "sagemaker.config INFO - Not applying SDK defaults from location: /root/.config/sagemaker/config.yaml\n",
            "CPU times: user 21.8 ms, sys: 9.18 ms, total: 31 ms\n",
            "Wall time: 56 ms\n"
          ]
        }
      ],
      "source": [
        "%%time\n",
        "from datetime import datetime, timedelta, timezone\n",
        "import json\n",
        "import os\n",
        "import re\n",
        "import boto3\n",
        "from time import sleep\n",
        "from threading import Thread\n",
        "\n",
        "import pandas as pd\n",
        "\n",
        "from sagemaker import get_execution_role, session, Session, image_uris\n",
        "from sagemaker.s3 import S3Downloader, S3Uploader\n",
        "from sagemaker.processing import ProcessingJob\n",
        "from sagemaker.serializers import CSVSerializer\n",
        "\n",
        "from sagemaker.model import Model\n",
        "from sagemaker.model_monitor import DataCaptureConfig\n",
        "\n",
        "session = Session()"
      ]
    },
    {
      "cell_type": "markdown",
      "metadata": {
        "id": "d-cmLCOOwb8E"
      },
      "source": [
        "#### 1.2 AWS region and  IAM Role"
      ]
    },
    {
      "cell_type": "code",
      "execution_count": null,
      "metadata": {
        "tags": [],
        "id": "ZoLNY2Krwb8F",
        "outputId": "5e3b4357-5053-413b-ec86-35fa50a7b579"
      },
      "outputs": [
        {
          "name": "stdout",
          "output_type": "stream",
          "text": [
            "sagemaker.config INFO - Not applying SDK defaults from location: /etc/xdg/sagemaker/config.yaml\n",
            "sagemaker.config INFO - Not applying SDK defaults from location: /root/.config/sagemaker/config.yaml\n",
            "RoleArn: arn:aws:iam::752847213914:role/service-role/AmazonSageMakerServiceCatalogProductsExecutionRole\n",
            "Region: us-east-1\n"
          ]
        }
      ],
      "source": [
        "# Get Execution role\n",
        "role = get_execution_role()\n",
        "print(\"RoleArn:\", role)\n",
        "\n",
        "region = session.boto_region_name\n",
        "print(\"Region:\", region)"
      ]
    },
    {
      "cell_type": "markdown",
      "metadata": {
        "id": "ftt6UK_Iwb8G"
      },
      "source": [
        "#### 1.3 S3 bucket and prefixes"
      ]
    },
    {
      "cell_type": "code",
      "execution_count": null,
      "metadata": {
        "tags": [],
        "id": "WNBTxiPzwb8G",
        "outputId": "5157b66d-9194-4901-83b6-b2409f0c0865"
      },
      "outputs": [
        {
          "name": "stdout",
          "output_type": "stream",
          "text": [
            "Demo Bucket: sagemaker-us-east-1-752847213914\n",
            "Image URI: 156813124566.dkr.ecr.us-east-1.amazonaws.com/sagemaker-model-monitor-analyzer\n",
            "Capture path: s3://sagemaker-us-east-1-752847213914/mlops-data/datacapture\n",
            "Ground truth path: s3://sagemaker-us-east-1-752847213914/mlops-data/ground_truth_data/2023-11-06-14-16-55\n",
            "Report path: s3://sagemaker-us-east-1-752847213914/mlops-data/reports\n"
          ]
        }
      ],
      "source": [
        "# Setup S3 bucket\n",
        "\n",
        "print(\"Demo Bucket:\", bucket)\n",
        "prefix = 'mlops-data' #'mlops-level1-data'\n",
        "\n",
        "##S3 prefixes\n",
        "data_capture_prefix = f\"{prefix}/datacapture\"\n",
        "s3_capture_upload_path = f\"s3://{bucket}/{data_capture_prefix}\"\n",
        "\n",
        "ground_truth_upload_path = (\n",
        "    f\"s3://{bucket}/{prefix}/ground_truth_data/{datetime.now():%Y-%m-%d-%H-%M-%S}\"\n",
        ")\n",
        "\n",
        "reports_prefix = f\"{prefix}/reports\"\n",
        "s3_report_path = f\"s3://{bucket}/{reports_prefix}\"\n",
        "\n",
        "##Get the model monitor image\n",
        "monitor_image_uri = image_uris.retrieve(framework=\"model-monitor\", region=region)\n",
        "\n",
        "print(\"Image URI:\", monitor_image_uri)\n",
        "print(f\"Capture path: {s3_capture_upload_path}\")\n",
        "print(f\"Ground truth path: {ground_truth_upload_path}\")\n",
        "print(f\"Report path: {s3_report_path}\")"
      ]
    },
    {
      "cell_type": "markdown",
      "metadata": {
        "tags": [],
        "id": "w1EElWJYwb8G"
      },
      "source": [
        "## Section 2 - Deploy pre-trained model with data capture enabled"
      ]
    },
    {
      "cell_type": "markdown",
      "metadata": {
        "tags": [],
        "id": "9wZQSvFcwb8H"
      },
      "source": [
        "#### 2.1 Use Model Registry\n"
      ]
    },
    {
      "cell_type": "code",
      "execution_count": null,
      "metadata": {
        "tags": [],
        "id": "XZ-6sVFrwb8H"
      },
      "outputs": [],
      "source": [
        "model_url = f's3://{bucket}/{prefix}/xgb-built-in-algo/output/sagemaker-xgboost-2023-11-06-16-00-35-408/output/model.tar.gz'\n"
      ]
    },
    {
      "cell_type": "markdown",
      "metadata": {
        "jp-MarkdownHeadingCollapsed": true,
        "tags": [],
        "id": "YCTqf3W6wb8H"
      },
      "source": [
        "#### 2.2 Create SageMaker Model entity\n",
        "\n",
        "This step creates an Amazon SageMaker model from the  model file uploaded to S3."
      ]
    },
    {
      "cell_type": "code",
      "execution_count": null,
      "metadata": {
        "tags": [],
        "id": "qITBh7n5wb8H",
        "outputId": "5bc67c78-71cc-4924-f6fc-e280d99de5f5"
      },
      "outputs": [
        {
          "name": "stderr",
          "output_type": "stream",
          "text": [
            "INFO:sagemaker.image_uris:Ignoring unnecessary instance type: None.\n"
          ]
        }
      ],
      "source": [
        "#model_name = f\"DEMO-xgb-churn-pred-model-monitor-{datetime.utcnow():%Y-%m-%d-%H%M}\"\n",
        "\n",
        "image_uri = image_uris.retrieve(framework=\"xgboost\", version=\"1.7-1\", region=region)\n",
        "\n",
        "model = Model(image_uri=image_uri, model_data=model_url, role=role, sagemaker_session=session)"
      ]
    },
    {
      "cell_type": "markdown",
      "metadata": {
        "jp-MarkdownHeadingCollapsed": true,
        "tags": [],
        "id": "ovS2tgcQwb8I"
      },
      "source": [
        "#### 2.3 Deploy the model with data capture enabled.\n",
        "Next, deploy the SageMaker model on a specific instance with data capture enabled."
      ]
    },
    {
      "cell_type": "code",
      "execution_count": null,
      "metadata": {
        "tags": [],
        "id": "3qXvJiZiwb8I",
        "outputId": "e0811994-7d0f-46ef-bc5b-8a16e01922b7"
      },
      "outputs": [
        {
          "name": "stdout",
          "output_type": "stream",
          "text": [
            "EndpointName = DEMO-mlops-xgboost-quality-monitor-2023-11-06-1605\n",
            "sagemaker.config INFO - Not applying SDK defaults from location: /etc/xdg/sagemaker/config.yaml\n",
            "sagemaker.config INFO - Not applying SDK defaults from location: /root/.config/sagemaker/config.yaml\n"
          ]
        },
        {
          "name": "stderr",
          "output_type": "stream",
          "text": [
            "INFO:sagemaker:Creating model with name: sagemaker-xgboost-2023-11-06-16-05-16-281\n",
            "INFO:sagemaker:Creating endpoint-config with name DEMO-mlops-xgboost-quality-monitor-2023-11-06-1605\n",
            "INFO:sagemaker:Creating endpoint with name DEMO-mlops-xgboost-quality-monitor-2023-11-06-1605\n"
          ]
        },
        {
          "name": "stdout",
          "output_type": "stream",
          "text": [
            "----!"
          ]
        }
      ],
      "source": [
        "endpoint_name = f\"DEMO-mlops-xgboost-quality-monitor-{datetime.utcnow():%Y-%m-%d-%H%M}\"\n",
        "print(\"EndpointName =\", endpoint_name)\n",
        "\n",
        "data_capture_config = DataCaptureConfig(\n",
        "    enable_capture=True, sampling_percentage=100, destination_s3_uri=s3_capture_upload_path\n",
        ")\n",
        "\n",
        "model.deploy(\n",
        "    initial_instance_count=1,\n",
        "    instance_type=\"ml.m5.large\",\n",
        "    endpoint_name=endpoint_name,\n",
        "    data_capture_config=data_capture_config,\n",
        ")"
      ]
    },
    {
      "cell_type": "markdown",
      "metadata": {
        "id": "PhnslCXHwb8I"
      },
      "source": [
        "#### 2.4 Create the SageMaker Predictor object from the endpoint to be used for invoking the model"
      ]
    },
    {
      "cell_type": "code",
      "execution_count": null,
      "metadata": {
        "tags": [],
        "id": "-EJiuZfLwb8I"
      },
      "outputs": [],
      "source": [
        "endpoint_name = 'Xgboost-Inference-endpoint-2023-11-07-1116'"
      ]
    },
    {
      "cell_type": "code",
      "execution_count": null,
      "metadata": {
        "tags": [],
        "id": "-vvqsD9Ewb8I"
      },
      "outputs": [],
      "source": [
        "from sagemaker.predictor import Predictor\n",
        "\n",
        "predictor = Predictor(\n",
        "    endpoint_name=endpoint_name, sagemaker_session=session, serializer=CSVSerializer()\n",
        ")"
      ]
    },
    {
      "cell_type": "markdown",
      "metadata": {
        "tags": [],
        "id": "VRfhqzldwb8I"
      },
      "source": [
        "##  Section 3 - Generate a baseline for model quality performance <a id='generate-baseline'></a>\n"
      ]
    },
    {
      "cell_type": "markdown",
      "metadata": {
        "id": "WnZl2MJnwb8J"
      },
      "source": [
        "#### 3.1 Execute predictions using the validation dataset.\n",
        "\n",
        "The deployed model returns probability that a customer will churn. Let's choose an arbitrary 0.8 cutoff to consider that a customer will churn."
      ]
    },
    {
      "cell_type": "code",
      "execution_count": null,
      "metadata": {
        "tags": [],
        "id": "e46SnrzRwb8J"
      },
      "outputs": [],
      "source": [
        "churn_cutoff = 0.8\n",
        "validate_dataset = \"validation_with_predictions.csv\"\n"
      ]
    },
    {
      "cell_type": "code",
      "execution_count": null,
      "metadata": {
        "tags": [],
        "id": "c6AOaIrOwb8J"
      },
      "outputs": [],
      "source": [
        "validation_data = \"./data/validation.csv\"\n",
        "df = pd.read_csv(f's3://{bucket}/{prefix}/validation/validation.csv')\n"
      ]
    },
    {
      "cell_type": "code",
      "execution_count": null,
      "metadata": {
        "tags": [],
        "id": "UzWuDKNywb8J"
      },
      "outputs": [],
      "source": [
        "df.to_csv(validation_data,index = False)\n"
      ]
    },
    {
      "cell_type": "code",
      "execution_count": null,
      "metadata": {
        "tags": [],
        "id": "jaIonLc0wb8J",
        "outputId": "a4685731-95d0-4924-8268-a56533e6224c"
      },
      "outputs": [
        {
          "name": "stdout",
          "output_type": "stream",
          "text": [
            "........................................................................................................................................................................................................................................................................................................................................................................................................................................................................................................................................................................................................................................................................................................................................................................................................................................................................................................................................................................................................................................Done!\n"
          ]
        }
      ],
      "source": [
        "limit = 1000 # Need at least 200 samples to compute standard deviations\n",
        "i = 0\n",
        "with open(f\"data/{validate_dataset}\", \"w\") as baseline_file:\n",
        "    baseline_file.write(\"probability,prediction,label\\n\")  # our header\n",
        "    with open(validation_data, \"r\") as f:\n",
        "        for row in f:\n",
        "            (label, input_cols) = row.split(\",\", 1)\n",
        "            probability = float(predictor.predict(input_cols))\n",
        "            prediction = int(probability)\n",
        "            baseline_file.write(f\"{probability},{prediction},{label}\\n\")\n",
        "            i += 1\n",
        "            if i > limit:\n",
        "                break\n",
        "            print(\".\", end=\"\", flush=True)\n",
        "            sleep(0.5)\n",
        "print(\"Done!\")\n"
      ]
    },
    {
      "cell_type": "markdown",
      "metadata": {
        "id": "J1ggiL04wb8J"
      },
      "source": [
        "#### 3.2 Examine the predictions from the model\n"
      ]
    },
    {
      "cell_type": "code",
      "execution_count": null,
      "metadata": {
        "tags": [],
        "id": "ALk7pwxdwb8J",
        "outputId": "0c359b1b-76b1-40dc-fe0c-6e1cc4514ae9"
      },
      "outputs": [
        {
          "name": "stdout",
          "output_type": "stream",
          "text": [
            "probability,prediction,label\n",
            "0.0,0,0\n",
            "0.0,0,4\n",
            "0.0,0,4\n",
            "1.0,1,2\n",
            "0.0,0,4\n",
            "1.0,1,1\n",
            "0.0,0,4\n",
            "1.0,1,1\n",
            "0.0,0,3\n"
          ]
        }
      ],
      "source": [
        "!head data/validation_with_predictions.csv\n"
      ]
    },
    {
      "cell_type": "markdown",
      "metadata": {
        "id": "Wv2oQFEjwb8J"
      },
      "source": [
        "#### 3.3 Upload the predictions as a baseline dataset.\n",
        "Now we will upload the predictions made using validation dataset to S3 which will be used for creating model quality baseline statistics and constraints"
      ]
    },
    {
      "cell_type": "code",
      "execution_count": null,
      "metadata": {
        "tags": [],
        "id": "cNiQxCDmwb8K",
        "outputId": "16da2a24-9143-474a-c405-f493d641ff5a"
      },
      "outputs": [
        {
          "name": "stdout",
          "output_type": "stream",
          "text": [
            "Baseline data uri: s3://sagemaker-us-east-1-752847213914/mlops-data/baselining/data\n",
            "Baseline results uri: s3://sagemaker-us-east-1-752847213914/mlops-data/baselining/results\n"
          ]
        }
      ],
      "source": [
        "baseline_prefix = prefix + \"/baselining\"\n",
        "baseline_data_prefix = baseline_prefix + \"/data\"\n",
        "baseline_results_prefix = baseline_prefix + \"/results\"\n",
        "\n",
        "baseline_data_uri = f\"s3://{bucket}/{baseline_data_prefix}\"\n",
        "baseline_results_uri = f\"s3://{bucket}/{baseline_results_prefix}\"\n",
        "print(f\"Baseline data uri: {baseline_data_uri}\")\n",
        "print(f\"Baseline results uri: {baseline_results_uri}\")\n"
      ]
    },
    {
      "cell_type": "code",
      "execution_count": null,
      "metadata": {
        "tags": [],
        "id": "cuAl6vcYwb8K",
        "outputId": "45cb806f-e6ab-408a-c1b3-b60b3a0ac7b2"
      },
      "outputs": [
        {
          "name": "stdout",
          "output_type": "stream",
          "text": [
            "sagemaker.config INFO - Not applying SDK defaults from location: /etc/xdg/sagemaker/config.yaml\n",
            "sagemaker.config INFO - Not applying SDK defaults from location: /root/.config/sagemaker/config.yaml\n"
          ]
        },
        {
          "data": {
            "text/plain": [
              "'s3://sagemaker-us-east-1-752847213914/mlops-data/baselining/data/validation_with_predictions.csv'"
            ]
          },
          "execution_count": 255,
          "metadata": {},
          "output_type": "execute_result"
        }
      ],
      "source": [
        "baseline_dataset_uri = S3Uploader.upload(f\"data/{validate_dataset}\", baseline_data_uri)\n",
        "baseline_dataset_uri\n"
      ]
    },
    {
      "cell_type": "markdown",
      "metadata": {
        "id": "xS-0FNxNwb8K"
      },
      "source": [
        "#### 3.4 Create a baselining job with validation dataset predictions\n",
        "Define the model quality monitoring object and execute the model quality monitoring baseline job. Model monitor will automatically generate baseline statistics and constraints based on the validation dataset provided."
      ]
    },
    {
      "cell_type": "code",
      "execution_count": null,
      "metadata": {
        "tags": [],
        "id": "7DG7u0mrwb8K"
      },
      "outputs": [],
      "source": [
        "from sagemaker.model_monitor import ModelQualityMonitor\n",
        "from sagemaker.model_monitor import EndpointInput\n",
        "from sagemaker.model_monitor.dataset_format import DatasetFormat\n"
      ]
    },
    {
      "cell_type": "code",
      "execution_count": null,
      "metadata": {
        "tags": [],
        "id": "AOPUp4cVwb8K",
        "outputId": "2c50f4fc-de91-4f47-cab1-e8b425507234"
      },
      "outputs": [
        {
          "name": "stderr",
          "output_type": "stream",
          "text": [
            "INFO:sagemaker.image_uris:Defaulting to the only supported framework/algorithm version: .\n",
            "INFO:sagemaker.image_uris:Ignoring unnecessary instance type: None.\n"
          ]
        }
      ],
      "source": [
        "# Create the model quality monitoring object\n",
        "mlops_model_quality_monitor = ModelQualityMonitor(\n",
        "    role=role,\n",
        "    instance_count=1,\n",
        "    instance_type=\"ml.m5.large\",\n",
        "    volume_size_in_gb=20,\n",
        "    max_runtime_in_seconds=1800,\n",
        "    sagemaker_session=session,\n",
        ")\n"
      ]
    },
    {
      "cell_type": "code",
      "execution_count": null,
      "metadata": {
        "tags": [],
        "id": "4SBNfCwcwb8K"
      },
      "outputs": [],
      "source": [
        "# Name of the model quality baseline job\n",
        "baseline_job_name = f\"DEMO-mlops-xgboost-baseline-job-{datetime.utcnow():%Y-%m-%d-%H%M}\"\n"
      ]
    },
    {
      "cell_type": "code",
      "execution_count": null,
      "metadata": {
        "tags": [],
        "id": "Oq_OacQXwb8K",
        "outputId": "8b951070-d091-481c-c533-8fc12de04fec"
      },
      "outputs": [
        {
          "name": "stderr",
          "output_type": "stream",
          "text": [
            "INFO:sagemaker:Creating processing-job with name DEMO-mlops-xgboost-baseline-job-2023-11-07-1754\n"
          ]
        },
        {
          "name": "stdout",
          "output_type": "stream",
          "text": [
            ".......................................................................................!"
          ]
        }
      ],
      "source": [
        "# Execute the baseline suggestion job.\n",
        "job = mlops_model_quality_monitor.suggest_baseline(\n",
        "    job_name=baseline_job_name,\n",
        "    baseline_dataset=baseline_dataset_uri,\n",
        "    dataset_format=DatasetFormat.csv(header=True),\n",
        "    output_s3_uri=baseline_results_uri,\n",
        "    problem_type=\"MulticlassClassification\",\n",
        "    inference_attribute=\"prediction\",\n",
        "    probability_attribute=\"probability\",\n",
        "    ground_truth_attribute=\"label\",\n",
        ")\n",
        "\n",
        "job.wait(logs=False)\n"
      ]
    },
    {
      "cell_type": "markdown",
      "metadata": {
        "id": "XdUnMeyzwb8L"
      },
      "source": [
        "#### 3.5 Explore the results of the baselining job\n",
        "the baseline constraints and statistics files are uploaded to the S3 location."
      ]
    },
    {
      "cell_type": "code",
      "execution_count": null,
      "metadata": {
        "tags": [],
        "id": "KTB4v523wb8L"
      },
      "outputs": [],
      "source": [
        "baseline_job = mlops_model_quality_monitor.latest_baselining_job\n"
      ]
    },
    {
      "cell_type": "markdown",
      "metadata": {
        "id": "Ha0x5kl_wb8L"
      },
      "source": [
        "##### 3.5.1 View the metrics generated\n",
        "the baseline statistics and constraints files are already uploaded to S3."
      ]
    },
    {
      "cell_type": "code",
      "execution_count": null,
      "metadata": {
        "tags": [],
        "id": "HsW6Ejq2wb8O",
        "outputId": "cd614f5c-7410-4436-a6ff-47b81699871a"
      },
      "outputs": [
        {
          "data": {
            "text/html": [
              "<div>\n",
              "<style scoped>\n",
              "    .dataframe tbody tr th:only-of-type {\n",
              "        vertical-align: middle;\n",
              "    }\n",
              "\n",
              "    .dataframe tbody tr th {\n",
              "        vertical-align: top;\n",
              "    }\n",
              "\n",
              "    .dataframe thead th {\n",
              "        text-align: right;\n",
              "    }\n",
              "</style>\n",
              "<table border=\"1\" class=\"dataframe\">\n",
              "  <thead>\n",
              "    <tr style=\"text-align: right;\">\n",
              "      <th></th>\n",
              "      <th>0</th>\n",
              "    </tr>\n",
              "  </thead>\n",
              "  <tbody>\n",
              "    <tr>\n",
              "      <th>confusion_matrix.4.4</th>\n",
              "      <td>0.000000</td>\n",
              "    </tr>\n",
              "    <tr>\n",
              "      <th>confusion_matrix.4.5</th>\n",
              "      <td>24.000000</td>\n",
              "    </tr>\n",
              "    <tr>\n",
              "      <th>confusion_matrix.4.1</th>\n",
              "      <td>0.000000</td>\n",
              "    </tr>\n",
              "    <tr>\n",
              "      <th>confusion_matrix.4.0</th>\n",
              "      <td>148.000000</td>\n",
              "    </tr>\n",
              "    <tr>\n",
              "      <th>confusion_matrix.4.2</th>\n",
              "      <td>0.000000</td>\n",
              "    </tr>\n",
              "    <tr>\n",
              "      <th>confusion_matrix.4.3</th>\n",
              "      <td>0.000000</td>\n",
              "    </tr>\n",
              "    <tr>\n",
              "      <th>confusion_matrix.5.4</th>\n",
              "      <td>0.000000</td>\n",
              "    </tr>\n",
              "    <tr>\n",
              "      <th>confusion_matrix.5.5</th>\n",
              "      <td>1.000000</td>\n",
              "    </tr>\n",
              "    <tr>\n",
              "      <th>confusion_matrix.5.1</th>\n",
              "      <td>5.000000</td>\n",
              "    </tr>\n",
              "    <tr>\n",
              "      <th>confusion_matrix.5.0</th>\n",
              "      <td>156.000000</td>\n",
              "    </tr>\n",
              "    <tr>\n",
              "      <th>confusion_matrix.5.2</th>\n",
              "      <td>0.000000</td>\n",
              "    </tr>\n",
              "    <tr>\n",
              "      <th>confusion_matrix.5.3</th>\n",
              "      <td>0.000000</td>\n",
              "    </tr>\n",
              "    <tr>\n",
              "      <th>confusion_matrix.1.4</th>\n",
              "      <td>0.000000</td>\n",
              "    </tr>\n",
              "    <tr>\n",
              "      <th>confusion_matrix.1.5</th>\n",
              "      <td>0.000000</td>\n",
              "    </tr>\n",
              "    <tr>\n",
              "      <th>confusion_matrix.1.1</th>\n",
              "      <td>111.000000</td>\n",
              "    </tr>\n",
              "    <tr>\n",
              "      <th>confusion_matrix.1.0</th>\n",
              "      <td>49.000000</td>\n",
              "    </tr>\n",
              "    <tr>\n",
              "      <th>confusion_matrix.1.2</th>\n",
              "      <td>0.000000</td>\n",
              "    </tr>\n",
              "    <tr>\n",
              "      <th>confusion_matrix.1.3</th>\n",
              "      <td>0.000000</td>\n",
              "    </tr>\n",
              "    <tr>\n",
              "      <th>confusion_matrix.0.4</th>\n",
              "      <td>0.000000</td>\n",
              "    </tr>\n",
              "    <tr>\n",
              "      <th>confusion_matrix.0.5</th>\n",
              "      <td>0.000000</td>\n",
              "    </tr>\n",
              "    <tr>\n",
              "      <th>confusion_matrix.0.1</th>\n",
              "      <td>160.000000</td>\n",
              "    </tr>\n",
              "    <tr>\n",
              "      <th>confusion_matrix.0.0</th>\n",
              "      <td>18.000000</td>\n",
              "    </tr>\n",
              "    <tr>\n",
              "      <th>confusion_matrix.0.2</th>\n",
              "      <td>0.000000</td>\n",
              "    </tr>\n",
              "    <tr>\n",
              "      <th>confusion_matrix.0.3</th>\n",
              "      <td>0.000000</td>\n",
              "    </tr>\n",
              "    <tr>\n",
              "      <th>confusion_matrix.2.4</th>\n",
              "      <td>0.000000</td>\n",
              "    </tr>\n",
              "    <tr>\n",
              "      <th>confusion_matrix.2.5</th>\n",
              "      <td>0.000000</td>\n",
              "    </tr>\n",
              "    <tr>\n",
              "      <th>confusion_matrix.2.1</th>\n",
              "      <td>8.000000</td>\n",
              "    </tr>\n",
              "    <tr>\n",
              "      <th>confusion_matrix.2.0</th>\n",
              "      <td>160.000000</td>\n",
              "    </tr>\n",
              "    <tr>\n",
              "      <th>confusion_matrix.2.2</th>\n",
              "      <td>0.000000</td>\n",
              "    </tr>\n",
              "    <tr>\n",
              "      <th>confusion_matrix.2.3</th>\n",
              "      <td>0.000000</td>\n",
              "    </tr>\n",
              "    <tr>\n",
              "      <th>confusion_matrix.3.4</th>\n",
              "      <td>0.000000</td>\n",
              "    </tr>\n",
              "    <tr>\n",
              "      <th>confusion_matrix.3.5</th>\n",
              "      <td>2.000000</td>\n",
              "    </tr>\n",
              "    <tr>\n",
              "      <th>confusion_matrix.3.1</th>\n",
              "      <td>10.000000</td>\n",
              "    </tr>\n",
              "    <tr>\n",
              "      <th>confusion_matrix.3.0</th>\n",
              "      <td>149.000000</td>\n",
              "    </tr>\n",
              "    <tr>\n",
              "      <th>confusion_matrix.3.2</th>\n",
              "      <td>0.000000</td>\n",
              "    </tr>\n",
              "    <tr>\n",
              "      <th>confusion_matrix.3.3</th>\n",
              "      <td>0.000000</td>\n",
              "    </tr>\n",
              "    <tr>\n",
              "      <th>accuracy.value</th>\n",
              "      <td>0.129870</td>\n",
              "    </tr>\n",
              "    <tr>\n",
              "      <th>accuracy.standard_deviation</th>\n",
              "      <td>0.003318</td>\n",
              "    </tr>\n",
              "    <tr>\n",
              "      <th>weighted_recall.value</th>\n",
              "      <td>0.129870</td>\n",
              "    </tr>\n",
              "    <tr>\n",
              "      <th>weighted_recall.standard_deviation</th>\n",
              "      <td>0.003318</td>\n",
              "    </tr>\n",
              "    <tr>\n",
              "      <th>weighted_precision.value</th>\n",
              "      <td>0.071049</td>\n",
              "    </tr>\n",
              "    <tr>\n",
              "      <th>weighted_precision.standard_deviation</th>\n",
              "      <td>0.004466</td>\n",
              "    </tr>\n",
              "    <tr>\n",
              "      <th>weighted_f0_5.value</th>\n",
              "      <td>0.074920</td>\n",
              "    </tr>\n",
              "    <tr>\n",
              "      <th>weighted_f0_5.standard_deviation</th>\n",
              "      <td>0.003180</td>\n",
              "    </tr>\n",
              "    <tr>\n",
              "      <th>weighted_f1.value</th>\n",
              "      <td>0.087333</td>\n",
              "    </tr>\n",
              "    <tr>\n",
              "      <th>weighted_f1.standard_deviation</th>\n",
              "      <td>0.002702</td>\n",
              "    </tr>\n",
              "    <tr>\n",
              "      <th>weighted_f2.value</th>\n",
              "      <td>0.107676</td>\n",
              "    </tr>\n",
              "    <tr>\n",
              "      <th>weighted_f2.standard_deviation</th>\n",
              "      <td>0.002715</td>\n",
              "    </tr>\n",
              "    <tr>\n",
              "      <th>accuracy_best_constant_classifier.value</th>\n",
              "      <td>0.177822</td>\n",
              "    </tr>\n",
              "    <tr>\n",
              "      <th>accuracy_best_constant_classifier.standard_deviation</th>\n",
              "      <td>0.006072</td>\n",
              "    </tr>\n",
              "    <tr>\n",
              "      <th>weighted_recall_best_constant_classifier.value</th>\n",
              "      <td>0.177822</td>\n",
              "    </tr>\n",
              "    <tr>\n",
              "      <th>weighted_recall_best_constant_classifier.standard_deviation</th>\n",
              "      <td>0.006072</td>\n",
              "    </tr>\n",
              "    <tr>\n",
              "      <th>weighted_precision_best_constant_classifier.value</th>\n",
              "      <td>0.031621</td>\n",
              "    </tr>\n",
              "    <tr>\n",
              "      <th>weighted_precision_best_constant_classifier.standard_deviation</th>\n",
              "      <td>0.002151</td>\n",
              "    </tr>\n",
              "    <tr>\n",
              "      <th>weighted_f0_5_best_constant_classifier.value</th>\n",
              "      <td>0.037844</td>\n",
              "    </tr>\n",
              "    <tr>\n",
              "      <th>weighted_f0_5_best_constant_classifier.standard_deviation</th>\n",
              "      <td>0.002520</td>\n",
              "    </tr>\n",
              "    <tr>\n",
              "      <th>weighted_f1_best_constant_classifier.value</th>\n",
              "      <td>0.053694</td>\n",
              "    </tr>\n",
              "    <tr>\n",
              "      <th>weighted_f1_best_constant_classifier.standard_deviation</th>\n",
              "      <td>0.003379</td>\n",
              "    </tr>\n",
              "    <tr>\n",
              "      <th>weighted_f2_best_constant_classifier.value</th>\n",
              "      <td>0.092389</td>\n",
              "    </tr>\n",
              "    <tr>\n",
              "      <th>weighted_f2_best_constant_classifier.standard_deviation</th>\n",
              "      <td>0.004988</td>\n",
              "    </tr>\n",
              "  </tbody>\n",
              "</table>\n",
              "</div>"
            ],
            "text/plain": [
              "                                                                         0\n",
              "confusion_matrix.4.4                                              0.000000\n",
              "confusion_matrix.4.5                                             24.000000\n",
              "confusion_matrix.4.1                                              0.000000\n",
              "confusion_matrix.4.0                                            148.000000\n",
              "confusion_matrix.4.2                                              0.000000\n",
              "confusion_matrix.4.3                                              0.000000\n",
              "confusion_matrix.5.4                                              0.000000\n",
              "confusion_matrix.5.5                                              1.000000\n",
              "confusion_matrix.5.1                                              5.000000\n",
              "confusion_matrix.5.0                                            156.000000\n",
              "confusion_matrix.5.2                                              0.000000\n",
              "confusion_matrix.5.3                                              0.000000\n",
              "confusion_matrix.1.4                                              0.000000\n",
              "confusion_matrix.1.5                                              0.000000\n",
              "confusion_matrix.1.1                                            111.000000\n",
              "confusion_matrix.1.0                                             49.000000\n",
              "confusion_matrix.1.2                                              0.000000\n",
              "confusion_matrix.1.3                                              0.000000\n",
              "confusion_matrix.0.4                                              0.000000\n",
              "confusion_matrix.0.5                                              0.000000\n",
              "confusion_matrix.0.1                                            160.000000\n",
              "confusion_matrix.0.0                                             18.000000\n",
              "confusion_matrix.0.2                                              0.000000\n",
              "confusion_matrix.0.3                                              0.000000\n",
              "confusion_matrix.2.4                                              0.000000\n",
              "confusion_matrix.2.5                                              0.000000\n",
              "confusion_matrix.2.1                                              8.000000\n",
              "confusion_matrix.2.0                                            160.000000\n",
              "confusion_matrix.2.2                                              0.000000\n",
              "confusion_matrix.2.3                                              0.000000\n",
              "confusion_matrix.3.4                                              0.000000\n",
              "confusion_matrix.3.5                                              2.000000\n",
              "confusion_matrix.3.1                                             10.000000\n",
              "confusion_matrix.3.0                                            149.000000\n",
              "confusion_matrix.3.2                                              0.000000\n",
              "confusion_matrix.3.3                                              0.000000\n",
              "accuracy.value                                                    0.129870\n",
              "accuracy.standard_deviation                                       0.003318\n",
              "weighted_recall.value                                             0.129870\n",
              "weighted_recall.standard_deviation                                0.003318\n",
              "weighted_precision.value                                          0.071049\n",
              "weighted_precision.standard_deviation                             0.004466\n",
              "weighted_f0_5.value                                               0.074920\n",
              "weighted_f0_5.standard_deviation                                  0.003180\n",
              "weighted_f1.value                                                 0.087333\n",
              "weighted_f1.standard_deviation                                    0.002702\n",
              "weighted_f2.value                                                 0.107676\n",
              "weighted_f2.standard_deviation                                    0.002715\n",
              "accuracy_best_constant_classifier.value                           0.177822\n",
              "accuracy_best_constant_classifier.standard_deviation              0.006072\n",
              "weighted_recall_best_constant_classifier.value                    0.177822\n",
              "weighted_recall_best_constant_classifier.standard_deviation       0.006072\n",
              "weighted_precision_best_constant_classifier.value                 0.031621\n",
              "weighted_precision_best_constant_classifier.standard_deviation    0.002151\n",
              "weighted_f0_5_best_constant_classifier.value                      0.037844\n",
              "weighted_f0_5_best_constant_classifier.standard_deviation         0.002520\n",
              "weighted_f1_best_constant_classifier.value                        0.053694\n",
              "weighted_f1_best_constant_classifier.standard_deviation           0.003379\n",
              "weighted_f2_best_constant_classifier.value                        0.092389\n",
              "weighted_f2_best_constant_classifier.standard_deviation           0.004988"
            ]
          },
          "execution_count": 261,
          "metadata": {},
          "output_type": "execute_result"
        }
      ],
      "source": [
        "multiclas_metrics = baseline_job.baseline_statistics().body_dict[\"multiclass_classification_metrics\"]\n",
        "pd.json_normalize(multiclas_metrics).T"
      ]
    },
    {
      "cell_type": "markdown",
      "metadata": {
        "id": "WnikQz1Uwb8P"
      },
      "source": [
        "##### 3.5.2 View the constraints generated"
      ]
    },
    {
      "cell_type": "code",
      "execution_count": null,
      "metadata": {
        "tags": [],
        "id": "pniaQwsSwb8P",
        "outputId": "5648bf93-e54c-46b1-ccce-4016ff030b03"
      },
      "outputs": [
        {
          "data": {
            "text/html": [
              "<div>\n",
              "<style scoped>\n",
              "    .dataframe tbody tr th:only-of-type {\n",
              "        vertical-align: middle;\n",
              "    }\n",
              "\n",
              "    .dataframe tbody tr th {\n",
              "        vertical-align: top;\n",
              "    }\n",
              "\n",
              "    .dataframe thead th {\n",
              "        text-align: right;\n",
              "    }\n",
              "</style>\n",
              "<table border=\"1\" class=\"dataframe\">\n",
              "  <thead>\n",
              "    <tr style=\"text-align: right;\">\n",
              "      <th></th>\n",
              "      <th>threshold</th>\n",
              "      <th>comparison_operator</th>\n",
              "    </tr>\n",
              "  </thead>\n",
              "  <tbody>\n",
              "    <tr>\n",
              "      <th>accuracy</th>\n",
              "      <td>0.12987</td>\n",
              "      <td>LessThanThreshold</td>\n",
              "    </tr>\n",
              "    <tr>\n",
              "      <th>weighted_recall</th>\n",
              "      <td>0.12987</td>\n",
              "      <td>LessThanThreshold</td>\n",
              "    </tr>\n",
              "    <tr>\n",
              "      <th>weighted_precision</th>\n",
              "      <td>0.071049</td>\n",
              "      <td>LessThanThreshold</td>\n",
              "    </tr>\n",
              "    <tr>\n",
              "      <th>weighted_f0_5</th>\n",
              "      <td>0.07492</td>\n",
              "      <td>LessThanThreshold</td>\n",
              "    </tr>\n",
              "    <tr>\n",
              "      <th>weighted_f1</th>\n",
              "      <td>0.087333</td>\n",
              "      <td>LessThanThreshold</td>\n",
              "    </tr>\n",
              "    <tr>\n",
              "      <th>weighted_f2</th>\n",
              "      <td>0.107676</td>\n",
              "      <td>LessThanThreshold</td>\n",
              "    </tr>\n",
              "  </tbody>\n",
              "</table>\n",
              "</div>"
            ],
            "text/plain": [
              "                   threshold comparison_operator\n",
              "accuracy             0.12987   LessThanThreshold\n",
              "weighted_recall      0.12987   LessThanThreshold\n",
              "weighted_precision  0.071049   LessThanThreshold\n",
              "weighted_f0_5        0.07492   LessThanThreshold\n",
              "weighted_f1         0.087333   LessThanThreshold\n",
              "weighted_f2         0.107676   LessThanThreshold"
            ]
          },
          "execution_count": 262,
          "metadata": {},
          "output_type": "execute_result"
        }
      ],
      "source": [
        "pd.DataFrame(baseline_job.suggested_constraints().body_dict[\"multiclass_classification_constraints\"]).T\n"
      ]
    },
    {
      "cell_type": "markdown",
      "metadata": {
        "id": "inmijkm0wb8P"
      },
      "source": [
        "In the above example we can see that model quality monitor suggested a constraint that will ensure that the model F2 score should note drop below 0.625. Few generated constraints _may_ be a tad aggressive like precision, where it will alert on any drops below 1.0. It is recommended to modify this file as necessary prior to using for monitoring."
      ]
    },
    {
      "cell_type": "markdown",
      "metadata": {
        "id": "yf1TsqAAwb8P"
      },
      "source": [
        "##  Section 4 - Setup continuous model monitoring to identify model quality drift <a id='analyze-model-quality-drift'></a>\n",
        "\n",
        "In this section, setup a continuous model monitoring job that monitors the quality of the deployed model against the baseline generated in the previous section.  This is to ensure that the quality does not degrade over time.\n"
      ]
    },
    {
      "cell_type": "markdown",
      "metadata": {
        "tags": [],
        "id": "6CwKqA1Vwb8P"
      },
      "source": [
        "#### 4.1 Generate prediction data for Model Quality  Monitoring\n",
        "\n",
        "Start generating some artificial traffic.  The cell below starts a thread to send some traffic to the endpoint. Note that we  need to stop the kernel to terminate this thread. If there is no traffic, the monitoring jobs are marked as `Failed` since there is no data to process."
      ]
    },
    {
      "cell_type": "code",
      "execution_count": null,
      "metadata": {
        "tags": [],
        "id": "Zc8nSEEcwb8P",
        "outputId": "26567940-ffd2-4b5d-9c6f-e2bd3afb1b6a"
      },
      "outputs": [
        {
          "data": {
            "text/plain": [
              "'Xgboost-Inference-endpoint-2023-11-07-1116'"
            ]
          },
          "execution_count": 263,
          "metadata": {},
          "output_type": "execute_result"
        }
      ],
      "source": [
        "endpoint_name"
      ]
    },
    {
      "cell_type": "code",
      "execution_count": null,
      "metadata": {
        "tags": [],
        "id": "_ejwfmS1wb8P"
      },
      "outputs": [],
      "source": [
        "def invoke_endpoint(ep_name, file_name):\n",
        "    with open(file_name, \"r\") as f:\n",
        "        i = 0\n",
        "        for row in f:\n",
        "            payload = row.rstrip(\"\\n\")\n",
        "            response = session.sagemaker_runtime_client.invoke_endpoint(\n",
        "                EndpointName=ep_name,\n",
        "                ContentType=\"text/csv\",\n",
        "                Body=payload,\n",
        "                InferenceId=str(i),  # unique ID per row\n",
        "            )[\"Body\"].read()\n",
        "            i += 1\n",
        "            sleep(1)\n",
        "\n",
        "\n",
        "def invoke_endpoint_forever():\n",
        "    while True:\n",
        "        try:\n",
        "            invoke_endpoint(endpoint_name, \"data/test_x.csv\")\n",
        "        except session.sagemaker_runtime_client.exceptions.ValidationError:\n",
        "            pass\n",
        "\n",
        "\n",
        "thread = Thread(target=invoke_endpoint_forever)\n",
        "thread.start()"
      ]
    },
    {
      "cell_type": "markdown",
      "metadata": {
        "tags": [],
        "id": "WojsfWS_wb8P"
      },
      "source": [
        "#### 4.2 View captured data\n",
        "\n"
      ]
    },
    {
      "cell_type": "code",
      "execution_count": null,
      "metadata": {
        "tags": [],
        "id": "ujpdip0Nwb8P",
        "outputId": "6253a4d5-f778-450c-8dcf-541f89129576"
      },
      "outputs": [
        {
          "name": "stdout",
          "output_type": "stream",
          "text": [
            "Waiting for captures to show upsagemaker.config INFO - Not applying SDK defaults from location: /etc/xdg/sagemaker/config.yaml\n",
            "sagemaker.config INFO - Not applying SDK defaults from location: /root/.config/sagemaker/config.yaml\n",
            ".sagemaker.config INFO - Not applying SDK defaults from location: /etc/xdg/sagemaker/config.yaml\n",
            "sagemaker.config INFO - Not applying SDK defaults from location: /root/.config/sagemaker/config.yaml\n",
            ".sagemaker.config INFO - Not applying SDK defaults from location: /etc/xdg/sagemaker/config.yaml\n",
            "sagemaker.config INFO - Not applying SDK defaults from location: /root/.config/sagemaker/config.yaml\n",
            ".sagemaker.config INFO - Not applying SDK defaults from location: /etc/xdg/sagemaker/config.yaml\n",
            "sagemaker.config INFO - Not applying SDK defaults from location: /root/.config/sagemaker/config.yaml\n",
            ".sagemaker.config INFO - Not applying SDK defaults from location: /etc/xdg/sagemaker/config.yaml\n",
            "sagemaker.config INFO - Not applying SDK defaults from location: /root/.config/sagemaker/config.yaml\n",
            ".sagemaker.config INFO - Not applying SDK defaults from location: /etc/xdg/sagemaker/config.yaml\n",
            "sagemaker.config INFO - Not applying SDK defaults from location: /root/.config/sagemaker/config.yaml\n",
            ".sagemaker.config INFO - Not applying SDK defaults from location: /etc/xdg/sagemaker/config.yaml\n",
            "sagemaker.config INFO - Not applying SDK defaults from location: /root/.config/sagemaker/config.yaml\n",
            ".sagemaker.config INFO - Not applying SDK defaults from location: /etc/xdg/sagemaker/config.yaml\n",
            "sagemaker.config INFO - Not applying SDK defaults from location: /root/.config/sagemaker/config.yaml\n",
            ".sagemaker.config INFO - Not applying SDK defaults from location: /etc/xdg/sagemaker/config.yaml\n",
            "sagemaker.config INFO - Not applying SDK defaults from location: /root/.config/sagemaker/config.yaml\n",
            ".sagemaker.config INFO - Not applying SDK defaults from location: /etc/xdg/sagemaker/config.yaml\n",
            "sagemaker.config INFO - Not applying SDK defaults from location: /root/.config/sagemaker/config.yaml\n",
            ".sagemaker.config INFO - Not applying SDK defaults from location: /etc/xdg/sagemaker/config.yaml\n",
            "sagemaker.config INFO - Not applying SDK defaults from location: /root/.config/sagemaker/config.yaml\n",
            ".sagemaker.config INFO - Not applying SDK defaults from location: /etc/xdg/sagemaker/config.yaml\n",
            "sagemaker.config INFO - Not applying SDK defaults from location: /root/.config/sagemaker/config.yaml\n",
            ".sagemaker.config INFO - Not applying SDK defaults from location: /etc/xdg/sagemaker/config.yaml\n",
            "sagemaker.config INFO - Not applying SDK defaults from location: /root/.config/sagemaker/config.yaml\n",
            ".sagemaker.config INFO - Not applying SDK defaults from location: /etc/xdg/sagemaker/config.yaml\n",
            "sagemaker.config INFO - Not applying SDK defaults from location: /root/.config/sagemaker/config.yaml\n",
            ".sagemaker.config INFO - Not applying SDK defaults from location: /etc/xdg/sagemaker/config.yaml\n",
            "sagemaker.config INFO - Not applying SDK defaults from location: /root/.config/sagemaker/config.yaml\n",
            ".sagemaker.config INFO - Not applying SDK defaults from location: /etc/xdg/sagemaker/config.yaml\n",
            "sagemaker.config INFO - Not applying SDK defaults from location: /root/.config/sagemaker/config.yaml\n",
            ".sagemaker.config INFO - Not applying SDK defaults from location: /etc/xdg/sagemaker/config.yaml\n",
            "sagemaker.config INFO - Not applying SDK defaults from location: /root/.config/sagemaker/config.yaml\n",
            ".sagemaker.config INFO - Not applying SDK defaults from location: /etc/xdg/sagemaker/config.yaml\n",
            "sagemaker.config INFO - Not applying SDK defaults from location: /root/.config/sagemaker/config.yaml\n",
            ".sagemaker.config INFO - Not applying SDK defaults from location: /etc/xdg/sagemaker/config.yaml\n",
            "sagemaker.config INFO - Not applying SDK defaults from location: /root/.config/sagemaker/config.yaml\n",
            ".sagemaker.config INFO - Not applying SDK defaults from location: /etc/xdg/sagemaker/config.yaml\n",
            "sagemaker.config INFO - Not applying SDK defaults from location: /root/.config/sagemaker/config.yaml\n",
            ".sagemaker.config INFO - Not applying SDK defaults from location: /etc/xdg/sagemaker/config.yaml\n",
            "sagemaker.config INFO - Not applying SDK defaults from location: /root/.config/sagemaker/config.yaml\n",
            ".sagemaker.config INFO - Not applying SDK defaults from location: /etc/xdg/sagemaker/config.yaml\n",
            "sagemaker.config INFO - Not applying SDK defaults from location: /root/.config/sagemaker/config.yaml\n",
            "Uploading 334 records to s3://sagemaker-us-east-1-752847213914/mlops-data/ground_truth_data/2023-11-06-14-16-55/2023/11/07/18/0304.jsonl\n",
            "sagemaker.config INFO - Not applying SDK defaults from location: /etc/xdg/sagemaker/config.yaml\n",
            "sagemaker.config INFO - Not applying SDK defaults from location: /root/.config/sagemaker/config.yaml\n",
            ".sagemaker.config INFO - Not applying SDK defaults from location: /etc/xdg/sagemaker/config.yaml\n",
            "sagemaker.config INFO - Not applying SDK defaults from location: /root/.config/sagemaker/config.yaml\n",
            ".sagemaker.config INFO - Not applying SDK defaults from location: /etc/xdg/sagemaker/config.yaml\n",
            "sagemaker.config INFO - Not applying SDK defaults from location: /root/.config/sagemaker/config.yaml\n",
            ".sagemaker.config INFO - Not applying SDK defaults from location: /etc/xdg/sagemaker/config.yaml\n",
            "sagemaker.config INFO - Not applying SDK defaults from location: /root/.config/sagemaker/config.yaml\n",
            ".sagemaker.config INFO - Not applying SDK defaults from location: /etc/xdg/sagemaker/config.yaml\n",
            "sagemaker.config INFO - Not applying SDK defaults from location: /root/.config/sagemaker/config.yaml\n",
            ".sagemaker.config INFO - Not applying SDK defaults from location: /etc/xdg/sagemaker/config.yaml\n",
            "sagemaker.config INFO - Not applying SDK defaults from location: /root/.config/sagemaker/config.yaml\n",
            ".sagemaker.config INFO - Not applying SDK defaults from location: /etc/xdg/sagemaker/config.yaml\n",
            "sagemaker.config INFO - Not applying SDK defaults from location: /root/.config/sagemaker/config.yaml\n",
            ".sagemaker.config INFO - Not applying SDK defaults from location: /etc/xdg/sagemaker/config.yaml\n",
            "sagemaker.config INFO - Not applying SDK defaults from location: /root/.config/sagemaker/config.yaml\n",
            ".sagemaker.config INFO - Not applying SDK defaults from location: /etc/xdg/sagemaker/config.yaml\n",
            "sagemaker.config INFO - Not applying SDK defaults from location: /root/.config/sagemaker/config.yaml\n",
            ".sagemaker.config INFO - Not applying SDK defaults from location: /etc/xdg/sagemaker/config.yaml\n",
            "sagemaker.config INFO - Not applying SDK defaults from location: /root/.config/sagemaker/config.yaml\n",
            ".sagemaker.config INFO - Not applying SDK defaults from location: /etc/xdg/sagemaker/config.yaml\n",
            "sagemaker.config INFO - Not applying SDK defaults from location: /root/.config/sagemaker/config.yaml\n",
            ".sagemaker.config INFO - Not applying SDK defaults from location: /etc/xdg/sagemaker/config.yaml\n",
            "sagemaker.config INFO - Not applying SDK defaults from location: /root/.config/sagemaker/config.yaml\n",
            ".sagemaker.config INFO - Not applying SDK defaults from location: /etc/xdg/sagemaker/config.yaml\n",
            "sagemaker.config INFO - Not applying SDK defaults from location: /root/.config/sagemaker/config.yaml\n",
            ".sagemaker.config INFO - Not applying SDK defaults from location: /etc/xdg/sagemaker/config.yaml\n",
            "sagemaker.config INFO - Not applying SDK defaults from location: /root/.config/sagemaker/config.yaml\n",
            ".sagemaker.config INFO - Not applying SDK defaults from location: /etc/xdg/sagemaker/config.yaml\n",
            "sagemaker.config INFO - Not applying SDK defaults from location: /root/.config/sagemaker/config.yaml\n",
            ".sagemaker.config INFO - Not applying SDK defaults from location: /etc/xdg/sagemaker/config.yaml\n",
            "sagemaker.config INFO - Not applying SDK defaults from location: /root/.config/sagemaker/config.yaml\n",
            ".sagemaker.config INFO - Not applying SDK defaults from location: /etc/xdg/sagemaker/config.yaml\n",
            "sagemaker.config INFO - Not applying SDK defaults from location: /root/.config/sagemaker/config.yaml\n",
            ".sagemaker.config INFO - Not applying SDK defaults from location: /etc/xdg/sagemaker/config.yaml\n",
            "sagemaker.config INFO - Not applying SDK defaults from location: /root/.config/sagemaker/config.yaml\n",
            ".sagemaker.config INFO - Not applying SDK defaults from location: /etc/xdg/sagemaker/config.yaml\n",
            "sagemaker.config INFO - Not applying SDK defaults from location: /root/.config/sagemaker/config.yaml\n",
            ".sagemaker.config INFO - Not applying SDK defaults from location: /etc/xdg/sagemaker/config.yaml\n",
            "sagemaker.config INFO - Not applying SDK defaults from location: /root/.config/sagemaker/config.yaml\n",
            ".sagemaker.config INFO - Not applying SDK defaults from location: /etc/xdg/sagemaker/config.yaml\n",
            "sagemaker.config INFO - Not applying SDK defaults from location: /root/.config/sagemaker/config.yaml\n",
            ".sagemaker.config INFO - Not applying SDK defaults from location: /etc/xdg/sagemaker/config.yaml\n",
            "sagemaker.config INFO - Not applying SDK defaults from location: /root/.config/sagemaker/config.yaml\n",
            ".sagemaker.config INFO - Not applying SDK defaults from location: /etc/xdg/sagemaker/config.yaml\n",
            "sagemaker.config INFO - Not applying SDK defaults from location: /root/.config/sagemaker/config.yaml\n",
            ".sagemaker.config INFO - Not applying SDK defaults from location: /etc/xdg/sagemaker/config.yaml\n",
            "sagemaker.config INFO - Not applying SDK defaults from location: /root/.config/sagemaker/config.yaml\n",
            ".sagemaker.config INFO - Not applying SDK defaults from location: /etc/xdg/sagemaker/config.yaml\n",
            "sagemaker.config INFO - Not applying SDK defaults from location: /root/.config/sagemaker/config.yaml\n",
            ".sagemaker.config INFO - Not applying SDK defaults from location: /etc/xdg/sagemaker/config.yaml\n",
            "sagemaker.config INFO - Not applying SDK defaults from location: /root/.config/sagemaker/config.yaml\n",
            ".sagemaker.config INFO - Not applying SDK defaults from location: /etc/xdg/sagemaker/config.yaml\n",
            "sagemaker.config INFO - Not applying SDK defaults from location: /root/.config/sagemaker/config.yaml\n",
            ".sagemaker.config INFO - Not applying SDK defaults from location: /etc/xdg/sagemaker/config.yaml\n",
            "sagemaker.config INFO - Not applying SDK defaults from location: /root/.config/sagemaker/config.yaml\n",
            ".sagemaker.config INFO - Not applying SDK defaults from location: /etc/xdg/sagemaker/config.yaml\n",
            "sagemaker.config INFO - Not applying SDK defaults from location: /root/.config/sagemaker/config.yaml\n",
            ".sagemaker.config INFO - Not applying SDK defaults from location: /etc/xdg/sagemaker/config.yaml\n",
            "sagemaker.config INFO - Not applying SDK defaults from location: /root/.config/sagemaker/config.yaml\n",
            ".sagemaker.config INFO - Not applying SDK defaults from location: /etc/xdg/sagemaker/config.yaml\n",
            "sagemaker.config INFO - Not applying SDK defaults from location: /root/.config/sagemaker/config.yaml\n",
            ".sagemaker.config INFO - Not applying SDK defaults from location: /etc/xdg/sagemaker/config.yaml\n",
            "sagemaker.config INFO - Not applying SDK defaults from location: /root/.config/sagemaker/config.yaml\n",
            ".sagemaker.config INFO - Not applying SDK defaults from location: /etc/xdg/sagemaker/config.yaml\n",
            "sagemaker.config INFO - Not applying SDK defaults from location: /root/.config/sagemaker/config.yaml\n",
            ".sagemaker.config INFO - Not applying SDK defaults from location: /etc/xdg/sagemaker/config.yaml\n",
            "sagemaker.config INFO - Not applying SDK defaults from location: /root/.config/sagemaker/config.yaml\n",
            ".sagemaker.config INFO - Not applying SDK defaults from location: /etc/xdg/sagemaker/config.yaml\n",
            "sagemaker.config INFO - Not applying SDK defaults from location: /root/.config/sagemaker/config.yaml\n",
            ".sagemaker.config INFO - Not applying SDK defaults from location: /etc/xdg/sagemaker/config.yaml\n",
            "sagemaker.config INFO - Not applying SDK defaults from location: /root/.config/sagemaker/config.yaml\n",
            ".sagemaker.config INFO - Not applying SDK defaults from location: /etc/xdg/sagemaker/config.yaml\n",
            "sagemaker.config INFO - Not applying SDK defaults from location: /root/.config/sagemaker/config.yaml\n",
            ".sagemaker.config INFO - Not applying SDK defaults from location: /etc/xdg/sagemaker/config.yaml\n",
            "sagemaker.config INFO - Not applying SDK defaults from location: /root/.config/sagemaker/config.yaml\n",
            ".sagemaker.config INFO - Not applying SDK defaults from location: /etc/xdg/sagemaker/config.yaml\n",
            "sagemaker.config INFO - Not applying SDK defaults from location: /root/.config/sagemaker/config.yaml\n",
            ".sagemaker.config INFO - Not applying SDK defaults from location: /etc/xdg/sagemaker/config.yaml\n",
            "sagemaker.config INFO - Not applying SDK defaults from location: /root/.config/sagemaker/config.yaml\n",
            ".sagemaker.config INFO - Not applying SDK defaults from location: /etc/xdg/sagemaker/config.yaml\n",
            "sagemaker.config INFO - Not applying SDK defaults from location: /root/.config/sagemaker/config.yaml\n",
            ".sagemaker.config INFO - Not applying SDK defaults from location: /etc/xdg/sagemaker/config.yaml\n",
            "sagemaker.config INFO - Not applying SDK defaults from location: /root/.config/sagemaker/config.yaml\n",
            ".sagemaker.config INFO - Not applying SDK defaults from location: /etc/xdg/sagemaker/config.yaml\n",
            "sagemaker.config INFO - Not applying SDK defaults from location: /root/.config/sagemaker/config.yaml\n",
            ".sagemaker.config INFO - Not applying SDK defaults from location: /etc/xdg/sagemaker/config.yaml\n",
            "sagemaker.config INFO - Not applying SDK defaults from location: /root/.config/sagemaker/config.yaml\n",
            ".sagemaker.config INFO - Not applying SDK defaults from location: /etc/xdg/sagemaker/config.yaml\n",
            "sagemaker.config INFO - Not applying SDK defaults from location: /root/.config/sagemaker/config.yaml\n",
            ".sagemaker.config INFO - Not applying SDK defaults from location: /etc/xdg/sagemaker/config.yaml\n",
            "sagemaker.config INFO - Not applying SDK defaults from location: /root/.config/sagemaker/config.yaml\n",
            ".sagemaker.config INFO - Not applying SDK defaults from location: /etc/xdg/sagemaker/config.yaml\n",
            "sagemaker.config INFO - Not applying SDK defaults from location: /root/.config/sagemaker/config.yaml\n",
            ".sagemaker.config INFO - Not applying SDK defaults from location: /etc/xdg/sagemaker/config.yaml\n",
            "sagemaker.config INFO - Not applying SDK defaults from location: /root/.config/sagemaker/config.yaml\n",
            ".sagemaker.config INFO - Not applying SDK defaults from location: /etc/xdg/sagemaker/config.yaml\n",
            "sagemaker.config INFO - Not applying SDK defaults from location: /root/.config/sagemaker/config.yaml\n",
            ".sagemaker.config INFO - Not applying SDK defaults from location: /etc/xdg/sagemaker/config.yaml\n",
            "sagemaker.config INFO - Not applying SDK defaults from location: /root/.config/sagemaker/config.yaml\n",
            ".sagemaker.config INFO - Not applying SDK defaults from location: /etc/xdg/sagemaker/config.yaml\n",
            "sagemaker.config INFO - Not applying SDK defaults from location: /root/.config/sagemaker/config.yaml\n",
            ".sagemaker.config INFO - Not applying SDK defaults from location: /etc/xdg/sagemaker/config.yaml\n",
            "sagemaker.config INFO - Not applying SDK defaults from location: /root/.config/sagemaker/config.yaml\n",
            ".sagemaker.config INFO - Not applying SDK defaults from location: /etc/xdg/sagemaker/config.yaml\n",
            "sagemaker.config INFO - Not applying SDK defaults from location: /root/.config/sagemaker/config.yaml\n",
            ".sagemaker.config INFO - Not applying SDK defaults from location: /etc/xdg/sagemaker/config.yaml\n",
            "sagemaker.config INFO - Not applying SDK defaults from location: /root/.config/sagemaker/config.yaml\n",
            ".sagemaker.config INFO - Not applying SDK defaults from location: /etc/xdg/sagemaker/config.yaml\n",
            "sagemaker.config INFO - Not applying SDK defaults from location: /root/.config/sagemaker/config.yaml\n",
            ".sagemaker.config INFO - Not applying SDK defaults from location: /etc/xdg/sagemaker/config.yaml\n",
            "sagemaker.config INFO - Not applying SDK defaults from location: /root/.config/sagemaker/config.yaml\n",
            ".sagemaker.config INFO - Not applying SDK defaults from location: /etc/xdg/sagemaker/config.yaml\n",
            "sagemaker.config INFO - Not applying SDK defaults from location: /root/.config/sagemaker/config.yaml\n",
            ".sagemaker.config INFO - Not applying SDK defaults from location: /etc/xdg/sagemaker/config.yaml\n",
            "sagemaker.config INFO - Not applying SDK defaults from location: /root/.config/sagemaker/config.yaml\n",
            ".sagemaker.config INFO - Not applying SDK defaults from location: /etc/xdg/sagemaker/config.yaml\n",
            "sagemaker.config INFO - Not applying SDK defaults from location: /root/.config/sagemaker/config.yaml\n",
            ".sagemaker.config INFO - Not applying SDK defaults from location: /etc/xdg/sagemaker/config.yaml\n",
            "sagemaker.config INFO - Not applying SDK defaults from location: /root/.config/sagemaker/config.yaml\n",
            ".sagemaker.config INFO - Not applying SDK defaults from location: /etc/xdg/sagemaker/config.yaml\n",
            "sagemaker.config INFO - Not applying SDK defaults from location: /root/.config/sagemaker/config.yaml\n",
            ".sagemaker.config INFO - Not applying SDK defaults from location: /etc/xdg/sagemaker/config.yaml\n",
            "sagemaker.config INFO - Not applying SDK defaults from location: /root/.config/sagemaker/config.yaml\n",
            ".sagemaker.config INFO - Not applying SDK defaults from location: /etc/xdg/sagemaker/config.yaml\n",
            "sagemaker.config INFO - Not applying SDK defaults from location: /root/.config/sagemaker/config.yaml\n",
            ".sagemaker.config INFO - Not applying SDK defaults from location: /etc/xdg/sagemaker/config.yaml\n",
            "sagemaker.config INFO - Not applying SDK defaults from location: /root/.config/sagemaker/config.yaml\n",
            ".sagemaker.config INFO - Not applying SDK defaults from location: /etc/xdg/sagemaker/config.yaml\n",
            "sagemaker.config INFO - Not applying SDK defaults from location: /root/.config/sagemaker/config.yaml\n",
            ".sagemaker.config INFO - Not applying SDK defaults from location: /etc/xdg/sagemaker/config.yaml\n",
            "sagemaker.config INFO - Not applying SDK defaults from location: /root/.config/sagemaker/config.yaml\n",
            ".sagemaker.config INFO - Not applying SDK defaults from location: /etc/xdg/sagemaker/config.yaml\n",
            "sagemaker.config INFO - Not applying SDK defaults from location: /root/.config/sagemaker/config.yaml\n",
            ".sagemaker.config INFO - Not applying SDK defaults from location: /etc/xdg/sagemaker/config.yaml\n",
            "sagemaker.config INFO - Not applying SDK defaults from location: /root/.config/sagemaker/config.yaml\n",
            ".sagemaker.config INFO - Not applying SDK defaults from location: /etc/xdg/sagemaker/config.yaml\n",
            "sagemaker.config INFO - Not applying SDK defaults from location: /root/.config/sagemaker/config.yaml\n",
            ".sagemaker.config INFO - Not applying SDK defaults from location: /etc/xdg/sagemaker/config.yaml\n",
            "sagemaker.config INFO - Not applying SDK defaults from location: /root/.config/sagemaker/config.yaml\n",
            ".sagemaker.config INFO - Not applying SDK defaults from location: /etc/xdg/sagemaker/config.yaml\n",
            "sagemaker.config INFO - Not applying SDK defaults from location: /root/.config/sagemaker/config.yaml\n",
            ".sagemaker.config INFO - Not applying SDK defaults from location: /etc/xdg/sagemaker/config.yaml\n",
            "sagemaker.config INFO - Not applying SDK defaults from location: /root/.config/sagemaker/config.yaml\n",
            ".sagemaker.config INFO - Not applying SDK defaults from location: /etc/xdg/sagemaker/config.yaml\n",
            "sagemaker.config INFO - Not applying SDK defaults from location: /root/.config/sagemaker/config.yaml\n",
            ".sagemaker.config INFO - Not applying SDK defaults from location: /etc/xdg/sagemaker/config.yaml\n",
            "sagemaker.config INFO - Not applying SDK defaults from location: /root/.config/sagemaker/config.yaml\n",
            ".sagemaker.config INFO - Not applying SDK defaults from location: /etc/xdg/sagemaker/config.yaml\n",
            "sagemaker.config INFO - Not applying SDK defaults from location: /root/.config/sagemaker/config.yaml\n",
            ".sagemaker.config INFO - Not applying SDK defaults from location: /etc/xdg/sagemaker/config.yaml\n",
            "sagemaker.config INFO - Not applying SDK defaults from location: /root/.config/sagemaker/config.yaml\n",
            ".sagemaker.config INFO - Not applying SDK defaults from location: /etc/xdg/sagemaker/config.yaml\n",
            "sagemaker.config INFO - Not applying SDK defaults from location: /root/.config/sagemaker/config.yaml\n",
            ".sagemaker.config INFO - Not applying SDK defaults from location: /etc/xdg/sagemaker/config.yaml\n",
            "sagemaker.config INFO - Not applying SDK defaults from location: /root/.config/sagemaker/config.yaml\n",
            ".sagemaker.config INFO - Not applying SDK defaults from location: /etc/xdg/sagemaker/config.yaml\n",
            "sagemaker.config INFO - Not applying SDK defaults from location: /root/.config/sagemaker/config.yaml\n",
            ".sagemaker.config INFO - Not applying SDK defaults from location: /etc/xdg/sagemaker/config.yaml\n",
            "sagemaker.config INFO - Not applying SDK defaults from location: /root/.config/sagemaker/config.yaml\n",
            ".sagemaker.config INFO - Not applying SDK defaults from location: /etc/xdg/sagemaker/config.yaml\n",
            "sagemaker.config INFO - Not applying SDK defaults from location: /root/.config/sagemaker/config.yaml\n",
            ".sagemaker.config INFO - Not applying SDK defaults from location: /etc/xdg/sagemaker/config.yaml\n",
            "sagemaker.config INFO - Not applying SDK defaults from location: /root/.config/sagemaker/config.yaml\n",
            ".sagemaker.config INFO - Not applying SDK defaults from location: /etc/xdg/sagemaker/config.yaml\n",
            "sagemaker.config INFO - Not applying SDK defaults from location: /root/.config/sagemaker/config.yaml\n",
            ".sagemaker.config INFO - Not applying SDK defaults from location: /etc/xdg/sagemaker/config.yaml\n",
            "sagemaker.config INFO - Not applying SDK defaults from location: /root/.config/sagemaker/config.yaml\n",
            ".sagemaker.config INFO - Not applying SDK defaults from location: /etc/xdg/sagemaker/config.yaml\n",
            "sagemaker.config INFO - Not applying SDK defaults from location: /root/.config/sagemaker/config.yaml\n",
            ".sagemaker.config INFO - Not applying SDK defaults from location: /etc/xdg/sagemaker/config.yaml\n",
            "sagemaker.config INFO - Not applying SDK defaults from location: /root/.config/sagemaker/config.yaml\n",
            ".sagemaker.config INFO - Not applying SDK defaults from location: /etc/xdg/sagemaker/config.yaml\n",
            "sagemaker.config INFO - Not applying SDK defaults from location: /root/.config/sagemaker/config.yaml\n",
            ".sagemaker.config INFO - Not applying SDK defaults from location: /etc/xdg/sagemaker/config.yaml\n",
            "sagemaker.config INFO - Not applying SDK defaults from location: /root/.config/sagemaker/config.yaml\n",
            ".sagemaker.config INFO - Not applying SDK defaults from location: /etc/xdg/sagemaker/config.yaml\n",
            "sagemaker.config INFO - Not applying SDK defaults from location: /root/.config/sagemaker/config.yaml\n",
            ".sagemaker.config INFO - Not applying SDK defaults from location: /etc/xdg/sagemaker/config.yaml\n",
            "sagemaker.config INFO - Not applying SDK defaults from location: /root/.config/sagemaker/config.yaml\n",
            ".sagemaker.config INFO - Not applying SDK defaults from location: /etc/xdg/sagemaker/config.yaml\n",
            "sagemaker.config INFO - Not applying SDK defaults from location: /root/.config/sagemaker/config.yaml\n",
            ".sagemaker.config INFO - Not applying SDK defaults from location: /etc/xdg/sagemaker/config.yaml\n",
            "sagemaker.config INFO - Not applying SDK defaults from location: /root/.config/sagemaker/config.yaml\n",
            ".sagemaker.config INFO - Not applying SDK defaults from location: /etc/xdg/sagemaker/config.yaml\n",
            "sagemaker.config INFO - Not applying SDK defaults from location: /root/.config/sagemaker/config.yaml\n",
            ".sagemaker.config INFO - Not applying SDK defaults from location: /etc/xdg/sagemaker/config.yaml\n",
            "sagemaker.config INFO - Not applying SDK defaults from location: /root/.config/sagemaker/config.yaml\n",
            ".sagemaker.config INFO - Not applying SDK defaults from location: /etc/xdg/sagemaker/config.yaml\n",
            "sagemaker.config INFO - Not applying SDK defaults from location: /root/.config/sagemaker/config.yaml\n",
            ".sagemaker.config INFO - Not applying SDK defaults from location: /etc/xdg/sagemaker/config.yaml\n",
            "sagemaker.config INFO - Not applying SDK defaults from location: /root/.config/sagemaker/config.yaml\n",
            ".sagemaker.config INFO - Not applying SDK defaults from location: /etc/xdg/sagemaker/config.yaml\n",
            "sagemaker.config INFO - Not applying SDK defaults from location: /root/.config/sagemaker/config.yaml\n",
            ".sagemaker.config INFO - Not applying SDK defaults from location: /etc/xdg/sagemaker/config.yaml\n",
            "sagemaker.config INFO - Not applying SDK defaults from location: /root/.config/sagemaker/config.yaml\n",
            ".sagemaker.config INFO - Not applying SDK defaults from location: /etc/xdg/sagemaker/config.yaml\n",
            "sagemaker.config INFO - Not applying SDK defaults from location: /root/.config/sagemaker/config.yaml\n",
            ".\n",
            "Found Capture Files:\n",
            "\n"
          ]
        }
      ],
      "source": [
        "print(\"Waiting for captures to show up\", end=\"\")\n",
        "for _ in range(120):\n",
        "    capture_files = sorted(S3Downloader.list(f\"{s3_capture_upload_path}/{endpoint_name}\"))\n",
        "    if capture_files:\n",
        "        capture_file = S3Downloader.read_file(capture_files[-1]).split(\"\\n\")\n",
        "        capture_record = json.loads(capture_file[0])\n",
        "        if \"inferenceId\" in capture_record[\"eventMetadata\"]:\n",
        "            break\n",
        "    print(\".\", end=\"\", flush=True)\n",
        "    sleep(1)\n",
        "print()\n",
        "print(\"Found Capture Files:\")\n",
        "print(\"\\n \".join(capture_files[-3:]))"
      ]
    },
    {
      "cell_type": "code",
      "execution_count": null,
      "metadata": {
        "tags": [],
        "id": "jKrS8Hvjwb8Q",
        "outputId": "cb773529-3c20-43c0-867d-66492d2e301b"
      },
      "outputs": [
        {
          "name": "stdout",
          "output_type": "stream",
          "text": [
            "\n"
          ]
        }
      ],
      "source": [
        "print(\"\\n\".join(capture_files[-3:-1]))"
      ]
    },
    {
      "cell_type": "code",
      "execution_count": null,
      "metadata": {
        "tags": [],
        "id": "BW5i09wpwb8Q",
        "outputId": "c6d9b35c-7bce-47bd-c4ab-1ef56ec5d2bb"
      },
      "outputs": [
        {
          "name": "stdout",
          "output_type": "stream",
          "text": [
            "{\n",
            "  \"captureData\": {\n",
            "    \"endpointInput\": {\n",
            "      \"observedContentType\": \"text/csv\",\n",
            "      \"mode\": \"INPUT\",\n",
            "      \"data\": \"0.2775108399892457,0.4213949623176243,0.5776854083906318,0.7453982733885129,-0.6419521205443532,-0.18389844555064858,-0.0887819772092396,-0.06686049299075673,-0.09097838412590584,0.0939703335680906,-0.0021291967892783903,0.008632794314209756\",\n",
            "      \"encoding\": \"CSV\"\n",
            "    },\n",
            "    \"endpointOutput\": {\n",
            "      \"observedContentType\": \"text/csv; charset=utf-8\",\n",
            "      \"mode\": \"OUTPUT\",\n",
            "      \"data\": \"0.0\\n\",\n",
            "      \"encoding\": \"CSV\"\n",
            "    }\n",
            "  },\n",
            "  \"eventMetadata\": {\n",
            "    \"eventId\": \"63e722b3-ed3f-4450-86e9-d1d308bda1e3\",\n",
            "    \"inferenceId\": \"5998\",\n",
            "    \"inferenceTime\": \"2023-11-06T18:01:40Z\"\n",
            "  },\n",
            "  \"eventVersion\": \"0\"\n",
            "}\n"
          ]
        }
      ],
      "source": [
        "print(json.dumps(capture_record, indent=2))"
      ]
    },
    {
      "cell_type": "markdown",
      "metadata": {
        "tags": [],
        "id": "QiqTgV9Owb8Q"
      },
      "source": [
        "#### 4.3 Generate synthetic ground truth\n",
        "\n",
        "Next, start generating ground truth data. The model quality job will fail if there's no ground truth data to merge."
      ]
    },
    {
      "cell_type": "code",
      "execution_count": null,
      "metadata": {
        "tags": [],
        "id": "yL8YB4B3wb8Q"
      },
      "outputs": [],
      "source": [
        "import random\n",
        "\n",
        "\n",
        "def ground_truth_with_id(inference_id):\n",
        "    random.seed(inference_id)  # to get consistent results\n",
        "    rand = random.random()\n",
        "    return {\n",
        "        \"groundTruthData\": {\n",
        "            \"data\": \"1\" if rand < 0.7 else \"0\",  # randomly generate positive labels 70% of the time\n",
        "            \"encoding\": \"CSV\",\n",
        "        },\n",
        "        \"eventMetadata\": {\n",
        "            \"eventId\": str(inference_id),\n",
        "        },\n",
        "        \"eventVersion\": \"0\",\n",
        "    }\n",
        "\n",
        "\n",
        "def upload_ground_truth(records, upload_time):\n",
        "    fake_records = [json.dumps(r) for r in records]\n",
        "    data_to_upload = \"\\n\".join(fake_records)\n",
        "    target_s3_uri = f\"{ground_truth_upload_path}/{upload_time:%Y/%m/%d/%H/%M%S}.jsonl\"\n",
        "    print(f\"Uploading {len(fake_records)} records to\", target_s3_uri)\n",
        "    S3Uploader.upload_string_as_file_body(data_to_upload, target_s3_uri)"
      ]
    },
    {
      "cell_type": "code",
      "execution_count": null,
      "metadata": {
        "tags": [],
        "id": "CUEb6UVNwb8Q",
        "outputId": "db846147-0482-470f-9d6f-1e3a51605f34"
      },
      "outputs": [
        {
          "name": "stdout",
          "output_type": "stream",
          "text": [
            "Uploading 334 records to s3://sagemaker-us-east-1-752847213914/mlops-data/ground_truth_data/2023-11-06-14-16-55/2023/11/07/18/0539.jsonl\n",
            "sagemaker.config INFO - Not applying SDK defaults from location: /etc/xdg/sagemaker/config.yaml\n",
            "sagemaker.config INFO - Not applying SDK defaults from location: /root/.config/sagemaker/config.yaml\n"
          ]
        }
      ],
      "source": [
        "NUM_GROUND_TRUTH_RECORDS = 334  # 334 are the number of rows in data we're sending for inference\n",
        "\n",
        "\n",
        "def generate_fake_ground_truth_forever():\n",
        "    j = 0\n",
        "    while True:\n",
        "        fake_records = [ground_truth_with_id(i) for i in range(NUM_GROUND_TRUTH_RECORDS)]\n",
        "        upload_ground_truth(fake_records, datetime.utcnow())\n",
        "        j = (j + 1) % 5\n",
        "        sleep(60 * 60)  # do this once an hour\n",
        "\n",
        "\n",
        "gt_thread = Thread(target=generate_fake_ground_truth_forever)\n",
        "gt_thread.start()"
      ]
    },
    {
      "cell_type": "markdown",
      "metadata": {
        "tags": [],
        "id": "pBR2cEAGwb8Q"
      },
      "source": [
        "#### 4.4 Create a monitoring schedule\n",
        "\n"
      ]
    },
    {
      "cell_type": "code",
      "execution_count": null,
      "metadata": {
        "tags": [],
        "id": "28Fyev6gwb8R"
      },
      "outputs": [],
      "source": [
        "##Monitoring schedule name\n",
        "mlops_monitor_schedule_name = (\n",
        "    f\"DEMO-mlops-Xgboost-monitoring-schedule-{datetime.utcnow():%Y-%m-%d-%H%M}\"\n",
        ")"
      ]
    },
    {
      "cell_type": "code",
      "execution_count": null,
      "metadata": {
        "tags": [],
        "id": "GSYnDXqDwb8R"
      },
      "outputs": [],
      "source": [
        "# Create an enpointInput\n",
        "endpointInput = EndpointInput(\n",
        "    endpoint_name=predictor.endpoint_name,\n",
        "    probability_attribute=\"0\",\n",
        "    probability_threshold_attribute=0.5,\n",
        "    inference_attribute=\"0\",\n",
        "    destination=\"/opt/ml/processing/input_data\",\n",
        ")"
      ]
    },
    {
      "cell_type": "code",
      "execution_count": null,
      "metadata": {
        "tags": [],
        "id": "OgC9lYwKwb8R",
        "outputId": "893c01bd-9e18-4d71-9e38-bba5a24f242d"
      },
      "outputs": [
        {
          "name": "stderr",
          "output_type": "stream",
          "text": [
            "INFO:sagemaker.model_monitor.model_monitoring:Creating Monitoring Schedule with name: DEMO-mlops-Xgboost-monitoring-schedule-2023-11-07-1806\n"
          ]
        }
      ],
      "source": [
        "# Create the monitoring schedule to execute every hour.\n",
        "from sagemaker.model_monitor import CronExpressionGenerator\n",
        "\n",
        "response = mlops_model_quality_monitor.create_monitoring_schedule(\n",
        "    monitor_schedule_name=mlops_monitor_schedule_name,\n",
        "    endpoint_input=endpointInput,\n",
        "    output_s3_uri=baseline_results_uri,\n",
        "    problem_type=\"MulticlassClassification\",\n",
        "    ground_truth_input=ground_truth_upload_path,\n",
        "    constraints=baseline_job.suggested_constraints(),\n",
        "    schedule_cron_expression=CronExpressionGenerator.hourly(),\n",
        "    enable_cloudwatch_metrics=True,\n",
        ")"
      ]
    },
    {
      "cell_type": "code",
      "execution_count": null,
      "metadata": {
        "scrolled": true,
        "tags": [],
        "id": "_ZUbgxArwb8R",
        "outputId": "a29258c0-373f-4e45-9e09-ad620fb44d8d"
      },
      "outputs": [
        {
          "data": {
            "text/plain": [
              "{'MonitoringScheduleArn': 'arn:aws:sagemaker:us-east-1:752847213914:monitoring-schedule/DEMO-mlops-Xgboost-monitoring-schedule-2023-11-07-1806',\n",
              " 'MonitoringScheduleName': 'DEMO-mlops-Xgboost-monitoring-schedule-2023-11-07-1806',\n",
              " 'MonitoringScheduleStatus': 'Pending',\n",
              " 'MonitoringType': 'ModelQuality',\n",
              " 'CreationTime': datetime.datetime(2023, 11, 7, 18, 6, 30, 211000, tzinfo=tzlocal()),\n",
              " 'LastModifiedTime': datetime.datetime(2023, 11, 7, 18, 6, 30, 296000, tzinfo=tzlocal()),\n",
              " 'MonitoringScheduleConfig': {'ScheduleConfig': {'ScheduleExpression': 'cron(0 * ? * * *)'},\n",
              "  'MonitoringJobDefinitionName': 'model-quality-job-definition-2023-11-07-18-06-29-593',\n",
              "  'MonitoringType': 'ModelQuality'},\n",
              " 'EndpointName': 'Xgboost-Inference-endpoint-2023-11-07-1116',\n",
              " 'ResponseMetadata': {'RequestId': '91500c02-e015-4e1c-b716-af3fac10e81c',\n",
              "  'HTTPStatusCode': 200,\n",
              "  'HTTPHeaders': {'x-amzn-requestid': '91500c02-e015-4e1c-b716-af3fac10e81c',\n",
              "   'content-type': 'application/x-amz-json-1.1',\n",
              "   'content-length': '628',\n",
              "   'date': 'Tue, 07 Nov 2023 18:06:31 GMT'},\n",
              "  'RetryAttempts': 0}}"
            ]
          },
          "execution_count": 273,
          "metadata": {},
          "output_type": "execute_result"
        }
      ],
      "source": [
        "# Create the monitoring schedule\n",
        "mlops_model_quality_monitor.describe_schedule()"
      ]
    },
    {
      "cell_type": "markdown",
      "metadata": {
        "tags": [],
        "id": "IA1NW3tOwb8R"
      },
      "source": [
        "#### 4.5 Examine monitoring schedule executions"
      ]
    },
    {
      "cell_type": "code",
      "execution_count": null,
      "metadata": {
        "tags": [],
        "id": "n7dEAlzmwb8R",
        "outputId": "953d0b5c-eb09-47b5-8927-bd52d054d458"
      },
      "outputs": [
        {
          "name": "stdout",
          "output_type": "stream",
          "text": [
            "No executions found for schedule. monitoring_schedule_name: DEMO-mlops-Xgboost-monitoring-schedule-2023-11-07-1806\n"
          ]
        },
        {
          "data": {
            "text/plain": [
              "[]"
            ]
          },
          "execution_count": 274,
          "metadata": {},
          "output_type": "execute_result"
        }
      ],
      "source": [
        "# Initially there will be no executions since the first execution happens at the top of the hour\n",
        "# Note that it is common for the execution to luanch upto 20 min after the hour.\n",
        "executions = mlops_model_quality_monitor.list_executions()\n",
        "executions"
      ]
    },
    {
      "cell_type": "code",
      "execution_count": null,
      "metadata": {
        "tags": [],
        "id": "ixugE1edwb8R",
        "outputId": "50f1eafc-96a0-4017-fde3-df36a521bd03"
      },
      "outputs": [
        {
          "name": "stdout",
          "output_type": "stream",
          "text": [
            "Waiting for first execution................................................................................................................................................................................................................................................................................................................................................................................................................................Uploading 334 records to s3://sagemaker-us-east-1-752847213914/mlops-data/ground_truth_data/2023-11-06-14-16-55/2023/11/07/19/0305.jsonl\n",
            "sagemaker.config INFO - Not applying SDK defaults from location: /etc/xdg/sagemaker/config.yaml\n",
            "sagemaker.config INFO - Not applying SDK defaults from location: /root/.config/sagemaker/config.yaml\n",
            "..\n",
            "Execution found!\n"
          ]
        }
      ],
      "source": [
        "# Wait for the first execution of the monitoring_schedule\n",
        "print(\"Waiting for first execution\", end=\"\")\n",
        "while True:\n",
        "    execution = mlops_model_quality_monitor.describe_schedule().get(\n",
        "        \"LastMonitoringExecutionSummary\"\n",
        "    )\n",
        "    if execution:\n",
        "        break\n",
        "    print(\".\", end=\"\", flush=True)\n",
        "    sleep(1)\n",
        "print()\n",
        "print(\"Execution found!\")"
      ]
    },
    {
      "cell_type": "code",
      "execution_count": null,
      "metadata": {
        "tags": [],
        "id": "zCunkZ7-wb8R",
        "outputId": "8a7e6751-1ea5-44dd-ae50-6ff48c756e2f"
      },
      "outputs": [
        {
          "name": "stdout",
          "output_type": "stream",
          "text": [
            "Uploading 334 records to s3://sagemaker-us-east-1-752847213914/mlops-data/ground_truth_data/2023-11-06-14-16-55/2023/11/07/19/0539.jsonl\n",
            "sagemaker.config INFO - Not applying SDK defaults from location: /etc/xdg/sagemaker/config.yaml\n",
            "sagemaker.config INFO - Not applying SDK defaults from location: /root/.config/sagemaker/config.yaml\n"
          ]
        },
        {
          "data": {
            "text/plain": [
              "{'ProcessingInputs': [{'InputName': 'groundtruth_input_1',\n",
              "   'AppManaged': False,\n",
              "   'S3Input': {'S3Uri': 's3://sagemaker-us-east-1-752847213914/mlops-data/ground_truth_data/2023-11-06-14-16-55/2023/11/07/18',\n",
              "    'LocalPath': '/opt/ml/processing/groundtruth/2023/11/07/18',\n",
              "    'S3DataType': 'S3Prefix',\n",
              "    'S3InputMode': 'File',\n",
              "    'S3DataDistributionType': 'FullyReplicated',\n",
              "    'S3CompressionType': 'None'}},\n",
              "  {'InputName': 'endpoint_input_1',\n",
              "   'AppManaged': False,\n",
              "   'S3Input': {'S3Uri': 's3://sagemaker-us-east-1-752847213914/mlops-level-1-demo/datacapture/Xgboost-Inference-endpoint-2023-11-07-1116/AllTraffic/2023/11/07/18',\n",
              "    'LocalPath': '/opt/ml/processing/input_data/Xgboost-Inference-endpoint-2023-11-07-1116/AllTraffic/2023/11/07/18',\n",
              "    'S3DataType': 'S3Prefix',\n",
              "    'S3InputMode': 'File',\n",
              "    'S3DataDistributionType': 'FullyReplicated',\n",
              "    'S3CompressionType': 'None'}}],\n",
              " 'ProcessingOutputConfig': {'Outputs': [{'OutputName': 'result',\n",
              "    'S3Output': {'S3Uri': 's3://sagemaker-us-east-1-752847213914/mlops-data/baselining/results/merge',\n",
              "     'LocalPath': '/opt/ml/processing/output',\n",
              "     'S3UploadMode': 'EndOfJob'},\n",
              "    'AppManaged': False}]},\n",
              " 'ProcessingJobName': 'groundtruth-merge-202311071900-fd1b0ba271556a4dccb99c93',\n",
              " 'ProcessingResources': {'ClusterConfig': {'InstanceCount': 1,\n",
              "   'InstanceType': 'ml.m5.large',\n",
              "   'VolumeSizeInGB': 20}},\n",
              " 'StoppingCondition': {'MaxRuntimeInSeconds': 1800},\n",
              " 'AppSpecification': {'ImageUri': '156813124566.dkr.ecr.us-east-1.amazonaws.com/sagemaker-model-monitor-groundtruth-merger'},\n",
              " 'Environment': {'dataset_format': '{\"sagemakerCaptureJson\":{\"captureIndexNames\":null}}',\n",
              "  'dataset_source': '/opt/ml/processing/input_data',\n",
              "  'end_time': '2023-11-07T19:00:00Z',\n",
              "  'ground_truth_source': '/opt/ml/processing/groundtruth',\n",
              "  'monitoring_input_type': 'ENDPOINT_INPUT',\n",
              "  'output_path': '/opt/ml/processing/output',\n",
              "  'start_time': '2023-11-07T18:00:00Z'},\n",
              " 'RoleArn': 'arn:aws:iam::752847213914:role/service-role/AmazonSageMakerServiceCatalogProductsExecutionRole',\n",
              " 'ProcessingJobArn': 'arn:aws:sagemaker:us-east-1:752847213914:processing-job/groundtruth-merge-202311071900-fd1b0ba271556a4dccb99c93',\n",
              " 'ProcessingJobStatus': 'InProgress',\n",
              " 'LastModifiedTime': datetime.datetime(2023, 11, 7, 19, 5, 41, 448000, tzinfo=tzlocal()),\n",
              " 'CreationTime': datetime.datetime(2023, 11, 7, 19, 5, 41, 63000, tzinfo=tzlocal()),\n",
              " 'MonitoringScheduleArn': 'arn:aws:sagemaker:us-east-1:752847213914:monitoring-schedule/DEMO-mlops-Xgboost-monitoring-schedule-2023-11-07-1806',\n",
              " 'ResponseMetadata': {'RequestId': '8191cad9-77ee-4be4-9c04-5c66b6179ebc',\n",
              "  'HTTPStatusCode': 200,\n",
              "  'HTTPHeaders': {'x-amzn-requestid': '8191cad9-77ee-4be4-9c04-5c66b6179ebc',\n",
              "   'content-type': 'application/x-amz-json-1.1',\n",
              "   'content-length': '2248',\n",
              "   'date': 'Tue, 07 Nov 2023 19:05:42 GMT'},\n",
              "  'RetryAttempts': 0}}"
            ]
          },
          "execution_count": 277,
          "metadata": {},
          "output_type": "execute_result"
        }
      ],
      "source": [
        "while not executions:\n",
        "    executions = mlops_model_quality_monitor.list_executions()\n",
        "    sleep(1)\n",
        "latest_execution = executions[-1]\n",
        "latest_execution.describe()"
      ]
    },
    {
      "cell_type": "markdown",
      "metadata": {
        "id": "9DKWflXcwb8S"
      },
      "source": [
        "##### Inspect a specific execution (latest execution)\n",
        "In the previous cell, I picked up the latest completed or failed scheduled execution. Here are the possible terminal states and what each of them mean:\n",
        "* Completed - This means the monitoring execution completed and no issues were found in the violations report.\n",
        "* CompletedWithViolations - This means the execution completed, but constraint violations were detected.\n",
        "* Failed - The monitoring execution failed, maybe due to client error (perhaps incorrect role permissions) or infrastructure issues. Further examination of FailureReason and ExitMessage is necessary to identify what exactly happened.\n",
        "* Stopped - job exceeded max runtime or was manually stopped."
      ]
    },
    {
      "cell_type": "code",
      "execution_count": null,
      "metadata": {
        "tags": [],
        "id": "n6vx-f9pwb8S",
        "outputId": "d05cb567-e887-4b08-ca9f-18992486a431"
      },
      "outputs": [
        {
          "name": "stdout",
          "output_type": "stream",
          "text": [
            "Waiting for execution to finish.........................................................................!\n",
            "groundtruth-merge-202311071900-fd1b0ba271556a4dccb99c93 job status: Completed\n",
            "groundtruth-merge-202311071900-fd1b0ba271556a4dccb99c93 job exit message, if any: None\n",
            "groundtruth-merge-202311071900-fd1b0ba271556a4dccb99c93 job failure reason, if any: None\n",
            "..........................................................!\n",
            "model-quality-monitoring-202311071900-fd1b0ba271556a4dccb99c93 job status: Completed\n",
            "model-quality-monitoring-202311071900-fd1b0ba271556a4dccb99c93 job exit message, if any: CompletedWithViolations: Job completed successfully with 5 violations.\n",
            "model-quality-monitoring-202311071900-fd1b0ba271556a4dccb99c93 job failure reason, if any: None\n",
            "Execution status is: CompletedWithViolations\n",
            "{'MonitoringScheduleName': 'DEMO-mlops-Xgboost-monitoring-schedule-2023-11-07-1806', 'ScheduledTime': datetime.datetime(2023, 11, 7, 19, 0, tzinfo=tzlocal()), 'CreationTime': datetime.datetime(2023, 11, 7, 19, 3, 7, 284000, tzinfo=tzlocal()), 'LastModifiedTime': datetime.datetime(2023, 11, 7, 19, 20, 1, 151000, tzinfo=tzlocal()), 'MonitoringExecutionStatus': 'CompletedWithViolations', 'ProcessingJobArn': 'arn:aws:sagemaker:us-east-1:752847213914:processing-job/model-quality-monitoring-202311071900-fd1b0ba271556a4dccb99c93', 'EndpointName': 'Xgboost-Inference-endpoint-2023-11-07-1116'}\n",
            "====STOP==== \n",
            " No completed executions to inspect further. Please wait till an execution completes or investigate previously reported failures.\n"
          ]
        }
      ],
      "source": [
        "status = execution[\"MonitoringExecutionStatus\"]\n",
        "\n",
        "while status in [\"Pending\", \"InProgress\"]:\n",
        "    print(\"Waiting for execution to finish\", end=\"\")\n",
        "    latest_execution.wait(logs=False)\n",
        "    latest_job = latest_execution.describe()\n",
        "    print()\n",
        "    print(f\"{latest_job['ProcessingJobName']} job status:\", latest_job[\"ProcessingJobStatus\"])\n",
        "    print(\n",
        "        f\"{latest_job['ProcessingJobName']} job exit message, if any:\",\n",
        "        latest_job.get(\"ExitMessage\"),\n",
        "    )\n",
        "    print(\n",
        "        f\"{latest_job['ProcessingJobName']} job failure reason, if any:\",\n",
        "        latest_job.get(\"FailureReason\"),\n",
        "    )\n",
        "    sleep(\n",
        "        30\n",
        "    )  # model quality executions consist of two Processing jobs, wait for second job to start\n",
        "    latest_execution = mlops_model_quality_monitor.list_executions()[-1]\n",
        "    execution = mlops_model_quality_monitor.describe_schedule()[\"LastMonitoringExecutionSummary\"]\n",
        "    status = execution[\"MonitoringExecutionStatus\"]\n",
        "\n",
        "print(\"Execution status is:\", status)\n",
        "\n",
        "if status != \"Completed\":\n",
        "    print(execution)\n",
        "    print(\n",
        "        \"====STOP==== \\n No completed executions to inspect further. Please wait till an execution completes or investigate previously reported failures.\"\n",
        "    )"
      ]
    },
    {
      "cell_type": "code",
      "execution_count": null,
      "metadata": {
        "tags": [],
        "id": "59f32N72wb8S",
        "outputId": "28a0667c-5035-4445-a863-9c773bf305ae"
      },
      "outputs": [
        {
          "name": "stdout",
          "output_type": "stream",
          "text": [
            "Report Uri: s3://sagemaker-us-east-1-752847213914/mlops-data/baselining/results/Xgboost-Inference-endpoint-2023-11-07-1116/DEMO-mlops-Xgboost-monitoring-schedule-2023-11-07-1806/2023/11/07/19\n"
          ]
        }
      ],
      "source": [
        "latest_execution = mlops_model_quality_monitor.list_executions()[-1]\n",
        "report_uri = latest_execution.describe()[\"ProcessingOutputConfig\"][\"Outputs\"][0][\"S3Output\"][\n",
        "    \"S3Uri\"\n",
        "]\n",
        "print(\"Report Uri:\", report_uri)"
      ]
    },
    {
      "cell_type": "markdown",
      "metadata": {
        "id": "Noz1f9Z5wb8S"
      },
      "source": [
        "#### 4.5 View violations generated by monitoring schedule"
      ]
    },
    {
      "cell_type": "markdown",
      "metadata": {
        "id": "Qfpy0pm8wb8S"
      },
      "source": [
        "If there are any violations compared to the baseline, they will be listed in the reports uploaded to S3."
      ]
    },
    {
      "cell_type": "code",
      "execution_count": null,
      "metadata": {
        "tags": [],
        "id": "iUerd8INwb8S",
        "outputId": "0895f46f-6ef9-49f7-8240-04589c521e29"
      },
      "outputs": [
        {
          "data": {
            "text/html": [
              "<div>\n",
              "<style scoped>\n",
              "    .dataframe tbody tr th:only-of-type {\n",
              "        vertical-align: middle;\n",
              "    }\n",
              "\n",
              "    .dataframe tbody tr th {\n",
              "        vertical-align: top;\n",
              "    }\n",
              "\n",
              "    .dataframe thead th {\n",
              "        text-align: right;\n",
              "    }\n",
              "</style>\n",
              "<table border=\"1\" class=\"dataframe\">\n",
              "  <thead>\n",
              "    <tr style=\"text-align: right;\">\n",
              "      <th></th>\n",
              "      <th>constraint_check_type</th>\n",
              "      <th>description</th>\n",
              "      <th>metric_name</th>\n",
              "    </tr>\n",
              "  </thead>\n",
              "  <tbody>\n",
              "    <tr>\n",
              "      <th>0</th>\n",
              "      <td>LessThanThreshold</td>\n",
              "      <td>Metric weightedF2 with 0.0 +/- 0.0 was LessThanThreshold '0.10767589126519939'</td>\n",
              "      <td>weightedF2</td>\n",
              "    </tr>\n",
              "    <tr>\n",
              "      <th>1</th>\n",
              "      <td>LessThanThreshold</td>\n",
              "      <td>Metric accuracy with 0.0 +/- 0.0 was LessThanThreshold '0.12987012987012986'</td>\n",
              "      <td>accuracy</td>\n",
              "    </tr>\n",
              "    <tr>\n",
              "      <th>2</th>\n",
              "      <td>LessThanThreshold</td>\n",
              "      <td>Metric weightedRecall with 0.0 +/- 0.0 was LessThanThreshold '0.12987012987012986'</td>\n",
              "      <td>weightedRecall</td>\n",
              "    </tr>\n",
              "    <tr>\n",
              "      <th>3</th>\n",
              "      <td>LessThanThreshold</td>\n",
              "      <td>Metric weightedPrecision with 0.0 +/- 0.0 was LessThanThreshold '0.07104887909209637'</td>\n",
              "      <td>weightedPrecision</td>\n",
              "    </tr>\n",
              "    <tr>\n",
              "      <th>4</th>\n",
              "      <td>LessThanThreshold</td>\n",
              "      <td>Metric weightedF1 with 0.0 +/- 0.0 was LessThanThreshold '0.08733336927609615'</td>\n",
              "      <td>weightedF1</td>\n",
              "    </tr>\n",
              "  </tbody>\n",
              "</table>\n",
              "</div>"
            ],
            "text/plain": [
              "  constraint_check_type  \\\n",
              "0     LessThanThreshold   \n",
              "1     LessThanThreshold   \n",
              "2     LessThanThreshold   \n",
              "3     LessThanThreshold   \n",
              "4     LessThanThreshold   \n",
              "\n",
              "                                                                             description  \\\n",
              "0         Metric weightedF2 with 0.0 +/- 0.0 was LessThanThreshold '0.10767589126519939'   \n",
              "1           Metric accuracy with 0.0 +/- 0.0 was LessThanThreshold '0.12987012987012986'   \n",
              "2     Metric weightedRecall with 0.0 +/- 0.0 was LessThanThreshold '0.12987012987012986'   \n",
              "3  Metric weightedPrecision with 0.0 +/- 0.0 was LessThanThreshold '0.07104887909209637'   \n",
              "4         Metric weightedF1 with 0.0 +/- 0.0 was LessThanThreshold '0.08733336927609615'   \n",
              "\n",
              "         metric_name  \n",
              "0         weightedF2  \n",
              "1           accuracy  \n",
              "2     weightedRecall  \n",
              "3  weightedPrecision  \n",
              "4         weightedF1  "
            ]
          },
          "execution_count": 281,
          "metadata": {},
          "output_type": "execute_result"
        }
      ],
      "source": [
        "pd.options.display.max_colwidth = None\n",
        "violations = latest_execution.constraint_violations().body_dict[\"violations\"]\n",
        "violations_df = pd.json_normalize(violations)\n",
        "violations_df.head(10)\n"
      ]
    },
    {
      "cell_type": "markdown",
      "metadata": {
        "tags": [],
        "id": "nCr4LfC-wb8S"
      },
      "source": [
        "## Section 5 - Analyze model quality CloudWatch metrics <a id='analyze-cloudwatch-metrics'></a>\n",
        "\n",
        "In addition to the violations, the monitoring schedule also emits CloudWatch metrics. In this section, metrics generated and setup an CloudWatch alarm to be triggered when the model quality drifts from the baseline thresholds. CloudWatch alarms to trigger remedial actions such as retraining our model or updating the training dataset."
      ]
    },
    {
      "cell_type": "markdown",
      "metadata": {
        "id": "OfMiJsETwb8T"
      },
      "source": [
        "#### 5.1 List the CW metrics generated."
      ]
    },
    {
      "cell_type": "code",
      "execution_count": null,
      "metadata": {
        "tags": [],
        "id": "JSQKD3-6wb8T"
      },
      "outputs": [],
      "source": [
        "# Create CloudWatch client\n",
        "cw_client = boto3.Session().client(\"cloudwatch\")\n",
        "\n",
        "namespace = \"aws/sagemaker/Endpoints/model-metrics\"\n",
        "\n",
        "cw_dimensions = [\n",
        "    {\"Name\": \"Endpoint\", \"Value\": endpoint_name},\n",
        "    {\"Name\": \"MonitoringSchedule\", \"Value\": churn_monitor_schedule_name},\n",
        "]"
      ]
    },
    {
      "cell_type": "code",
      "execution_count": null,
      "metadata": {
        "tags": [],
        "id": "2zPPAl_Ywb8T"
      },
      "outputs": [],
      "source": [
        "# List metrics through the pagination interface\n",
        "paginator = cw_client.get_paginator(\"list_metrics\")\n",
        "\n",
        "for response in paginator.paginate(Dimensions=cw_dimensions, Namespace=namespace):\n",
        "    model_quality_metrics = response[\"Metrics\"]\n",
        "    for metric in model_quality_metrics:\n",
        "        print(metric[\"MetricName\"])"
      ]
    },
    {
      "cell_type": "markdown",
      "metadata": {
        "id": "euMLY5Nbwb8T"
      },
      "source": [
        "#### 5.2 Create a CloudWatch Alarm\n",
        "\n",
        "Based on the cloud watch metrics, create a cloud watch alarm when a specific metric does not meet the threshold configured. created an alarm if the f2 value of the model fall below the threshold suggested by the baseline constraints."
      ]
    },
    {
      "cell_type": "code",
      "execution_count": null,
      "metadata": {
        "tags": [],
        "id": "EGR1UWcDwb8T",
        "outputId": "7082b4f2-72d8-4cb4-8178-24dc07b5781d"
      },
      "outputs": [
        {
          "data": {
            "text/plain": [
              "{'ResponseMetadata': {'RequestId': '8fbb3d95-9aa1-46fb-b29b-9215decc1ee4',\n",
              "  'HTTPStatusCode': 200,\n",
              "  'HTTPHeaders': {'x-amzn-requestid': '8fbb3d95-9aa1-46fb-b29b-9215decc1ee4',\n",
              "   'content-type': 'text/xml',\n",
              "   'content-length': '214',\n",
              "   'date': 'Tue, 07 Nov 2023 19:22:44 GMT'},\n",
              "  'RetryAttempts': 0}}"
            ]
          },
          "execution_count": 285,
          "metadata": {},
          "output_type": "execute_result"
        }
      ],
      "source": [
        "alarm_name = \"MODEL_QUALITY_F2_SCORE\"\n",
        "alarm_desc = (\n",
        "    \"Trigger an CloudWatch alarm when the f2 score drifts away from the baseline constraints\"\n",
        ")\n",
        "mdoel_quality_f2_drift_threshold = (\n",
        "    0.625  ##Setting this threshold purposefully low to see the alarm quickly.\n",
        ")\n",
        "metric_name = \"f2\"\n",
        "namespace = \"aws/sagemaker/Endpoints/model-metrics\"\n",
        "\n",
        "cw_client.put_metric_alarm(\n",
        "    AlarmName=alarm_name,\n",
        "    AlarmDescription=alarm_desc,\n",
        "    ActionsEnabled=True,\n",
        "    #AlarmActions=[sns_notifications_topic]\n",
        "    MetricName=metric_name,\n",
        "    Namespace=namespace,\n",
        "    Statistic=\"Average\",\n",
        "    Dimensions=[\n",
        "        {\"Name\": \"Endpoint\", \"Value\": endpoint_name},\n",
        "        {\"Name\": \"MonitoringSchedule\", \"Value\": mlops_monitor_schedule_name},\n",
        "    ],\n",
        "    Period=600,\n",
        "    EvaluationPeriods=1,\n",
        "    DatapointsToAlarm=1,\n",
        "    Threshold=mdoel_quality_f2_drift_threshold,\n",
        "    ComparisonOperator=\"LessThanOrEqualToThreshold\",\n",
        "    TreatMissingData=\"breaching\",\n",
        ")"
      ]
    },
    {
      "cell_type": "code",
      "execution_count": null,
      "metadata": {
        "tags": [],
        "id": "G_WyWyVawb8T"
      },
      "outputs": [],
      "source": [
        "import boto3\n",
        "client = boto3.client('sns', region_name= region)\n",
        "response = client.list_topics()\n",
        "\n",
        "for each_reg in response['Topics']:\n",
        "    print(each_reg['TopicArn'])"
      ]
    },
    {
      "cell_type": "code",
      "execution_count": null,
      "metadata": {
        "tags": [],
        "id": "qyfffpDpwb8T",
        "outputId": "80f4622d-681e-4a84-bc66-fb5379cd40ef"
      },
      "outputs": [
        {
          "name": "stdout",
          "output_type": "stream",
          "text": [
            "Uploading 334 records to s3://sagemaker-us-east-1-752847213914/mlops-data/ground_truth_data/2023-11-06-14-16-55/2023/11/06/21/2205.jsonl\n",
            "sagemaker.config INFO - Not applying SDK defaults from location: /etc/xdg/sagemaker/config.yaml\n",
            "sagemaker.config INFO - Not applying SDK defaults from location: /root/.config/sagemaker/config.yaml\n"
          ]
        }
      ],
      "source": []
    },
    {
      "cell_type": "code",
      "execution_count": null,
      "metadata": {
        "tags": [],
        "id": "AfuWF-qowb8T",
        "outputId": "640d3bae-2c66-40bf-d973-e12afa062baf"
      },
      "outputs": [
        {
          "ename": "ClientError",
          "evalue": "An error occurred (ValidationError) when calling the PutMetricAlarm operation: Invalid arn syntax: RetrainSNSTopic",
          "output_type": "error",
          "traceback": [
            "\u001b[0;31m---------------------------------------------------------------------------\u001b[0m",
            "\u001b[0;31mClientError\u001b[0m                               Traceback (most recent call last)",
            "Cell \u001b[0;32mIn[185], line 11\u001b[0m\n\u001b[1;32m      8\u001b[0m metric_name \u001b[38;5;241m=\u001b[39m \u001b[38;5;124m\"\u001b[39m\u001b[38;5;124mf2\u001b[39m\u001b[38;5;124m\"\u001b[39m\n\u001b[1;32m      9\u001b[0m namespace \u001b[38;5;241m=\u001b[39m \u001b[38;5;124m\"\u001b[39m\u001b[38;5;124maws/sagemaker/Endpoints/model-metrics\u001b[39m\u001b[38;5;124m\"\u001b[39m\n\u001b[0;32m---> 11\u001b[0m \u001b[43mcw_client\u001b[49m\u001b[38;5;241;43m.\u001b[39;49m\u001b[43mput_metric_alarm\u001b[49m\u001b[43m(\u001b[49m\n\u001b[1;32m     12\u001b[0m \u001b[43m    \u001b[49m\u001b[43mAlarmName\u001b[49m\u001b[38;5;241;43m=\u001b[39;49m\u001b[43malarm_name\u001b[49m\u001b[43m,\u001b[49m\n\u001b[1;32m     13\u001b[0m \u001b[43m    \u001b[49m\u001b[43mAlarmDescription\u001b[49m\u001b[38;5;241;43m=\u001b[39;49m\u001b[43malarm_desc\u001b[49m\u001b[43m,\u001b[49m\n\u001b[1;32m     14\u001b[0m \u001b[43m    \u001b[49m\u001b[43mActionsEnabled\u001b[49m\u001b[38;5;241;43m=\u001b[39;49m\u001b[38;5;28;43;01mTrue\u001b[39;49;00m\u001b[43m,\u001b[49m\n\u001b[1;32m     15\u001b[0m \u001b[43m    \u001b[49m\u001b[43mAlarmActions\u001b[49m\u001b[38;5;241;43m=\u001b[39;49m\u001b[43m[\u001b[49m\u001b[43msns_notifications_topic\u001b[49m\u001b[43m]\u001b[49m\u001b[43m,\u001b[49m\n\u001b[1;32m     16\u001b[0m \u001b[43m    \u001b[49m\u001b[43mMetricName\u001b[49m\u001b[38;5;241;43m=\u001b[39;49m\u001b[43mmetric_name\u001b[49m\u001b[43m,\u001b[49m\n\u001b[1;32m     17\u001b[0m \u001b[43m    \u001b[49m\u001b[43mNamespace\u001b[49m\u001b[38;5;241;43m=\u001b[39;49m\u001b[43mnamespace\u001b[49m\u001b[43m,\u001b[49m\n\u001b[1;32m     18\u001b[0m \u001b[43m    \u001b[49m\u001b[43mStatistic\u001b[49m\u001b[38;5;241;43m=\u001b[39;49m\u001b[38;5;124;43m\"\u001b[39;49m\u001b[38;5;124;43mAverage\u001b[39;49m\u001b[38;5;124;43m\"\u001b[39;49m\u001b[43m,\u001b[49m\n\u001b[1;32m     19\u001b[0m \u001b[43m    \u001b[49m\u001b[43mDimensions\u001b[49m\u001b[38;5;241;43m=\u001b[39;49m\u001b[43m[\u001b[49m\n\u001b[1;32m     20\u001b[0m \u001b[43m        \u001b[49m\u001b[43m{\u001b[49m\u001b[38;5;124;43m\"\u001b[39;49m\u001b[38;5;124;43mName\u001b[39;49m\u001b[38;5;124;43m\"\u001b[39;49m\u001b[43m:\u001b[49m\u001b[43m \u001b[49m\u001b[38;5;124;43m\"\u001b[39;49m\u001b[38;5;124;43mEndpoint\u001b[39;49m\u001b[38;5;124;43m\"\u001b[39;49m\u001b[43m,\u001b[49m\u001b[43m \u001b[49m\u001b[38;5;124;43m\"\u001b[39;49m\u001b[38;5;124;43mValue\u001b[39;49m\u001b[38;5;124;43m\"\u001b[39;49m\u001b[43m:\u001b[49m\u001b[43m \u001b[49m\u001b[43mendpoint_name\u001b[49m\u001b[43m}\u001b[49m\u001b[43m,\u001b[49m\n\u001b[1;32m     21\u001b[0m \u001b[43m        \u001b[49m\u001b[43m{\u001b[49m\u001b[38;5;124;43m\"\u001b[39;49m\u001b[38;5;124;43mName\u001b[39;49m\u001b[38;5;124;43m\"\u001b[39;49m\u001b[43m:\u001b[49m\u001b[43m \u001b[49m\u001b[38;5;124;43m\"\u001b[39;49m\u001b[38;5;124;43mMonitoringSchedule\u001b[39;49m\u001b[38;5;124;43m\"\u001b[39;49m\u001b[43m,\u001b[49m\u001b[43m \u001b[49m\u001b[38;5;124;43m\"\u001b[39;49m\u001b[38;5;124;43mValue\u001b[39;49m\u001b[38;5;124;43m\"\u001b[39;49m\u001b[43m:\u001b[49m\u001b[43m \u001b[49m\u001b[43mmlops_monitor_schedule_name\u001b[49m\u001b[43m}\u001b[49m\u001b[43m,\u001b[49m\n\u001b[1;32m     22\u001b[0m \u001b[43m    \u001b[49m\u001b[43m]\u001b[49m\u001b[43m,\u001b[49m\n\u001b[1;32m     23\u001b[0m \u001b[43m    \u001b[49m\u001b[43mPeriod\u001b[49m\u001b[38;5;241;43m=\u001b[39;49m\u001b[38;5;241;43m600\u001b[39;49m\u001b[43m,\u001b[49m\n\u001b[1;32m     24\u001b[0m \u001b[43m    \u001b[49m\u001b[43mEvaluationPeriods\u001b[49m\u001b[38;5;241;43m=\u001b[39;49m\u001b[38;5;241;43m1\u001b[39;49m\u001b[43m,\u001b[49m\n\u001b[1;32m     25\u001b[0m \u001b[43m    \u001b[49m\u001b[43mDatapointsToAlarm\u001b[49m\u001b[38;5;241;43m=\u001b[39;49m\u001b[38;5;241;43m1\u001b[39;49m\u001b[43m,\u001b[49m\n\u001b[1;32m     26\u001b[0m \u001b[43m    \u001b[49m\u001b[43mThreshold\u001b[49m\u001b[38;5;241;43m=\u001b[39;49m\u001b[43mmdoel_quality_f2_drift_threshold\u001b[49m\u001b[43m,\u001b[49m\n\u001b[1;32m     27\u001b[0m \u001b[43m    \u001b[49m\u001b[43mComparisonOperator\u001b[49m\u001b[38;5;241;43m=\u001b[39;49m\u001b[38;5;124;43m\"\u001b[39;49m\u001b[38;5;124;43mLessThanOrEqualToThreshold\u001b[39;49m\u001b[38;5;124;43m\"\u001b[39;49m\u001b[43m,\u001b[49m\n\u001b[1;32m     28\u001b[0m \u001b[43m    \u001b[49m\u001b[43mTreatMissingData\u001b[49m\u001b[38;5;241;43m=\u001b[39;49m\u001b[38;5;124;43m\"\u001b[39;49m\u001b[38;5;124;43mbreaching\u001b[39;49m\u001b[38;5;124;43m\"\u001b[39;49m\u001b[43m,\u001b[49m\n\u001b[1;32m     29\u001b[0m \u001b[43m)\u001b[49m\n",
            "File \u001b[0;32m/opt/conda/lib/python3.10/site-packages/botocore/client.py:535\u001b[0m, in \u001b[0;36mClientCreator._create_api_method.<locals>._api_call\u001b[0;34m(self, *args, **kwargs)\u001b[0m\n\u001b[1;32m    531\u001b[0m     \u001b[38;5;28;01mraise\u001b[39;00m \u001b[38;5;167;01mTypeError\u001b[39;00m(\n\u001b[1;32m    532\u001b[0m         \u001b[38;5;124mf\u001b[39m\u001b[38;5;124m\"\u001b[39m\u001b[38;5;132;01m{\u001b[39;00mpy_operation_name\u001b[38;5;132;01m}\u001b[39;00m\u001b[38;5;124m() only accepts keyword arguments.\u001b[39m\u001b[38;5;124m\"\u001b[39m\n\u001b[1;32m    533\u001b[0m     )\n\u001b[1;32m    534\u001b[0m \u001b[38;5;66;03m# The \"self\" in this scope is referring to the BaseClient.\u001b[39;00m\n\u001b[0;32m--> 535\u001b[0m \u001b[38;5;28;01mreturn\u001b[39;00m \u001b[38;5;28;43mself\u001b[39;49m\u001b[38;5;241;43m.\u001b[39;49m\u001b[43m_make_api_call\u001b[49m\u001b[43m(\u001b[49m\u001b[43moperation_name\u001b[49m\u001b[43m,\u001b[49m\u001b[43m \u001b[49m\u001b[43mkwargs\u001b[49m\u001b[43m)\u001b[49m\n",
            "File \u001b[0;32m/opt/conda/lib/python3.10/site-packages/botocore/client.py:980\u001b[0m, in \u001b[0;36mBaseClient._make_api_call\u001b[0;34m(self, operation_name, api_params)\u001b[0m\n\u001b[1;32m    978\u001b[0m     error_code \u001b[38;5;241m=\u001b[39m parsed_response\u001b[38;5;241m.\u001b[39mget(\u001b[38;5;124m\"\u001b[39m\u001b[38;5;124mError\u001b[39m\u001b[38;5;124m\"\u001b[39m, {})\u001b[38;5;241m.\u001b[39mget(\u001b[38;5;124m\"\u001b[39m\u001b[38;5;124mCode\u001b[39m\u001b[38;5;124m\"\u001b[39m)\n\u001b[1;32m    979\u001b[0m     error_class \u001b[38;5;241m=\u001b[39m \u001b[38;5;28mself\u001b[39m\u001b[38;5;241m.\u001b[39mexceptions\u001b[38;5;241m.\u001b[39mfrom_code(error_code)\n\u001b[0;32m--> 980\u001b[0m     \u001b[38;5;28;01mraise\u001b[39;00m error_class(parsed_response, operation_name)\n\u001b[1;32m    981\u001b[0m \u001b[38;5;28;01melse\u001b[39;00m:\n\u001b[1;32m    982\u001b[0m     \u001b[38;5;28;01mreturn\u001b[39;00m parsed_response\n",
            "\u001b[0;31mClientError\u001b[0m: An error occurred (ValidationError) when calling the PutMetricAlarm operation: Invalid arn syntax: RetrainSNSTopic"
          ]
        }
      ],
      "source": [
        "alarm_name = \"MODEL_QUALITY_F2_SCORE\"\n",
        "alarm_desc = (\n",
        "    \"Trigger an CloudWatch alarm when the f2 score drifts away from the baseline constraints\"\n",
        ")\n",
        "mdoel_quality_f2_drift_threshold = (\n",
        "    0.625  ##Setting this threshold purposefully low to see the alarm quickly.\n",
        ")\n",
        "metric_name = \"f2\"\n",
        "namespace = \"aws/sagemaker/Endpoints/model-metrics\"\n",
        "\n",
        "cw_client.put_metric_alarm(\n",
        "    AlarmName=alarm_name,\n",
        "    AlarmDescription=alarm_desc,\n",
        "    ActionsEnabled=True,\n",
        "    AlarmActions=[sns_notifications_topic],\n",
        "    MetricName=metric_name,\n",
        "    Namespace=namespace,\n",
        "    Statistic=\"Average\",\n",
        "    Dimensions=[\n",
        "        {\"Name\": \"Endpoint\", \"Value\": endpoint_name},\n",
        "        {\"Name\": \"MonitoringSchedule\", \"Value\": mlops_monitor_schedule_name},\n",
        "    ],\n",
        "    Period=600,\n",
        "    EvaluationPeriods=1,\n",
        "    DatapointsToAlarm=1,\n",
        "    Threshold=mdoel_quality_f2_drift_threshold,\n",
        "    ComparisonOperator=\"LessThanOrEqualToThreshold\",\n",
        "    TreatMissingData=\"breaching\",\n",
        ")"
      ]
    },
    {
      "cell_type": "code",
      "execution_count": null,
      "metadata": {
        "id": "w28_PciVwb8U"
      },
      "outputs": [],
      "source": [
        "cw_client = boto3.Session().client('cloudwatch')\n",
        "\n",
        "alarm_name='BASELINE_DRIFT_FEATURE_AGE'\n",
        "alarm_desc='Trigger an cloudwatch alarm when the feature age drifts away from the baseline'\n",
        "feature_age_drift_threshold=0.1 ##Setting this threshold purposefully slow to see the alarm quickly.\n",
        "metric_name='feature_baseline_drift_Age'\n",
        "namespace='aws/sagemaker/Endpoints/data-metrics'\n",
        "\n",
        "endpoint_name=endpoint_name\n",
        "monitoring_schedule_name=mon_schedule_name\n",
        "\n",
        "cw_client.put_metric_alarm(\n",
        "    AlarmName=alarm_name,\n",
        "    AlarmDescription=alarm_desc,\n",
        "    ActionsEnabled=True,\n",
        "    AlarmActions=[sns_notifications_topic],\n",
        "    MetricName=metric_name,\n",
        "    Namespace=namespace,\n",
        "    Statistic='Average',\n",
        "    Dimensions=[\n",
        "        {\n",
        "            'Name': 'Endpoint',\n",
        "            'Value': endpoint_name\n",
        "        },\n",
        "        {\n",
        "            'Name': 'MonitoringSchedule',\n",
        "            'Value': monitoring_schedule_name\n",
        "        }\n",
        "    ],\n",
        "    Period=600,\n",
        "    EvaluationPeriods=1,\n",
        "    DatapointsToAlarm=1,\n",
        "    Threshold=feature_age_drift_threshold,\n",
        "    ComparisonOperator='GreaterThanOrEqualToThreshold',\n",
        "    TreatMissingData='breaching'\n",
        ")"
      ]
    },
    {
      "cell_type": "markdown",
      "metadata": {
        "id": "9kFZNDOVwb8U"
      },
      "source": [
        "## Clean up <a id='cleanup'></a>  "
      ]
    },
    {
      "cell_type": "markdown",
      "metadata": {
        "id": "Xr8xJ2zEwb8U"
      },
      "source": [
        "Endpoint sholud running to continue capturing data. If we do not plan to collect more data or use this endpoint further, we should delete the endpoint to avoid incurring additional charges. Note that deleting  endpoint does not delete the data that was captured during the model invocations. That data persists in Amazon S3 until delete it by oruself.\n",
        "\n",
        "But before that, we need to delete the schedule first."
      ]
    },
    {
      "cell_type": "code",
      "execution_count": null,
      "metadata": {
        "id": "QFt_c5YKwb8U"
      },
      "outputs": [],
      "source": [
        "churn_model_quality_monitor.delete_monitoring_schedule()\n",
        "sleep(60)  # actually wait for the deletion"
      ]
    },
    {
      "cell_type": "code",
      "execution_count": null,
      "metadata": {
        "id": "UaY3MZPZwb8U"
      },
      "outputs": [],
      "source": [
        "predictor.delete_model()\n",
        "predictor.delete_endpoint()"
      ]
    }
  ],
  "metadata": {
    "availableInstances": [
      {
        "_defaultOrder": 0,
        "_isFastLaunch": true,
        "category": "General purpose",
        "gpuNum": 0,
        "hideHardwareSpecs": false,
        "memoryGiB": 4,
        "name": "ml.t3.medium",
        "vcpuNum": 2
      },
      {
        "_defaultOrder": 1,
        "_isFastLaunch": false,
        "category": "General purpose",
        "gpuNum": 0,
        "hideHardwareSpecs": false,
        "memoryGiB": 8,
        "name": "ml.t3.large",
        "vcpuNum": 2
      },
      {
        "_defaultOrder": 2,
        "_isFastLaunch": false,
        "category": "General purpose",
        "gpuNum": 0,
        "hideHardwareSpecs": false,
        "memoryGiB": 16,
        "name": "ml.t3.xlarge",
        "vcpuNum": 4
      },
      {
        "_defaultOrder": 3,
        "_isFastLaunch": false,
        "category": "General purpose",
        "gpuNum": 0,
        "hideHardwareSpecs": false,
        "memoryGiB": 32,
        "name": "ml.t3.2xlarge",
        "vcpuNum": 8
      },
      {
        "_defaultOrder": 4,
        "_isFastLaunch": true,
        "category": "General purpose",
        "gpuNum": 0,
        "hideHardwareSpecs": false,
        "memoryGiB": 8,
        "name": "ml.m5.large",
        "vcpuNum": 2
      },
      {
        "_defaultOrder": 5,
        "_isFastLaunch": false,
        "category": "General purpose",
        "gpuNum": 0,
        "hideHardwareSpecs": false,
        "memoryGiB": 16,
        "name": "ml.m5.xlarge",
        "vcpuNum": 4
      },
      {
        "_defaultOrder": 6,
        "_isFastLaunch": false,
        "category": "General purpose",
        "gpuNum": 0,
        "hideHardwareSpecs": false,
        "memoryGiB": 32,
        "name": "ml.m5.2xlarge",
        "vcpuNum": 8
      },
      {
        "_defaultOrder": 7,
        "_isFastLaunch": false,
        "category": "General purpose",
        "gpuNum": 0,
        "hideHardwareSpecs": false,
        "memoryGiB": 64,
        "name": "ml.m5.4xlarge",
        "vcpuNum": 16
      },
      {
        "_defaultOrder": 8,
        "_isFastLaunch": false,
        "category": "General purpose",
        "gpuNum": 0,
        "hideHardwareSpecs": false,
        "memoryGiB": 128,
        "name": "ml.m5.8xlarge",
        "vcpuNum": 32
      },
      {
        "_defaultOrder": 9,
        "_isFastLaunch": false,
        "category": "General purpose",
        "gpuNum": 0,
        "hideHardwareSpecs": false,
        "memoryGiB": 192,
        "name": "ml.m5.12xlarge",
        "vcpuNum": 48
      },
      {
        "_defaultOrder": 10,
        "_isFastLaunch": false,
        "category": "General purpose",
        "gpuNum": 0,
        "hideHardwareSpecs": false,
        "memoryGiB": 256,
        "name": "ml.m5.16xlarge",
        "vcpuNum": 64
      },
      {
        "_defaultOrder": 11,
        "_isFastLaunch": false,
        "category": "General purpose",
        "gpuNum": 0,
        "hideHardwareSpecs": false,
        "memoryGiB": 384,
        "name": "ml.m5.24xlarge",
        "vcpuNum": 96
      },
      {
        "_defaultOrder": 12,
        "_isFastLaunch": false,
        "category": "General purpose",
        "gpuNum": 0,
        "hideHardwareSpecs": false,
        "memoryGiB": 8,
        "name": "ml.m5d.large",
        "vcpuNum": 2
      },
      {
        "_defaultOrder": 13,
        "_isFastLaunch": false,
        "category": "General purpose",
        "gpuNum": 0,
        "hideHardwareSpecs": false,
        "memoryGiB": 16,
        "name": "ml.m5d.xlarge",
        "vcpuNum": 4
      },
      {
        "_defaultOrder": 14,
        "_isFastLaunch": false,
        "category": "General purpose",
        "gpuNum": 0,
        "hideHardwareSpecs": false,
        "memoryGiB": 32,
        "name": "ml.m5d.2xlarge",
        "vcpuNum": 8
      },
      {
        "_defaultOrder": 15,
        "_isFastLaunch": false,
        "category": "General purpose",
        "gpuNum": 0,
        "hideHardwareSpecs": false,
        "memoryGiB": 64,
        "name": "ml.m5d.4xlarge",
        "vcpuNum": 16
      },
      {
        "_defaultOrder": 16,
        "_isFastLaunch": false,
        "category": "General purpose",
        "gpuNum": 0,
        "hideHardwareSpecs": false,
        "memoryGiB": 128,
        "name": "ml.m5d.8xlarge",
        "vcpuNum": 32
      },
      {
        "_defaultOrder": 17,
        "_isFastLaunch": false,
        "category": "General purpose",
        "gpuNum": 0,
        "hideHardwareSpecs": false,
        "memoryGiB": 192,
        "name": "ml.m5d.12xlarge",
        "vcpuNum": 48
      },
      {
        "_defaultOrder": 18,
        "_isFastLaunch": false,
        "category": "General purpose",
        "gpuNum": 0,
        "hideHardwareSpecs": false,
        "memoryGiB": 256,
        "name": "ml.m5d.16xlarge",
        "vcpuNum": 64
      },
      {
        "_defaultOrder": 19,
        "_isFastLaunch": false,
        "category": "General purpose",
        "gpuNum": 0,
        "hideHardwareSpecs": false,
        "memoryGiB": 384,
        "name": "ml.m5d.24xlarge",
        "vcpuNum": 96
      },
      {
        "_defaultOrder": 20,
        "_isFastLaunch": false,
        "category": "General purpose",
        "gpuNum": 0,
        "hideHardwareSpecs": true,
        "memoryGiB": 0,
        "name": "ml.geospatial.interactive",
        "supportedImageNames": [
          "sagemaker-geospatial-v1-0"
        ],
        "vcpuNum": 0
      },
      {
        "_defaultOrder": 21,
        "_isFastLaunch": true,
        "category": "Compute optimized",
        "gpuNum": 0,
        "hideHardwareSpecs": false,
        "memoryGiB": 4,
        "name": "ml.c5.large",
        "vcpuNum": 2
      },
      {
        "_defaultOrder": 22,
        "_isFastLaunch": false,
        "category": "Compute optimized",
        "gpuNum": 0,
        "hideHardwareSpecs": false,
        "memoryGiB": 8,
        "name": "ml.c5.xlarge",
        "vcpuNum": 4
      },
      {
        "_defaultOrder": 23,
        "_isFastLaunch": false,
        "category": "Compute optimized",
        "gpuNum": 0,
        "hideHardwareSpecs": false,
        "memoryGiB": 16,
        "name": "ml.c5.2xlarge",
        "vcpuNum": 8
      },
      {
        "_defaultOrder": 24,
        "_isFastLaunch": false,
        "category": "Compute optimized",
        "gpuNum": 0,
        "hideHardwareSpecs": false,
        "memoryGiB": 32,
        "name": "ml.c5.4xlarge",
        "vcpuNum": 16
      },
      {
        "_defaultOrder": 25,
        "_isFastLaunch": false,
        "category": "Compute optimized",
        "gpuNum": 0,
        "hideHardwareSpecs": false,
        "memoryGiB": 72,
        "name": "ml.c5.9xlarge",
        "vcpuNum": 36
      },
      {
        "_defaultOrder": 26,
        "_isFastLaunch": false,
        "category": "Compute optimized",
        "gpuNum": 0,
        "hideHardwareSpecs": false,
        "memoryGiB": 96,
        "name": "ml.c5.12xlarge",
        "vcpuNum": 48
      },
      {
        "_defaultOrder": 27,
        "_isFastLaunch": false,
        "category": "Compute optimized",
        "gpuNum": 0,
        "hideHardwareSpecs": false,
        "memoryGiB": 144,
        "name": "ml.c5.18xlarge",
        "vcpuNum": 72
      },
      {
        "_defaultOrder": 28,
        "_isFastLaunch": false,
        "category": "Compute optimized",
        "gpuNum": 0,
        "hideHardwareSpecs": false,
        "memoryGiB": 192,
        "name": "ml.c5.24xlarge",
        "vcpuNum": 96
      },
      {
        "_defaultOrder": 29,
        "_isFastLaunch": true,
        "category": "Accelerated computing",
        "gpuNum": 1,
        "hideHardwareSpecs": false,
        "memoryGiB": 16,
        "name": "ml.g4dn.xlarge",
        "vcpuNum": 4
      },
      {
        "_defaultOrder": 30,
        "_isFastLaunch": false,
        "category": "Accelerated computing",
        "gpuNum": 1,
        "hideHardwareSpecs": false,
        "memoryGiB": 32,
        "name": "ml.g4dn.2xlarge",
        "vcpuNum": 8
      },
      {
        "_defaultOrder": 31,
        "_isFastLaunch": false,
        "category": "Accelerated computing",
        "gpuNum": 1,
        "hideHardwareSpecs": false,
        "memoryGiB": 64,
        "name": "ml.g4dn.4xlarge",
        "vcpuNum": 16
      },
      {
        "_defaultOrder": 32,
        "_isFastLaunch": false,
        "category": "Accelerated computing",
        "gpuNum": 1,
        "hideHardwareSpecs": false,
        "memoryGiB": 128,
        "name": "ml.g4dn.8xlarge",
        "vcpuNum": 32
      },
      {
        "_defaultOrder": 33,
        "_isFastLaunch": false,
        "category": "Accelerated computing",
        "gpuNum": 4,
        "hideHardwareSpecs": false,
        "memoryGiB": 192,
        "name": "ml.g4dn.12xlarge",
        "vcpuNum": 48
      },
      {
        "_defaultOrder": 34,
        "_isFastLaunch": false,
        "category": "Accelerated computing",
        "gpuNum": 1,
        "hideHardwareSpecs": false,
        "memoryGiB": 256,
        "name": "ml.g4dn.16xlarge",
        "vcpuNum": 64
      },
      {
        "_defaultOrder": 35,
        "_isFastLaunch": false,
        "category": "Accelerated computing",
        "gpuNum": 1,
        "hideHardwareSpecs": false,
        "memoryGiB": 61,
        "name": "ml.p3.2xlarge",
        "vcpuNum": 8
      },
      {
        "_defaultOrder": 36,
        "_isFastLaunch": false,
        "category": "Accelerated computing",
        "gpuNum": 4,
        "hideHardwareSpecs": false,
        "memoryGiB": 244,
        "name": "ml.p3.8xlarge",
        "vcpuNum": 32
      },
      {
        "_defaultOrder": 37,
        "_isFastLaunch": false,
        "category": "Accelerated computing",
        "gpuNum": 8,
        "hideHardwareSpecs": false,
        "memoryGiB": 488,
        "name": "ml.p3.16xlarge",
        "vcpuNum": 64
      },
      {
        "_defaultOrder": 38,
        "_isFastLaunch": false,
        "category": "Accelerated computing",
        "gpuNum": 8,
        "hideHardwareSpecs": false,
        "memoryGiB": 768,
        "name": "ml.p3dn.24xlarge",
        "vcpuNum": 96
      },
      {
        "_defaultOrder": 39,
        "_isFastLaunch": false,
        "category": "Memory Optimized",
        "gpuNum": 0,
        "hideHardwareSpecs": false,
        "memoryGiB": 16,
        "name": "ml.r5.large",
        "vcpuNum": 2
      },
      {
        "_defaultOrder": 40,
        "_isFastLaunch": false,
        "category": "Memory Optimized",
        "gpuNum": 0,
        "hideHardwareSpecs": false,
        "memoryGiB": 32,
        "name": "ml.r5.xlarge",
        "vcpuNum": 4
      },
      {
        "_defaultOrder": 41,
        "_isFastLaunch": false,
        "category": "Memory Optimized",
        "gpuNum": 0,
        "hideHardwareSpecs": false,
        "memoryGiB": 64,
        "name": "ml.r5.2xlarge",
        "vcpuNum": 8
      },
      {
        "_defaultOrder": 42,
        "_isFastLaunch": false,
        "category": "Memory Optimized",
        "gpuNum": 0,
        "hideHardwareSpecs": false,
        "memoryGiB": 128,
        "name": "ml.r5.4xlarge",
        "vcpuNum": 16
      },
      {
        "_defaultOrder": 43,
        "_isFastLaunch": false,
        "category": "Memory Optimized",
        "gpuNum": 0,
        "hideHardwareSpecs": false,
        "memoryGiB": 256,
        "name": "ml.r5.8xlarge",
        "vcpuNum": 32
      },
      {
        "_defaultOrder": 44,
        "_isFastLaunch": false,
        "category": "Memory Optimized",
        "gpuNum": 0,
        "hideHardwareSpecs": false,
        "memoryGiB": 384,
        "name": "ml.r5.12xlarge",
        "vcpuNum": 48
      },
      {
        "_defaultOrder": 45,
        "_isFastLaunch": false,
        "category": "Memory Optimized",
        "gpuNum": 0,
        "hideHardwareSpecs": false,
        "memoryGiB": 512,
        "name": "ml.r5.16xlarge",
        "vcpuNum": 64
      },
      {
        "_defaultOrder": 46,
        "_isFastLaunch": false,
        "category": "Memory Optimized",
        "gpuNum": 0,
        "hideHardwareSpecs": false,
        "memoryGiB": 768,
        "name": "ml.r5.24xlarge",
        "vcpuNum": 96
      },
      {
        "_defaultOrder": 47,
        "_isFastLaunch": false,
        "category": "Accelerated computing",
        "gpuNum": 1,
        "hideHardwareSpecs": false,
        "memoryGiB": 16,
        "name": "ml.g5.xlarge",
        "vcpuNum": 4
      },
      {
        "_defaultOrder": 48,
        "_isFastLaunch": false,
        "category": "Accelerated computing",
        "gpuNum": 1,
        "hideHardwareSpecs": false,
        "memoryGiB": 32,
        "name": "ml.g5.2xlarge",
        "vcpuNum": 8
      },
      {
        "_defaultOrder": 49,
        "_isFastLaunch": false,
        "category": "Accelerated computing",
        "gpuNum": 1,
        "hideHardwareSpecs": false,
        "memoryGiB": 64,
        "name": "ml.g5.4xlarge",
        "vcpuNum": 16
      },
      {
        "_defaultOrder": 50,
        "_isFastLaunch": false,
        "category": "Accelerated computing",
        "gpuNum": 1,
        "hideHardwareSpecs": false,
        "memoryGiB": 128,
        "name": "ml.g5.8xlarge",
        "vcpuNum": 32
      },
      {
        "_defaultOrder": 51,
        "_isFastLaunch": false,
        "category": "Accelerated computing",
        "gpuNum": 1,
        "hideHardwareSpecs": false,
        "memoryGiB": 256,
        "name": "ml.g5.16xlarge",
        "vcpuNum": 64
      },
      {
        "_defaultOrder": 52,
        "_isFastLaunch": false,
        "category": "Accelerated computing",
        "gpuNum": 4,
        "hideHardwareSpecs": false,
        "memoryGiB": 192,
        "name": "ml.g5.12xlarge",
        "vcpuNum": 48
      },
      {
        "_defaultOrder": 53,
        "_isFastLaunch": false,
        "category": "Accelerated computing",
        "gpuNum": 4,
        "hideHardwareSpecs": false,
        "memoryGiB": 384,
        "name": "ml.g5.24xlarge",
        "vcpuNum": 96
      },
      {
        "_defaultOrder": 54,
        "_isFastLaunch": false,
        "category": "Accelerated computing",
        "gpuNum": 8,
        "hideHardwareSpecs": false,
        "memoryGiB": 768,
        "name": "ml.g5.48xlarge",
        "vcpuNum": 192
      },
      {
        "_defaultOrder": 55,
        "_isFastLaunch": false,
        "category": "Accelerated computing",
        "gpuNum": 8,
        "hideHardwareSpecs": false,
        "memoryGiB": 1152,
        "name": "ml.p4d.24xlarge",
        "vcpuNum": 96
      },
      {
        "_defaultOrder": 56,
        "_isFastLaunch": false,
        "category": "Accelerated computing",
        "gpuNum": 8,
        "hideHardwareSpecs": false,
        "memoryGiB": 1152,
        "name": "ml.p4de.24xlarge",
        "vcpuNum": 96
      }
    ],
    "instance_type": "ml.t3.medium",
    "kernelspec": {
      "display_name": "conda_python3",
      "language": "python",
      "name": "conda_python3"
    },
    "language_info": {
      "codemirror_mode": {
        "name": "ipython",
        "version": 3
      },
      "file_extension": ".py",
      "mimetype": "text/x-python",
      "name": "python",
      "nbconvert_exporter": "python",
      "pygments_lexer": "ipython3",
      "version": "3.10.12"
    },
    "colab": {
      "provenance": []
    }
  },
  "nbformat": 4,
  "nbformat_minor": 0
}