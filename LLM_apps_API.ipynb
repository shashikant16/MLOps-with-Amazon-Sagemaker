{
  "nbformat": 4,
  "nbformat_minor": 0,
  "metadata": {
    "colab": {
      "private_outputs": true,
      "provenance": []
    },
    "kernelspec": {
      "name": "python3",
      "display_name": "Python 3"
    },
    "language_info": {
      "name": "python"
    }
  },
  "cells": [
    {
      "cell_type": "code",
      "execution_count": null,
      "metadata": {
        "collapsed": true,
        "id": "IeFc3nyKHmHr"
      },
      "outputs": [],
      "source": [
        "!pip install openai==0.28"
      ]
    },
    {
      "cell_type": "code",
      "source": [
        "# from google.colab import userdata\n",
        "# OpenAPI_key = userdata.get('sk-proj-UkxkfPXRsqPASIWNnij1T3BlbkFJt6NNkwnYIDlykbpxjuj2') # sk-proj-UkxkfPXRsqPASIWNnij1T3BlbkFJt6NNkwnYIDlykbpxjuj2  ---- on 16th"
      ],
      "metadata": {
        "id": "kGuWnFy-Ho3b"
      },
      "execution_count": null,
      "outputs": []
    },
    {
      "cell_type": "code",
      "source": [
        "# importing openai module into your openai environment\n",
        "import openai\n",
        "\n",
        "# assigning API KEY to initialize openai environment\n",
        "openai.api_key = 'sk-proj-UkxkfPXRsqPASIWNnij1T3BlbkFJt6NNkwnYIDlykbpxjuj2'\n"
      ],
      "metadata": {
        "id": "dhuTpePneGa7"
      },
      "execution_count": null,
      "outputs": []
    },
    {
      "cell_type": "code",
      "source": [
        "Text: \"\"\"\n",
        "I work at Geeks for Geeks\n",
        "\"\"\""
      ],
      "metadata": {
        "id": "jIGsaw5HesBZ"
      },
      "execution_count": null,
      "outputs": []
    },
    {
      "cell_type": "code",
      "source": [
        "# function that takes in string argument as parameter\n",
        "def comp(PROMPT, MaxToken=50, outputs=3):\n",
        "\t# using OpenAI's Completion module that helps execute\n",
        "\t# any tasks involving text\n",
        "\tresponse = openai.Completion.create(\n",
        "\t\t# model name used here is text-davinci-003\n",
        "\t\t# there are many other models available under the\n",
        "\t\t# umbrella of GPT-3\n",
        "\t\tmodel=\"text-davinci-003\",\n",
        "\t\t# passing the user input\n",
        "\t\tprompt=PROMPT,\n",
        "\t\t# generated output can have \"max_tokens\" number of tokens\n",
        "\t\tmax_tokens=MaxToken,\n",
        "\t\t# number of outputs generated in one call\n",
        "\t\tn=outputs\n",
        "\t)\n",
        "\t# creating a list to store all the outputs\n",
        "\toutput = list()\n",
        "\tfor k in response['choices']:\n",
        "\t\toutput.append(k['text'].strip())\n",
        "\treturn output\n"
      ],
      "metadata": {
        "id": "b5V7Z222Iavw"
      },
      "execution_count": null,
      "outputs": []
    },
    {
      "cell_type": "code",
      "source": [
        "PROMPT = \"\"\"Write a story to inspire greatness, take the antagonist as a Rabbit and protagnist as turtle.\n",
        "Let antagonist and protagnist compete against each other for a common goal.\n",
        "Story should atmost have 3 lines.\"\"\"\n",
        "comp(PROMPT, MaxToken=3000, outputs=3)\n"
      ],
      "metadata": {
        "id": "8hn1HqX8fp9P"
      },
      "execution_count": null,
      "outputs": []
    },
    {
      "cell_type": "code",
      "source": [],
      "metadata": {
        "id": "KjDInsk8ftUZ"
      },
      "execution_count": null,
      "outputs": []
    }
  ]
}